{
  "cells": [
    {
      "cell_type": "markdown",
      "id": "865ca784",
      "metadata": {
        "id": "865ca784"
      },
      "source": [
        "![Python_logo](https://www.python.org/static/community_logos/python-logo-master-v3-TM.png)\n",
        "\n",
        "\n",
        "  # **Cortex Game: Round2--Probability of Giving**"
      ]
    },
    {
      "cell_type": "markdown",
      "id": "52b54409-4263-4803-9885-f1d69a1f3b09",
      "metadata": {
        "id": "52b54409-4263-4803-9885-f1d69a1f3b09"
      },
      "source": [
        "> Before playing the game, you need to connect to SASPy first.\n",
        ">\n",
        ">> If it is your first time, please follow the 4 steps mentioned below!"
      ]
    },
    {
      "cell_type": "markdown",
      "id": "498431a0-0072-4339-8518-a792a478864a",
      "metadata": {
        "id": "498431a0-0072-4339-8518-a792a478864a"
      },
      "source": [
        "***\n",
        "## **Connect to SASPy**"
      ]
    },
    {
      "cell_type": "markdown",
      "source": [
        "**0- Connect to your Google Drive folder**"
      ],
      "metadata": {
        "id": "wklm3_kO-yEX"
      },
      "id": "wklm3_kO-yEX"
    },
    {
      "cell_type": "code",
      "source": [
        "my_folder = \"/content/drive/MyDrive/cortex\"\n",
        "\n",
        "from google.colab import drive\n",
        "drive.mount('/content/drive')\n",
        "\n",
        "# Change the following code to set your Drive folder\n",
        "import os\n",
        "os.chdir(my_folder)\n",
        "!pwd"
      ],
      "metadata": {
        "colab": {
          "base_uri": "https://localhost:8080/"
        },
        "id": "nsGtgYqa-xhc",
        "outputId": "99a268e6-f9b4-4a43-f04d-7b8c2645f480"
      },
      "id": "nsGtgYqa-xhc",
      "execution_count": 1,
      "outputs": [
        {
          "output_type": "stream",
          "name": "stdout",
          "text": [
            "Mounted at /content/drive\n",
            "/content/drive/MyDrive/cortex\n"
          ]
        }
      ]
    },
    {
      "cell_type": "markdown",
      "id": "20c560d8-417b-46d4-8a08-25ed51675d51",
      "metadata": {
        "id": "20c560d8-417b-46d4-8a08-25ed51675d51"
      },
      "source": [
        "**1- Make sure that your Python version is 3.3 or higher as well as your Java version is 1.8.0_162 or higher**"
      ]
    },
    {
      "cell_type": "code",
      "execution_count": 2,
      "id": "391078cc-a49b-4d15-a6f0-f09729e12b03",
      "metadata": {
        "collapsed": true,
        "colab": {
          "base_uri": "https://localhost:8080/"
        },
        "id": "391078cc-a49b-4d15-a6f0-f09729e12b03",
        "outputId": "826cac92-773f-4b64-8b66-06f416a33642"
      },
      "outputs": [
        {
          "output_type": "stream",
          "name": "stdout",
          "text": [
            "Python is at /usr/local/bin/python\n",
            "Python 3.8.15\n"
          ]
        }
      ],
      "source": [
        "!echo \"Python is at\" $(which python)\n",
        "!python --version"
      ]
    },
    {
      "cell_type": "code",
      "source": [
        "!echo \"Java is at\" $(which java)\n",
        "!/usr/bin/java -version"
      ],
      "metadata": {
        "colab": {
          "base_uri": "https://localhost:8080/"
        },
        "id": "HL4iO5Cr-327",
        "outputId": "a38e456a-c815-42ea-f20f-9d0ea51252e4"
      },
      "id": "HL4iO5Cr-327",
      "execution_count": 3,
      "outputs": [
        {
          "output_type": "stream",
          "name": "stdout",
          "text": [
            "Java is at /usr/bin/java\n",
            "openjdk version \"11.0.17\" 2022-10-18\n",
            "OpenJDK Runtime Environment (build 11.0.17+8-post-Ubuntu-1ubuntu218.04)\n",
            "OpenJDK 64-Bit Server VM (build 11.0.17+8-post-Ubuntu-1ubuntu218.04, mixed mode, sharing)\n"
          ]
        }
      ]
    },
    {
      "cell_type": "markdown",
      "id": "7841f1b0-4f5e-442b-a9f4-e4e9de14febc",
      "metadata": {
        "id": "7841f1b0-4f5e-442b-a9f4-e4e9de14febc"
      },
      "source": [
        "**2- Install SASPy**"
      ]
    },
    {
      "cell_type": "code",
      "execution_count": 4,
      "id": "9e7302de-3448-4cd0-be20-e8d061754f23",
      "metadata": {
        "collapsed": true,
        "colab": {
          "base_uri": "https://localhost:8080/"
        },
        "id": "9e7302de-3448-4cd0-be20-e8d061754f23",
        "outputId": "845cc60d-3cf8-41bf-a98f-02432018c30b"
      },
      "outputs": [
        {
          "output_type": "stream",
          "name": "stdout",
          "text": [
            "Looking in indexes: https://pypi.org/simple, https://us-python.pkg.dev/colab-wheels/public/simple/\n",
            "Collecting saspy\n",
            "  Downloading saspy-4.4.1.tar.gz (9.9 MB)\n",
            "\u001b[K     |████████████████████████████████| 9.9 MB 4.6 MB/s \n",
            "\u001b[?25hBuilding wheels for collected packages: saspy\n",
            "  Building wheel for saspy (setup.py) ... \u001b[?25l\u001b[?25hdone\n",
            "  Created wheel for saspy: filename=saspy-4.4.1-py3-none-any.whl size=9937304 sha256=f9176f97bba3465fafeecbf6979a5d7d69d9a341fb03a28b8fd5180dfc0a366d\n",
            "  Stored in directory: /root/.cache/pip/wheels/0a/f6/ab/f7173c8a824856c66f6fd50194bb8fd3ef93fb4f1824be8d0c\n",
            "Successfully built saspy\n",
            "Installing collected packages: saspy\n",
            "Successfully installed saspy-4.4.1\n"
          ]
        }
      ],
      "source": [
        "pip install saspy"
      ]
    },
    {
      "cell_type": "markdown",
      "source": [
        "**3- Create the configuration file \"sascfg_personal.py\"**\n",
        "Please, check that your Home Region is correct, you can check it at [ODA-SAS](https://welcome.oda.sas.com/home)"
      ],
      "metadata": {
        "id": "JxXWvrH1_DPU"
      },
      "id": "JxXWvrH1_DPU"
    },
    {
      "cell_type": "code",
      "source": [
        "%%writefile sascfg_personal.py\n",
        "SAS_config_names=['oda']\n",
        "oda = {'java' : '/usr/bin/java',\n",
        "#US Home Region 1\n",
        "#'iomhost' : ['odaws01-usw2.oda.sas.com','odaws02-usw2.oda.sas.com','odaws03-usw2.oda.sas.com','odaws04-usw2.oda.sas.com'],\n",
        "#US Home Region 2\n",
        "'iomhost' : ['odaws01-usw2-2.oda.sas.com','odaws02-usw2-2.oda.sas.com'],\n",
        "#European Home Region 1\n",
        "#'iomhost' : ['odaws01-euw1.oda.sas.com','odaws02-euw1.oda.sas.com'],\n",
        "#Asia Pacific Home Region 1\n",
        "#'iomhost' : ['odaws01-apse1.oda.sas.com','odaws02-apse1.oda.sas.com'],\n",
        "#Asia Pacific Home Region 2\n",
        "#'iomhost' : ['odaws01-apse1-2.oda.sas.com','odaws02-apse1-2.oda.sas.com'],\n",
        "'iomport' : 8591,\n",
        "'authkey' : 'oda',\n",
        "'encoding' : 'utf-8'\n",
        "}"
      ],
      "metadata": {
        "colab": {
          "base_uri": "https://localhost:8080/"
        },
        "id": "XAc195ZR_D6R",
        "outputId": "6683bfc1-3d96-4a9a-a74c-9ebc17009a7f"
      },
      "id": "XAc195ZR_D6R",
      "execution_count": 5,
      "outputs": [
        {
          "output_type": "stream",
          "name": "stdout",
          "text": [
            "Overwriting sascfg_personal.py\n"
          ]
        }
      ]
    },
    {
      "cell_type": "markdown",
      "source": [
        "**4- Create your .authinfo**"
      ],
      "metadata": {
        "id": "X3cLeAQ8_MyW"
      },
      "id": "X3cLeAQ8_MyW"
    },
    {
      "cell_type": "markdown",
      "source": [
        "If there is no .authinfo file, you can create this"
      ],
      "metadata": {
        "id": "Gp0qqLmX_PIW"
      },
      "id": "Gp0qqLmX_PIW"
    },
    {
      "cell_type": "code",
      "source": [
        "#%%writefile .authinfo\n",
        "#oda user USR password PSW"
      ],
      "metadata": {
        "id": "gmCfRzb__Or-"
      },
      "id": "gmCfRzb__Or-",
      "execution_count": 6,
      "outputs": []
    },
    {
      "cell_type": "markdown",
      "source": [
        "Copy this file to home"
      ],
      "metadata": {
        "id": "GC0E0Ja__Xk2"
      },
      "id": "GC0E0Ja__Xk2"
    },
    {
      "cell_type": "code",
      "source": [
        "!cp .authinfo ~/.authinfo"
      ],
      "metadata": {
        "id": "-OWv6NVf_XIq"
      },
      "id": "-OWv6NVf_XIq",
      "execution_count": 7,
      "outputs": []
    },
    {
      "cell_type": "markdown",
      "id": "0960ac70-8d02-4ba5-a115-f6233f713214",
      "metadata": {
        "id": "0960ac70-8d02-4ba5-a115-f6233f713214"
      },
      "source": [
        "**5- Establish Connection (Need to do this step each time you use SASPy)**"
      ]
    },
    {
      "cell_type": "code",
      "execution_count": 8,
      "id": "7e45b4e0-ab05-4aae-9e7b-56742870da33",
      "metadata": {
        "collapsed": true,
        "colab": {
          "base_uri": "https://localhost:8080/"
        },
        "id": "7e45b4e0-ab05-4aae-9e7b-56742870da33",
        "outputId": "eb6b919d-1938-4cc8-cf34-818c72707035"
      },
      "outputs": [
        {
          "output_type": "stream",
          "name": "stdout",
          "text": [
            "Using SAS Config named: oda\n",
            "SAS Connection established. Subprocess id is 352\n",
            "\n"
          ]
        },
        {
          "output_type": "execute_result",
          "data": {
            "text/plain": [
              "Access Method         = IOM\n",
              "SAS Config name       = oda\n",
              "SAS Config file       = /content/drive/MyDrive/cortex/sascfg_personal.py\n",
              "WORK Path             = /saswork/SAS_workA4FF0001D006_odaws01-usw2-2.oda.sas.com/SAS_work08C80001D006_odaws01-usw2-2.oda.sas.com/\n",
              "SAS Version           = 9.04.01M6P11072018\n",
              "SASPy Version         = 4.4.1\n",
              "Teach me SAS          = False\n",
              "Batch                 = False\n",
              "Results               = Pandas\n",
              "SAS Session Encoding  = utf-8\n",
              "Python Encoding value = utf-8\n",
              "SAS process Pid value = 118790\n"
            ]
          },
          "metadata": {},
          "execution_count": 8
        }
      ],
      "source": [
        "import saspy\n",
        "sas_session = saspy.SASsession(cfgfile=os.path.join(\n",
        "    my_folder,\"sascfg_personal.py\"))\n",
        "sas_session"
      ]
    },
    {
      "cell_type": "markdown",
      "id": "c472cd92-026b-439e-bf51-6130edda29e2",
      "metadata": {
        "id": "c472cd92-026b-439e-bf51-6130edda29e2"
      },
      "source": [
        "***\n",
        "## Connect to Cortex Data Sets"
      ]
    },
    {
      "cell_type": "markdown",
      "id": "819d3592",
      "metadata": {
        "id": "819d3592"
      },
      "source": [
        "Load Cortex datasets from SAS Studio"
      ]
    },
    {
      "cell_type": "code",
      "source": [
        "ps = sas_session.submit(\"\"\"\n",
        "    libname cortex '~/my_shared_file_links/u39842936/Cortex Data Sets';\n",
        "    \"\"\")\n",
        "print(ps[\"LOG\"])"
      ],
      "metadata": {
        "colab": {
          "base_uri": "https://localhost:8080/"
        },
        "id": "42aSHvucBTUG",
        "outputId": "8b481d44-0c91-42d2-fe23-119f86aa6d54"
      },
      "id": "42aSHvucBTUG",
      "execution_count": 9,
      "outputs": [
        {
          "output_type": "stream",
          "name": "stdout",
          "text": [
            "\n",
            "5                                                          The SAS System                    Saturday, December  3, 2022 05:01:00 AM\n",
            "\n",
            "24         ods listing close;ods html5 (id=saspy_internal) file=_tomods1 options(bitmap_mode='inline') device=svg style=HTMLBlue;\n",
            "24       ! ods graphics on / outputfmt=png;\n",
            "25         \n",
            "26         \n",
            "27             libname cortex '~/my_shared_file_links/u39842936/Cortex Data Sets';\n",
            "28         \n",
            "29         \n",
            "30         \n",
            "31         ods html5 (id=saspy_internal) close;ods listing;\n",
            "32         \n",
            "\n",
            "6                                                          The SAS System                    Saturday, December  3, 2022 05:01:00 AM\n",
            "\n",
            "33         \n"
          ]
        }
      ]
    },
    {
      "cell_type": "markdown",
      "source": [
        "For local Jupyter"
      ],
      "metadata": {
        "id": "OXdrRaB_BX-_"
      },
      "id": "OXdrRaB_BX-_"
    },
    {
      "cell_type": "markdown",
      "id": "bb730ee9",
      "metadata": {
        "id": "bb730ee9"
      },
      "source": [
        "### Transform cloud SAS dataset to Python dataframe (pandas)\n",
        "\n",
        "For reference: \n",
        "\n",
        "1. [Pandas library](https://pandas.pydata.org/docs/user_guide/index.html)\n",
        "\n",
        "\n",
        "2. [sklearn.model_selection for data partition](https://scikit-learn.org/stable/modules/generated/sklearn.model_selection.train_test_split.html)"
      ]
    },
    {
      "cell_type": "code",
      "execution_count": 10,
      "id": "f298efcc",
      "metadata": {
        "id": "f298efcc"
      },
      "outputs": [],
      "source": [
        "import pandas as pd\n",
        "\n",
        "data1 = sas_session.sasdata2dataframe(\n",
        "table='hist',\n",
        "libref='cortex'\n",
        ")\n",
        "\n",
        "data2 = sas_session.sasdata2dataframe(\n",
        "table='target_rd2',\n",
        "libref='cortex'\n",
        ")"
      ]
    },
    {
      "cell_type": "markdown",
      "id": "beaff555-bf37-42fe-8e66-69718409b295",
      "metadata": {
        "id": "beaff555-bf37-42fe-8e66-69718409b295"
      },
      "source": [
        "## Merge the Data"
      ]
    },
    {
      "cell_type": "code",
      "execution_count": 11,
      "id": "419ef624",
      "metadata": {
        "collapsed": true,
        "colab": {
          "base_uri": "https://localhost:8080/",
          "height": 240
        },
        "id": "419ef624",
        "outputId": "89053a36-0e1c-4d2e-fdde-335a71878aab"
      },
      "outputs": [
        {
          "output_type": "execute_result",
          "data": {
            "text/plain": [
              "               ID LastName FirstName  Woman   Age   Salary  \\\n",
              "571984  2571985.0   HICKEY     LYDIA    1.0  51.0  21300.0   \n",
              "5621    2005622.0    GARZA   ANTHONY    0.0  32.0  66800.0   \n",
              "\n",
              "                   Education   City  SeniorList  NbActivities  ...  Frequency  \\\n",
              "571984  University / College   City        10.0           1.0  ...        2.0   \n",
              "5621    University / College  Rural         0.0           0.0  ...        NaN   \n",
              "\n",
              "        Seniority  TotalGift  MinGift  MaxGift  GaveLastYear  AmtLastYear  \\\n",
              "571984       10.0       30.0     10.0     20.0           0.0          0.0   \n",
              "5621          NaN        NaN      NaN      NaN           1.0         20.0   \n",
              "\n",
              "        Contact  GaveThisYear  AmtThisYear  \n",
              "571984      0.0           0.0          0.0  \n",
              "5621        0.0           0.0          0.0  \n",
              "\n",
              "[2 rows x 22 columns]"
            ],
            "text/html": [
              "\n",
              "  <div id=\"df-8af32373-1784-4646-a4ee-8b0727653632\">\n",
              "    <div class=\"colab-df-container\">\n",
              "      <div>\n",
              "<style scoped>\n",
              "    .dataframe tbody tr th:only-of-type {\n",
              "        vertical-align: middle;\n",
              "    }\n",
              "\n",
              "    .dataframe tbody tr th {\n",
              "        vertical-align: top;\n",
              "    }\n",
              "\n",
              "    .dataframe thead th {\n",
              "        text-align: right;\n",
              "    }\n",
              "</style>\n",
              "<table border=\"1\" class=\"dataframe\">\n",
              "  <thead>\n",
              "    <tr style=\"text-align: right;\">\n",
              "      <th></th>\n",
              "      <th>ID</th>\n",
              "      <th>LastName</th>\n",
              "      <th>FirstName</th>\n",
              "      <th>Woman</th>\n",
              "      <th>Age</th>\n",
              "      <th>Salary</th>\n",
              "      <th>Education</th>\n",
              "      <th>City</th>\n",
              "      <th>SeniorList</th>\n",
              "      <th>NbActivities</th>\n",
              "      <th>...</th>\n",
              "      <th>Frequency</th>\n",
              "      <th>Seniority</th>\n",
              "      <th>TotalGift</th>\n",
              "      <th>MinGift</th>\n",
              "      <th>MaxGift</th>\n",
              "      <th>GaveLastYear</th>\n",
              "      <th>AmtLastYear</th>\n",
              "      <th>Contact</th>\n",
              "      <th>GaveThisYear</th>\n",
              "      <th>AmtThisYear</th>\n",
              "    </tr>\n",
              "  </thead>\n",
              "  <tbody>\n",
              "    <tr>\n",
              "      <th>571984</th>\n",
              "      <td>2571985.0</td>\n",
              "      <td>HICKEY</td>\n",
              "      <td>LYDIA</td>\n",
              "      <td>1.0</td>\n",
              "      <td>51.0</td>\n",
              "      <td>21300.0</td>\n",
              "      <td>University / College</td>\n",
              "      <td>City</td>\n",
              "      <td>10.0</td>\n",
              "      <td>1.0</td>\n",
              "      <td>...</td>\n",
              "      <td>2.0</td>\n",
              "      <td>10.0</td>\n",
              "      <td>30.0</td>\n",
              "      <td>10.0</td>\n",
              "      <td>20.0</td>\n",
              "      <td>0.0</td>\n",
              "      <td>0.0</td>\n",
              "      <td>0.0</td>\n",
              "      <td>0.0</td>\n",
              "      <td>0.0</td>\n",
              "    </tr>\n",
              "    <tr>\n",
              "      <th>5621</th>\n",
              "      <td>2005622.0</td>\n",
              "      <td>GARZA</td>\n",
              "      <td>ANTHONY</td>\n",
              "      <td>0.0</td>\n",
              "      <td>32.0</td>\n",
              "      <td>66800.0</td>\n",
              "      <td>University / College</td>\n",
              "      <td>Rural</td>\n",
              "      <td>0.0</td>\n",
              "      <td>0.0</td>\n",
              "      <td>...</td>\n",
              "      <td>NaN</td>\n",
              "      <td>NaN</td>\n",
              "      <td>NaN</td>\n",
              "      <td>NaN</td>\n",
              "      <td>NaN</td>\n",
              "      <td>1.0</td>\n",
              "      <td>20.0</td>\n",
              "      <td>0.0</td>\n",
              "      <td>0.0</td>\n",
              "      <td>0.0</td>\n",
              "    </tr>\n",
              "  </tbody>\n",
              "</table>\n",
              "<p>2 rows × 22 columns</p>\n",
              "</div>\n",
              "      <button class=\"colab-df-convert\" onclick=\"convertToInteractive('df-8af32373-1784-4646-a4ee-8b0727653632')\"\n",
              "              title=\"Convert this dataframe to an interactive table.\"\n",
              "              style=\"display:none;\">\n",
              "        \n",
              "  <svg xmlns=\"http://www.w3.org/2000/svg\" height=\"24px\"viewBox=\"0 0 24 24\"\n",
              "       width=\"24px\">\n",
              "    <path d=\"M0 0h24v24H0V0z\" fill=\"none\"/>\n",
              "    <path d=\"M18.56 5.44l.94 2.06.94-2.06 2.06-.94-2.06-.94-.94-2.06-.94 2.06-2.06.94zm-11 1L8.5 8.5l.94-2.06 2.06-.94-2.06-.94L8.5 2.5l-.94 2.06-2.06.94zm10 10l.94 2.06.94-2.06 2.06-.94-2.06-.94-.94-2.06-.94 2.06-2.06.94z\"/><path d=\"M17.41 7.96l-1.37-1.37c-.4-.4-.92-.59-1.43-.59-.52 0-1.04.2-1.43.59L10.3 9.45l-7.72 7.72c-.78.78-.78 2.05 0 2.83L4 21.41c.39.39.9.59 1.41.59.51 0 1.02-.2 1.41-.59l7.78-7.78 2.81-2.81c.8-.78.8-2.07 0-2.86zM5.41 20L4 18.59l7.72-7.72 1.47 1.35L5.41 20z\"/>\n",
              "  </svg>\n",
              "      </button>\n",
              "      \n",
              "  <style>\n",
              "    .colab-df-container {\n",
              "      display:flex;\n",
              "      flex-wrap:wrap;\n",
              "      gap: 12px;\n",
              "    }\n",
              "\n",
              "    .colab-df-convert {\n",
              "      background-color: #E8F0FE;\n",
              "      border: none;\n",
              "      border-radius: 50%;\n",
              "      cursor: pointer;\n",
              "      display: none;\n",
              "      fill: #1967D2;\n",
              "      height: 32px;\n",
              "      padding: 0 0 0 0;\n",
              "      width: 32px;\n",
              "    }\n",
              "\n",
              "    .colab-df-convert:hover {\n",
              "      background-color: #E2EBFA;\n",
              "      box-shadow: 0px 1px 2px rgba(60, 64, 67, 0.3), 0px 1px 3px 1px rgba(60, 64, 67, 0.15);\n",
              "      fill: #174EA6;\n",
              "    }\n",
              "\n",
              "    [theme=dark] .colab-df-convert {\n",
              "      background-color: #3B4455;\n",
              "      fill: #D2E3FC;\n",
              "    }\n",
              "\n",
              "    [theme=dark] .colab-df-convert:hover {\n",
              "      background-color: #434B5C;\n",
              "      box-shadow: 0px 1px 3px 1px rgba(0, 0, 0, 0.15);\n",
              "      filter: drop-shadow(0px 1px 2px rgba(0, 0, 0, 0.3));\n",
              "      fill: #FFFFFF;\n",
              "    }\n",
              "  </style>\n",
              "\n",
              "      <script>\n",
              "        const buttonEl =\n",
              "          document.querySelector('#df-8af32373-1784-4646-a4ee-8b0727653632 button.colab-df-convert');\n",
              "        buttonEl.style.display =\n",
              "          google.colab.kernel.accessAllowed ? 'block' : 'none';\n",
              "\n",
              "        async function convertToInteractive(key) {\n",
              "          const element = document.querySelector('#df-8af32373-1784-4646-a4ee-8b0727653632');\n",
              "          const dataTable =\n",
              "            await google.colab.kernel.invokeFunction('convertToInteractive',\n",
              "                                                     [key], {});\n",
              "          if (!dataTable) return;\n",
              "\n",
              "          const docLinkHtml = 'Like what you see? Visit the ' +\n",
              "            '<a target=\"_blank\" href=https://colab.research.google.com/notebooks/data_table.ipynb>data table notebook</a>'\n",
              "            + ' to learn more about interactive tables.';\n",
              "          element.innerHTML = '';\n",
              "          dataTable['output_type'] = 'display_data';\n",
              "          await google.colab.output.renderOutput(dataTable, element);\n",
              "          const docLink = document.createElement('div');\n",
              "          docLink.innerHTML = docLinkHtml;\n",
              "          element.appendChild(docLink);\n",
              "        }\n",
              "      </script>\n",
              "    </div>\n",
              "  </div>\n",
              "  "
            ]
          },
          "metadata": {},
          "execution_count": 11
        }
      ],
      "source": [
        "data_merge = pd.merge(data1, data2, on=[\"ID\"],how=\"right\")\n",
        "data_merge.sample(2)"
      ]
    },
    {
      "cell_type": "markdown",
      "source": [
        "## Exploration"
      ],
      "metadata": {
        "id": "K6Csn-AtVzb3"
      },
      "id": "K6Csn-AtVzb3"
    },
    {
      "cell_type": "code",
      "source": [
        "data_merge.info()"
      ],
      "metadata": {
        "colab": {
          "base_uri": "https://localhost:8080/"
        },
        "id": "ixcIsT4DROEU",
        "outputId": "c14376a1-9b31-4536-b995-725eb0a1e8d4"
      },
      "id": "ixcIsT4DROEU",
      "execution_count": 12,
      "outputs": [
        {
          "output_type": "stream",
          "name": "stdout",
          "text": [
            "<class 'pandas.core.frame.DataFrame'>\n",
            "Int64Index: 1000000 entries, 0 to 999999\n",
            "Data columns (total 22 columns):\n",
            " #   Column        Non-Null Count    Dtype  \n",
            "---  ------        --------------    -----  \n",
            " 0   ID            1000000 non-null  float64\n",
            " 1   LastName      999977 non-null   object \n",
            " 2   FirstName     999996 non-null   object \n",
            " 3   Woman         1000000 non-null  float64\n",
            " 4   Age           1000000 non-null  float64\n",
            " 5   Salary        1000000 non-null  float64\n",
            " 6   Education     1000000 non-null  object \n",
            " 7   City          1000000 non-null  object \n",
            " 8   SeniorList    1000000 non-null  float64\n",
            " 9   NbActivities  1000000 non-null  float64\n",
            " 10  Referrals     1000000 non-null  float64\n",
            " 11  Recency       336334 non-null   float64\n",
            " 12  Frequency     336334 non-null   float64\n",
            " 13  Seniority     336334 non-null   float64\n",
            " 14  TotalGift     336334 non-null   float64\n",
            " 15  MinGift       336334 non-null   float64\n",
            " 16  MaxGift       336334 non-null   float64\n",
            " 17  GaveLastYear  1000000 non-null  float64\n",
            " 18  AmtLastYear   1000000 non-null  float64\n",
            " 19  Contact       1000000 non-null  float64\n",
            " 20  GaveThisYear  1000000 non-null  float64\n",
            " 21  AmtThisYear   1000000 non-null  float64\n",
            "dtypes: float64(18), object(4)\n",
            "memory usage: 175.5+ MB\n"
          ]
        }
      ]
    },
    {
      "cell_type": "code",
      "source": [
        "data_merge.describe()"
      ],
      "metadata": {
        "colab": {
          "base_uri": "https://localhost:8080/",
          "height": 364
        },
        "id": "6viX_AFqV82U",
        "outputId": "057bb249-6556-4e80-961c-f6422bb59a6a"
      },
      "id": "6viX_AFqV82U",
      "execution_count": 13,
      "outputs": [
        {
          "output_type": "execute_result",
          "data": {
            "text/plain": [
              "                 ID           Woman             Age          Salary  \\\n",
              "count  1.000000e+06  1000000.000000  1000000.000000  1000000.000000   \n",
              "mean   2.500000e+06        0.516936       46.366170    65531.654000   \n",
              "std    2.886753e+05        0.499713       18.945324    61051.122343   \n",
              "min    2.000001e+06        0.000000       16.000000        0.000000   \n",
              "25%    2.250001e+06        0.000000       30.000000    20700.000000   \n",
              "50%    2.500000e+06        1.000000       46.000000    44000.000000   \n",
              "75%    2.750000e+06        1.000000       61.000000    91200.000000   \n",
              "max    3.000000e+06        1.000000       90.000000   250000.000000   \n",
              "\n",
              "           SeniorList    NbActivities       Referrals        Recency  \\\n",
              "count  1000000.000000  1000000.000000  1000000.000000  336334.000000   \n",
              "mean         4.582967        0.561413        0.560556       3.039636   \n",
              "std          3.325844        0.996803        1.054027       2.120722   \n",
              "min          0.000000        0.000000        0.000000       1.000000   \n",
              "25%          2.000000        0.000000        0.000000       1.000000   \n",
              "50%          4.000000        0.000000        0.000000       2.000000   \n",
              "75%          7.000000        1.000000        1.000000       4.000000   \n",
              "max         10.000000       10.000000       16.000000      10.000000   \n",
              "\n",
              "           Frequency      Seniority      TotalGift        MinGift  \\\n",
              "count  336334.000000  336334.000000  336334.000000  336334.000000   \n",
              "mean        1.666882       4.474148     104.454055      43.130251   \n",
              "std         1.052090       2.588119     303.760477     150.249476   \n",
              "min         1.000000       1.000000      10.000000      10.000000   \n",
              "25%         1.000000       2.000000      20.000000      15.000000   \n",
              "50%         1.000000       4.000000      40.000000      20.000000   \n",
              "75%         2.000000       6.000000      90.000000      30.000000   \n",
              "max        10.000000      10.000000   15150.000000   10000.000000   \n",
              "\n",
              "             MaxGift    GaveLastYear     AmtLastYear    Contact  \\\n",
              "count  336334.000000  1000000.000000  1000000.000000  1000000.0   \n",
              "mean       85.897932        0.122101        7.673015        0.1   \n",
              "std       283.581066        0.327403       82.224854        0.3   \n",
              "min        10.000000        0.000000        0.000000        0.0   \n",
              "25%        20.000000        0.000000        0.000000        0.0   \n",
              "50%        30.000000        0.000000        0.000000        0.0   \n",
              "75%        75.000000        0.000000        0.000000        0.0   \n",
              "max     10000.000000        1.000000    10000.000000        1.0   \n",
              "\n",
              "         GaveThisYear     AmtThisYear  \n",
              "count  1000000.000000  1000000.000000  \n",
              "mean         0.149457        9.409665  \n",
              "std          0.356539       90.917731  \n",
              "min          0.000000        0.000000  \n",
              "25%          0.000000        0.000000  \n",
              "50%          0.000000        0.000000  \n",
              "75%          0.000000        0.000000  \n",
              "max          1.000000    10000.000000  "
            ],
            "text/html": [
              "\n",
              "  <div id=\"df-e16b35c2-389a-4e1a-99de-4d2db65c470b\">\n",
              "    <div class=\"colab-df-container\">\n",
              "      <div>\n",
              "<style scoped>\n",
              "    .dataframe tbody tr th:only-of-type {\n",
              "        vertical-align: middle;\n",
              "    }\n",
              "\n",
              "    .dataframe tbody tr th {\n",
              "        vertical-align: top;\n",
              "    }\n",
              "\n",
              "    .dataframe thead th {\n",
              "        text-align: right;\n",
              "    }\n",
              "</style>\n",
              "<table border=\"1\" class=\"dataframe\">\n",
              "  <thead>\n",
              "    <tr style=\"text-align: right;\">\n",
              "      <th></th>\n",
              "      <th>ID</th>\n",
              "      <th>Woman</th>\n",
              "      <th>Age</th>\n",
              "      <th>Salary</th>\n",
              "      <th>SeniorList</th>\n",
              "      <th>NbActivities</th>\n",
              "      <th>Referrals</th>\n",
              "      <th>Recency</th>\n",
              "      <th>Frequency</th>\n",
              "      <th>Seniority</th>\n",
              "      <th>TotalGift</th>\n",
              "      <th>MinGift</th>\n",
              "      <th>MaxGift</th>\n",
              "      <th>GaveLastYear</th>\n",
              "      <th>AmtLastYear</th>\n",
              "      <th>Contact</th>\n",
              "      <th>GaveThisYear</th>\n",
              "      <th>AmtThisYear</th>\n",
              "    </tr>\n",
              "  </thead>\n",
              "  <tbody>\n",
              "    <tr>\n",
              "      <th>count</th>\n",
              "      <td>1.000000e+06</td>\n",
              "      <td>1000000.000000</td>\n",
              "      <td>1000000.000000</td>\n",
              "      <td>1000000.000000</td>\n",
              "      <td>1000000.000000</td>\n",
              "      <td>1000000.000000</td>\n",
              "      <td>1000000.000000</td>\n",
              "      <td>336334.000000</td>\n",
              "      <td>336334.000000</td>\n",
              "      <td>336334.000000</td>\n",
              "      <td>336334.000000</td>\n",
              "      <td>336334.000000</td>\n",
              "      <td>336334.000000</td>\n",
              "      <td>1000000.000000</td>\n",
              "      <td>1000000.000000</td>\n",
              "      <td>1000000.0</td>\n",
              "      <td>1000000.000000</td>\n",
              "      <td>1000000.000000</td>\n",
              "    </tr>\n",
              "    <tr>\n",
              "      <th>mean</th>\n",
              "      <td>2.500000e+06</td>\n",
              "      <td>0.516936</td>\n",
              "      <td>46.366170</td>\n",
              "      <td>65531.654000</td>\n",
              "      <td>4.582967</td>\n",
              "      <td>0.561413</td>\n",
              "      <td>0.560556</td>\n",
              "      <td>3.039636</td>\n",
              "      <td>1.666882</td>\n",
              "      <td>4.474148</td>\n",
              "      <td>104.454055</td>\n",
              "      <td>43.130251</td>\n",
              "      <td>85.897932</td>\n",
              "      <td>0.122101</td>\n",
              "      <td>7.673015</td>\n",
              "      <td>0.1</td>\n",
              "      <td>0.149457</td>\n",
              "      <td>9.409665</td>\n",
              "    </tr>\n",
              "    <tr>\n",
              "      <th>std</th>\n",
              "      <td>2.886753e+05</td>\n",
              "      <td>0.499713</td>\n",
              "      <td>18.945324</td>\n",
              "      <td>61051.122343</td>\n",
              "      <td>3.325844</td>\n",
              "      <td>0.996803</td>\n",
              "      <td>1.054027</td>\n",
              "      <td>2.120722</td>\n",
              "      <td>1.052090</td>\n",
              "      <td>2.588119</td>\n",
              "      <td>303.760477</td>\n",
              "      <td>150.249476</td>\n",
              "      <td>283.581066</td>\n",
              "      <td>0.327403</td>\n",
              "      <td>82.224854</td>\n",
              "      <td>0.3</td>\n",
              "      <td>0.356539</td>\n",
              "      <td>90.917731</td>\n",
              "    </tr>\n",
              "    <tr>\n",
              "      <th>min</th>\n",
              "      <td>2.000001e+06</td>\n",
              "      <td>0.000000</td>\n",
              "      <td>16.000000</td>\n",
              "      <td>0.000000</td>\n",
              "      <td>0.000000</td>\n",
              "      <td>0.000000</td>\n",
              "      <td>0.000000</td>\n",
              "      <td>1.000000</td>\n",
              "      <td>1.000000</td>\n",
              "      <td>1.000000</td>\n",
              "      <td>10.000000</td>\n",
              "      <td>10.000000</td>\n",
              "      <td>10.000000</td>\n",
              "      <td>0.000000</td>\n",
              "      <td>0.000000</td>\n",
              "      <td>0.0</td>\n",
              "      <td>0.000000</td>\n",
              "      <td>0.000000</td>\n",
              "    </tr>\n",
              "    <tr>\n",
              "      <th>25%</th>\n",
              "      <td>2.250001e+06</td>\n",
              "      <td>0.000000</td>\n",
              "      <td>30.000000</td>\n",
              "      <td>20700.000000</td>\n",
              "      <td>2.000000</td>\n",
              "      <td>0.000000</td>\n",
              "      <td>0.000000</td>\n",
              "      <td>1.000000</td>\n",
              "      <td>1.000000</td>\n",
              "      <td>2.000000</td>\n",
              "      <td>20.000000</td>\n",
              "      <td>15.000000</td>\n",
              "      <td>20.000000</td>\n",
              "      <td>0.000000</td>\n",
              "      <td>0.000000</td>\n",
              "      <td>0.0</td>\n",
              "      <td>0.000000</td>\n",
              "      <td>0.000000</td>\n",
              "    </tr>\n",
              "    <tr>\n",
              "      <th>50%</th>\n",
              "      <td>2.500000e+06</td>\n",
              "      <td>1.000000</td>\n",
              "      <td>46.000000</td>\n",
              "      <td>44000.000000</td>\n",
              "      <td>4.000000</td>\n",
              "      <td>0.000000</td>\n",
              "      <td>0.000000</td>\n",
              "      <td>2.000000</td>\n",
              "      <td>1.000000</td>\n",
              "      <td>4.000000</td>\n",
              "      <td>40.000000</td>\n",
              "      <td>20.000000</td>\n",
              "      <td>30.000000</td>\n",
              "      <td>0.000000</td>\n",
              "      <td>0.000000</td>\n",
              "      <td>0.0</td>\n",
              "      <td>0.000000</td>\n",
              "      <td>0.000000</td>\n",
              "    </tr>\n",
              "    <tr>\n",
              "      <th>75%</th>\n",
              "      <td>2.750000e+06</td>\n",
              "      <td>1.000000</td>\n",
              "      <td>61.000000</td>\n",
              "      <td>91200.000000</td>\n",
              "      <td>7.000000</td>\n",
              "      <td>1.000000</td>\n",
              "      <td>1.000000</td>\n",
              "      <td>4.000000</td>\n",
              "      <td>2.000000</td>\n",
              "      <td>6.000000</td>\n",
              "      <td>90.000000</td>\n",
              "      <td>30.000000</td>\n",
              "      <td>75.000000</td>\n",
              "      <td>0.000000</td>\n",
              "      <td>0.000000</td>\n",
              "      <td>0.0</td>\n",
              "      <td>0.000000</td>\n",
              "      <td>0.000000</td>\n",
              "    </tr>\n",
              "    <tr>\n",
              "      <th>max</th>\n",
              "      <td>3.000000e+06</td>\n",
              "      <td>1.000000</td>\n",
              "      <td>90.000000</td>\n",
              "      <td>250000.000000</td>\n",
              "      <td>10.000000</td>\n",
              "      <td>10.000000</td>\n",
              "      <td>16.000000</td>\n",
              "      <td>10.000000</td>\n",
              "      <td>10.000000</td>\n",
              "      <td>10.000000</td>\n",
              "      <td>15150.000000</td>\n",
              "      <td>10000.000000</td>\n",
              "      <td>10000.000000</td>\n",
              "      <td>1.000000</td>\n",
              "      <td>10000.000000</td>\n",
              "      <td>1.0</td>\n",
              "      <td>1.000000</td>\n",
              "      <td>10000.000000</td>\n",
              "    </tr>\n",
              "  </tbody>\n",
              "</table>\n",
              "</div>\n",
              "      <button class=\"colab-df-convert\" onclick=\"convertToInteractive('df-e16b35c2-389a-4e1a-99de-4d2db65c470b')\"\n",
              "              title=\"Convert this dataframe to an interactive table.\"\n",
              "              style=\"display:none;\">\n",
              "        \n",
              "  <svg xmlns=\"http://www.w3.org/2000/svg\" height=\"24px\"viewBox=\"0 0 24 24\"\n",
              "       width=\"24px\">\n",
              "    <path d=\"M0 0h24v24H0V0z\" fill=\"none\"/>\n",
              "    <path d=\"M18.56 5.44l.94 2.06.94-2.06 2.06-.94-2.06-.94-.94-2.06-.94 2.06-2.06.94zm-11 1L8.5 8.5l.94-2.06 2.06-.94-2.06-.94L8.5 2.5l-.94 2.06-2.06.94zm10 10l.94 2.06.94-2.06 2.06-.94-2.06-.94-.94-2.06-.94 2.06-2.06.94z\"/><path d=\"M17.41 7.96l-1.37-1.37c-.4-.4-.92-.59-1.43-.59-.52 0-1.04.2-1.43.59L10.3 9.45l-7.72 7.72c-.78.78-.78 2.05 0 2.83L4 21.41c.39.39.9.59 1.41.59.51 0 1.02-.2 1.41-.59l7.78-7.78 2.81-2.81c.8-.78.8-2.07 0-2.86zM5.41 20L4 18.59l7.72-7.72 1.47 1.35L5.41 20z\"/>\n",
              "  </svg>\n",
              "      </button>\n",
              "      \n",
              "  <style>\n",
              "    .colab-df-container {\n",
              "      display:flex;\n",
              "      flex-wrap:wrap;\n",
              "      gap: 12px;\n",
              "    }\n",
              "\n",
              "    .colab-df-convert {\n",
              "      background-color: #E8F0FE;\n",
              "      border: none;\n",
              "      border-radius: 50%;\n",
              "      cursor: pointer;\n",
              "      display: none;\n",
              "      fill: #1967D2;\n",
              "      height: 32px;\n",
              "      padding: 0 0 0 0;\n",
              "      width: 32px;\n",
              "    }\n",
              "\n",
              "    .colab-df-convert:hover {\n",
              "      background-color: #E2EBFA;\n",
              "      box-shadow: 0px 1px 2px rgba(60, 64, 67, 0.3), 0px 1px 3px 1px rgba(60, 64, 67, 0.15);\n",
              "      fill: #174EA6;\n",
              "    }\n",
              "\n",
              "    [theme=dark] .colab-df-convert {\n",
              "      background-color: #3B4455;\n",
              "      fill: #D2E3FC;\n",
              "    }\n",
              "\n",
              "    [theme=dark] .colab-df-convert:hover {\n",
              "      background-color: #434B5C;\n",
              "      box-shadow: 0px 1px 3px 1px rgba(0, 0, 0, 0.15);\n",
              "      filter: drop-shadow(0px 1px 2px rgba(0, 0, 0, 0.3));\n",
              "      fill: #FFFFFF;\n",
              "    }\n",
              "  </style>\n",
              "\n",
              "      <script>\n",
              "        const buttonEl =\n",
              "          document.querySelector('#df-e16b35c2-389a-4e1a-99de-4d2db65c470b button.colab-df-convert');\n",
              "        buttonEl.style.display =\n",
              "          google.colab.kernel.accessAllowed ? 'block' : 'none';\n",
              "\n",
              "        async function convertToInteractive(key) {\n",
              "          const element = document.querySelector('#df-e16b35c2-389a-4e1a-99de-4d2db65c470b');\n",
              "          const dataTable =\n",
              "            await google.colab.kernel.invokeFunction('convertToInteractive',\n",
              "                                                     [key], {});\n",
              "          if (!dataTable) return;\n",
              "\n",
              "          const docLinkHtml = 'Like what you see? Visit the ' +\n",
              "            '<a target=\"_blank\" href=https://colab.research.google.com/notebooks/data_table.ipynb>data table notebook</a>'\n",
              "            + ' to learn more about interactive tables.';\n",
              "          element.innerHTML = '';\n",
              "          dataTable['output_type'] = 'display_data';\n",
              "          await google.colab.output.renderOutput(dataTable, element);\n",
              "          const docLink = document.createElement('div');\n",
              "          docLink.innerHTML = docLinkHtml;\n",
              "          element.appendChild(docLink);\n",
              "        }\n",
              "      </script>\n",
              "    </div>\n",
              "  </div>\n",
              "  "
            ]
          },
          "metadata": {},
          "execution_count": 13
        }
      ]
    },
    {
      "cell_type": "markdown",
      "source": [
        "## Preprocessing"
      ],
      "metadata": {
        "id": "F6QNiEbMWDMx"
      },
      "id": "F6QNiEbMWDMx"
    },
    {
      "cell_type": "code",
      "source": [
        "import numpy as np\n",
        "def deal_with_nulls(data, otro):\n",
        "  if not otro:\n",
        "    #Recency\n",
        "    data.loc[(data['GaveLastYear'] == 1.0), 'Recency'] = 1\n",
        "    data.loc[np.isnan(data['Recency']) & (data['GaveLastYear'] == 0.0), 'Recency'] = 12\n",
        "    data.loc[np.isnan(data['Recency']) & (data['GaveLastYear'] == 1.0), 'Recency'] = 1\n",
        "\n",
        "    #Frequency\n",
        "    data.loc[(data['GaveLastYear'] == 1.0), 'Frequency'] += 1\n",
        "    data.loc[np.isnan(data['Frequency']) & (data['GaveLastYear'] == 0.0), 'Frequency'] = 0\n",
        "    data.loc[np.isnan(data['Frequency']) & (data['GaveLastYear'] == 1.0), 'Frequency'] = 1\n",
        "\n",
        "    #Seniority\n",
        "    data['Seniority'].fillna(12, inplace = True)\n",
        "\n",
        "    #TotalGift\n",
        "    data.loc[(data['GaveLastYear'] == 1.0), 'TotalGift'] += data[\"AmtLastYear\"]\n",
        "    data.loc[np.isnan(data['TotalGift']) & (data['GaveLastYear'] == 0.0), 'TotalGift'] = 0 \n",
        "    data.loc[np.isnan(data['TotalGift']) & (data['GaveLastYear'] == 1.0), 'TotalGift'] = data[\"AmtLastYear\"]\n",
        "    \n",
        "\n",
        "    #MinGift\n",
        "    data.loc[data['GaveLastYear'] == 1 & (data['AmtLastYear'] < data['MinGift']), 'MinGift'] = data['AmtLastYear']\n",
        "    data.loc[np.isnan(data['MinGift']) & (data['GaveLastYear'] == 0.0), 'MinGift'] = 0 \n",
        "    data.loc[np.isnan(data['MinGift']) & (data['GaveLastYear'] == 1.0), 'MinGift'] = data[\"AmtLastYear\"]\n",
        "\n",
        "    #MaxGift\n",
        "    data.loc[data['GaveLastYear'] == 1 & (data['AmtLastYear'] > data['MaxGift']), 'MaxGift'] = data[\"AmtLastYear\"]\n",
        "    data.loc[np.isnan(data['MaxGift']) & (data['GaveLastYear'] == 0.0), 'MaxGift'] = 0 \n",
        "    data.loc[np.isnan(data['MaxGift']) & (data['GaveLastYear'] == 1.0), 'MaxGift'] = data[\"AmtLastYear\"]\n",
        "  else:\n",
        "    data[['MinGift']] = data[['MinGift']].fillna(value=0)\n",
        "    data[['Recency']] = data[['Recency']].fillna(value=0)\n",
        "    data[['Frequency']] = data[['Frequency']].fillna(value=0)\n",
        "    data[['Seniority']] = data[['Seniority']].fillna(value=0)\n",
        "    data[['TotalGift']] = data[['TotalGift']].fillna(value=0)\n",
        "    data[['MaxGift']] = data[['MaxGift']].fillna(value=0)\n",
        "\n",
        "  return data"
      ],
      "metadata": {
        "id": "5t8wPDYab5XH"
      },
      "id": "5t8wPDYab5XH",
      "execution_count": 14,
      "outputs": []
    },
    {
      "cell_type": "code",
      "source": [
        "def one_hot_encoding(data, columns):\n",
        "  encoded_data = pd.get_dummies(data, columns = columns)\n",
        "  \n",
        "  return encoded_data"
      ],
      "metadata": {
        "id": "A5fck3wrcAy9"
      },
      "id": "A5fck3wrcAy9",
      "execution_count": 15,
      "outputs": []
    },
    {
      "cell_type": "code",
      "source": [
        "from sklearn.preprocessing import StandardScaler, MinMaxScaler\n",
        "\n",
        "def scalate(data, to_scale):\n",
        "  #scaler = StandardScaler()\n",
        "  scaler = MinMaxScaler()\n",
        "  scaler.fit(data[to_scale])\n",
        "  transformed = scaler.transform(data[to_scale])\n",
        "  data[to_scale] = pd.DataFrame(transformed, columns = data[to_scale].columns)\n",
        "\n",
        "  return data\n"
      ],
      "metadata": {
        "id": "LXa6uv1ncC0R"
      },
      "id": "LXa6uv1ncC0R",
      "execution_count": 16,
      "outputs": []
    },
    {
      "cell_type": "code",
      "source": [
        "numeric = ['Age', 'Salary', 'NbActivities','TotalGift', 'AmtLastYear', 'Referrals', 'Recency', 'Frequency', 'Seniority', 'MinGift', 'MaxGift']\n",
        "cat = ['Woman','SeniorList', 'GaveLastYear']"
      ],
      "metadata": {
        "id": "Wy3U87laQHCb"
      },
      "id": "Wy3U87laQHCb",
      "execution_count": 17,
      "outputs": []
    },
    {
      "cell_type": "code",
      "source": [
        "prepro_data = deal_with_nulls(data_merge, True)\n",
        "prepro_data = one_hot_encoding(prepro_data, ['Education', 'City'])\n",
        "prepro_data = scalate(prepro_data, numeric)"
      ],
      "metadata": {
        "id": "nNb6AbSycE44"
      },
      "id": "nNb6AbSycE44",
      "execution_count": 18,
      "outputs": []
    },
    {
      "cell_type": "code",
      "source": [
        "import seaborn as sns\n",
        "import matplotlib.pyplot as plt\n",
        "\n",
        "dummies_name = ['Education_Elementary', 'Education_High School', 'Education_University / College', 'City_City', 'City_Downtown', 'City_Rural', 'City_Suburban']\n",
        "corr_dummies = prepro_data[dummies_name+['AmtThisYear']].corr()\n",
        "sns.heatmap(corr_dummies, annot=True, cmap=\"Blues_r\")\n",
        "plt.show()"
      ],
      "metadata": {
        "colab": {
          "base_uri": "https://localhost:8080/",
          "height": 412
        },
        "id": "3oYapKcQPqcn",
        "outputId": "ab42f5a5-f764-495a-87d5-8170da17e46f"
      },
      "id": "3oYapKcQPqcn",
      "execution_count": 19,
      "outputs": [
        {
          "output_type": "display_data",
          "data": {
            "text/plain": [
              "<Figure size 432x288 with 2 Axes>"
            ],
            "image/png": "[encoded data removed]"
          },
          "metadata": {
            "needs_background": "light"
          }
        }
      ]
    },
    {
      "cell_type": "code",
      "source": [
        "prepro_data.info()"
      ],
      "metadata": {
        "colab": {
          "base_uri": "https://localhost:8080/"
        },
        "id": "fhduMJtwREC6",
        "outputId": "0b7c918d-72f3-4148-b7ba-199bba96fcc7"
      },
      "id": "fhduMJtwREC6",
      "execution_count": 20,
      "outputs": [
        {
          "output_type": "stream",
          "name": "stdout",
          "text": [
            "<class 'pandas.core.frame.DataFrame'>\n",
            "Int64Index: 1000000 entries, 0 to 999999\n",
            "Data columns (total 27 columns):\n",
            " #   Column                          Non-Null Count    Dtype  \n",
            "---  ------                          --------------    -----  \n",
            " 0   ID                              1000000 non-null  float64\n",
            " 1   LastName                        999977 non-null   object \n",
            " 2   FirstName                       999996 non-null   object \n",
            " 3   Woman                           1000000 non-null  float64\n",
            " 4   Age                             1000000 non-null  float64\n",
            " 5   Salary                          1000000 non-null  float64\n",
            " 6   SeniorList                      1000000 non-null  float64\n",
            " 7   NbActivities                    1000000 non-null  float64\n",
            " 8   Referrals                       1000000 non-null  float64\n",
            " 9   Recency                         1000000 non-null  float64\n",
            " 10  Frequency                       1000000 non-null  float64\n",
            " 11  Seniority                       1000000 non-null  float64\n",
            " 12  TotalGift                       1000000 non-null  float64\n",
            " 13  MinGift                         1000000 non-null  float64\n",
            " 14  MaxGift                         1000000 non-null  float64\n",
            " 15  GaveLastYear                    1000000 non-null  float64\n",
            " 16  AmtLastYear                     1000000 non-null  float64\n",
            " 17  Contact                         1000000 non-null  float64\n",
            " 18  GaveThisYear                    1000000 non-null  float64\n",
            " 19  AmtThisYear                     1000000 non-null  float64\n",
            " 20  Education_Elementary            1000000 non-null  uint8  \n",
            " 21  Education_High School           1000000 non-null  uint8  \n",
            " 22  Education_University / College  1000000 non-null  uint8  \n",
            " 23  City_City                       1000000 non-null  uint8  \n",
            " 24  City_Downtown                   1000000 non-null  uint8  \n",
            " 25  City_Rural                      1000000 non-null  uint8  \n",
            " 26  City_Suburban                   1000000 non-null  uint8  \n",
            "dtypes: float64(18), object(2), uint8(7)\n",
            "memory usage: 166.9+ MB\n"
          ]
        }
      ]
    },
    {
      "cell_type": "markdown",
      "id": "780fc71d-171e-4bb7-9e0c-89572856cc5f",
      "metadata": {
        "id": "780fc71d-171e-4bb7-9e0c-89572856cc5f"
      },
      "source": [
        "## Data Partition"
      ]
    },
    {
      "cell_type": "code",
      "execution_count": 21,
      "id": "859f053e-5121-4edd-9d99-bed485d7d0cb",
      "metadata": {
        "collapsed": true,
        "colab": {
          "base_uri": "https://localhost:8080/",
          "height": 0
        },
        "id": "859f053e-5121-4edd-9d99-bed485d7d0cb",
        "outputId": "9ae7dd2d-5729-439d-ddc5-87dc6ebf97ce"
      },
      "outputs": [
        {
          "output_type": "execute_result",
          "data": {
            "text/plain": [
              "               ID LastName FirstName  Woman       Age  Salary  SeniorList  \\\n",
              "657222  2657223.0   MCGILL    DONALD    0.0  0.216216  0.8456         7.0   \n",
              "839381  2839382.0    ETZEL      ROSE    1.0  0.675676  0.1576         4.0   \n",
              "\n",
              "        NbActivities  Referrals  Recency  ...  Contact  GaveThisYear  \\\n",
              "657222           0.0     0.0000      0.0  ...      0.0           0.0   \n",
              "839381           0.0     0.0625      0.1  ...      0.0           0.0   \n",
              "\n",
              "        AmtThisYear  Education_Elementary  Education_High School  \\\n",
              "657222          0.0                     0                      0   \n",
              "839381          0.0                     0                      1   \n",
              "\n",
              "        Education_University / College  City_City  City_Downtown  City_Rural  \\\n",
              "657222                               1          1              0           0   \n",
              "839381                               0          0              1           0   \n",
              "\n",
              "        City_Suburban  \n",
              "657222              0  \n",
              "839381              0  \n",
              "\n",
              "[2 rows x 27 columns]"
            ],
            "text/html": [
              "\n",
              "  <div id=\"df-5b4a7e5b-318c-4e08-bfd2-eb42b8968e73\">\n",
              "    <div class=\"colab-df-container\">\n",
              "      <div>\n",
              "<style scoped>\n",
              "    .dataframe tbody tr th:only-of-type {\n",
              "        vertical-align: middle;\n",
              "    }\n",
              "\n",
              "    .dataframe tbody tr th {\n",
              "        vertical-align: top;\n",
              "    }\n",
              "\n",
              "    .dataframe thead th {\n",
              "        text-align: right;\n",
              "    }\n",
              "</style>\n",
              "<table border=\"1\" class=\"dataframe\">\n",
              "  <thead>\n",
              "    <tr style=\"text-align: right;\">\n",
              "      <th></th>\n",
              "      <th>ID</th>\n",
              "      <th>LastName</th>\n",
              "      <th>FirstName</th>\n",
              "      <th>Woman</th>\n",
              "      <th>Age</th>\n",
              "      <th>Salary</th>\n",
              "      <th>SeniorList</th>\n",
              "      <th>NbActivities</th>\n",
              "      <th>Referrals</th>\n",
              "      <th>Recency</th>\n",
              "      <th>...</th>\n",
              "      <th>Contact</th>\n",
              "      <th>GaveThisYear</th>\n",
              "      <th>AmtThisYear</th>\n",
              "      <th>Education_Elementary</th>\n",
              "      <th>Education_High School</th>\n",
              "      <th>Education_University / College</th>\n",
              "      <th>City_City</th>\n",
              "      <th>City_Downtown</th>\n",
              "      <th>City_Rural</th>\n",
              "      <th>City_Suburban</th>\n",
              "    </tr>\n",
              "  </thead>\n",
              "  <tbody>\n",
              "    <tr>\n",
              "      <th>657222</th>\n",
              "      <td>2657223.0</td>\n",
              "      <td>MCGILL</td>\n",
              "      <td>DONALD</td>\n",
              "      <td>0.0</td>\n",
              "      <td>0.216216</td>\n",
              "      <td>0.8456</td>\n",
              "      <td>7.0</td>\n",
              "      <td>0.0</td>\n",
              "      <td>0.0000</td>\n",
              "      <td>0.0</td>\n",
              "      <td>...</td>\n",
              "      <td>0.0</td>\n",
              "      <td>0.0</td>\n",
              "      <td>0.0</td>\n",
              "      <td>0</td>\n",
              "      <td>0</td>\n",
              "      <td>1</td>\n",
              "      <td>1</td>\n",
              "      <td>0</td>\n",
              "      <td>0</td>\n",
              "      <td>0</td>\n",
              "    </tr>\n",
              "    <tr>\n",
              "      <th>839381</th>\n",
              "      <td>2839382.0</td>\n",
              "      <td>ETZEL</td>\n",
              "      <td>ROSE</td>\n",
              "      <td>1.0</td>\n",
              "      <td>0.675676</td>\n",
              "      <td>0.1576</td>\n",
              "      <td>4.0</td>\n",
              "      <td>0.0</td>\n",
              "      <td>0.0625</td>\n",
              "      <td>0.1</td>\n",
              "      <td>...</td>\n",
              "      <td>0.0</td>\n",
              "      <td>0.0</td>\n",
              "      <td>0.0</td>\n",
              "      <td>0</td>\n",
              "      <td>1</td>\n",
              "      <td>0</td>\n",
              "      <td>0</td>\n",
              "      <td>1</td>\n",
              "      <td>0</td>\n",
              "      <td>0</td>\n",
              "    </tr>\n",
              "  </tbody>\n",
              "</table>\n",
              "<p>2 rows × 27 columns</p>\n",
              "</div>\n",
              "      <button class=\"colab-df-convert\" onclick=\"convertToInteractive('df-5b4a7e5b-318c-4e08-bfd2-eb42b8968e73')\"\n",
              "              title=\"Convert this dataframe to an interactive table.\"\n",
              "              style=\"display:none;\">\n",
              "        \n",
              "  <svg xmlns=\"http://www.w3.org/2000/svg\" height=\"24px\"viewBox=\"0 0 24 24\"\n",
              "       width=\"24px\">\n",
              "    <path d=\"M0 0h24v24H0V0z\" fill=\"none\"/>\n",
              "    <path d=\"M18.56 5.44l.94 2.06.94-2.06 2.06-.94-2.06-.94-.94-2.06-.94 2.06-2.06.94zm-11 1L8.5 8.5l.94-2.06 2.06-.94-2.06-.94L8.5 2.5l-.94 2.06-2.06.94zm10 10l.94 2.06.94-2.06 2.06-.94-2.06-.94-.94-2.06-.94 2.06-2.06.94z\"/><path d=\"M17.41 7.96l-1.37-1.37c-.4-.4-.92-.59-1.43-.59-.52 0-1.04.2-1.43.59L10.3 9.45l-7.72 7.72c-.78.78-.78 2.05 0 2.83L4 21.41c.39.39.9.59 1.41.59.51 0 1.02-.2 1.41-.59l7.78-7.78 2.81-2.81c.8-.78.8-2.07 0-2.86zM5.41 20L4 18.59l7.72-7.72 1.47 1.35L5.41 20z\"/>\n",
              "  </svg>\n",
              "      </button>\n",
              "      \n",
              "  <style>\n",
              "    .colab-df-container {\n",
              "      display:flex;\n",
              "      flex-wrap:wrap;\n",
              "      gap: 12px;\n",
              "    }\n",
              "\n",
              "    .colab-df-convert {\n",
              "      background-color: #E8F0FE;\n",
              "      border: none;\n",
              "      border-radius: 50%;\n",
              "      cursor: pointer;\n",
              "      display: none;\n",
              "      fill: #1967D2;\n",
              "      height: 32px;\n",
              "      padding: 0 0 0 0;\n",
              "      width: 32px;\n",
              "    }\n",
              "\n",
              "    .colab-df-convert:hover {\n",
              "      background-color: #E2EBFA;\n",
              "      box-shadow: 0px 1px 2px rgba(60, 64, 67, 0.3), 0px 1px 3px 1px rgba(60, 64, 67, 0.15);\n",
              "      fill: #174EA6;\n",
              "    }\n",
              "\n",
              "    [theme=dark] .colab-df-convert {\n",
              "      background-color: #3B4455;\n",
              "      fill: #D2E3FC;\n",
              "    }\n",
              "\n",
              "    [theme=dark] .colab-df-convert:hover {\n",
              "      background-color: #434B5C;\n",
              "      box-shadow: 0px 1px 3px 1px rgba(0, 0, 0, 0.15);\n",
              "      filter: drop-shadow(0px 1px 2px rgba(0, 0, 0, 0.3));\n",
              "      fill: #FFFFFF;\n",
              "    }\n",
              "  </style>\n",
              "\n",
              "      <script>\n",
              "        const buttonEl =\n",
              "          document.querySelector('#df-5b4a7e5b-318c-4e08-bfd2-eb42b8968e73 button.colab-df-convert');\n",
              "        buttonEl.style.display =\n",
              "          google.colab.kernel.accessAllowed ? 'block' : 'none';\n",
              "\n",
              "        async function convertToInteractive(key) {\n",
              "          const element = document.querySelector('#df-5b4a7e5b-318c-4e08-bfd2-eb42b8968e73');\n",
              "          const dataTable =\n",
              "            await google.colab.kernel.invokeFunction('convertToInteractive',\n",
              "                                                     [key], {});\n",
              "          if (!dataTable) return;\n",
              "\n",
              "          const docLinkHtml = 'Like what you see? Visit the ' +\n",
              "            '<a target=\"_blank\" href=https://colab.research.google.com/notebooks/data_table.ipynb>data table notebook</a>'\n",
              "            + ' to learn more about interactive tables.';\n",
              "          element.innerHTML = '';\n",
              "          dataTable['output_type'] = 'display_data';\n",
              "          await google.colab.output.renderOutput(dataTable, element);\n",
              "          const docLink = document.createElement('div');\n",
              "          docLink.innerHTML = docLinkHtml;\n",
              "          element.appendChild(docLink);\n",
              "        }\n",
              "      </script>\n",
              "    </div>\n",
              "  </div>\n",
              "  "
            ]
          },
          "metadata": {},
          "execution_count": 21
        }
      ],
      "source": [
        "# The code below is an illustration on how to sample data on train and validation samples.\n",
        "# You could use another library or a built-in function to perform sampling.\n",
        "\n",
        "from sklearn.model_selection import train_test_split\n",
        "train, validation = train_test_split(prepro_data, test_size=0.1, random_state=123) \n",
        "\n",
        "#train.head()\n",
        "train.sample(2)"
      ]
    },
    {
      "cell_type": "markdown",
      "id": "edcdac44-c84b-4fe5-881f-05a2ecb98e6a",
      "metadata": {
        "id": "edcdac44-c84b-4fe5-881f-05a2ecb98e6a"
      },
      "source": [
        "# Prebuilt Models\n",
        "\n",
        "The sk-learn library offers more advanced models. \n",
        "\n",
        "sk-learn library: https://scikit-learn.org/stable/index.html  \n",
        "\n",
        "## Logistic Regression Model"
      ]
    },
    {
      "cell_type": "code",
      "execution_count": 22,
      "id": "9f33ea4c",
      "metadata": {
        "id": "9f33ea4c"
      },
      "outputs": [],
      "source": [
        "from sklearn.linear_model import LogisticRegression\n",
        "chosen = ['Age', 'Salary','MinGift', 'GaveLastYear','Woman', 'AmtLastYear', 'NbActivities', 'Frequency', 'Contact'] + dummies_name\n",
        "#chosen = ['Age', 'Salary','MinGift', 'GaveLastYear','Woman', 'AmtLastYear', 'NbActivities', 'Frequency', 'Contact', 'MinGift', 'TotalGift'] + dummies_name\n",
        "#comment: it's numpy array ==> categorical variables\n",
        "X_train = train[chosen] \n",
        "Y_train = train['GaveThisYear']\n",
        "X_valid = validation[chosen] \n",
        "Y_valid = validation['GaveThisYear']\n",
        "\n",
        "regr = LogisticRegression()\n",
        "regr.fit(X_train,Y_train)\n",
        "regr_predict=regr.predict(X_valid)"
      ]
    },
    {
      "cell_type": "code",
      "execution_count": 23,
      "id": "a6ff2946",
      "metadata": {
        "collapsed": true,
        "colab": {
          "base_uri": "https://localhost:8080/"
        },
        "id": "a6ff2946",
        "outputId": "a686d4bd-c82f-42b7-ef5e-254d7bcf07ce"
      },
      "outputs": [
        {
          "output_type": "stream",
          "name": "stdout",
          "text": [
            "[[84073   861]\n",
            " [14112   954]]\n"
          ]
        }
      ],
      "source": [
        "#you can change the criteria\n",
        "\n",
        "import numpy as np\n",
        "from sklearn.metrics import confusion_matrix\n",
        "from sklearn.metrics import confusion_matrix\n",
        "\n",
        "confusion_matrix = confusion_matrix(Y_valid, regr_predict)\n",
        "print(confusion_matrix)"
      ]
    },
    {
      "cell_type": "code",
      "execution_count": 24,
      "id": "21803ab0-c771-4a27-b0ab-81a2a304f719",
      "metadata": {
        "collapsed": true,
        "colab": {
          "base_uri": "https://localhost:8080/"
        },
        "id": "21803ab0-c771-4a27-b0ab-81a2a304f719",
        "outputId": "b7967f18-d59e-4397-fdc2-4708fd3c5eb9"
      },
      "outputs": [
        {
          "output_type": "stream",
          "name": "stdout",
          "text": [
            "              precision    recall  f1-score   support\n",
            "\n",
            "         0.0       0.86      0.99      0.92     84934\n",
            "         1.0       0.53      0.06      0.11     15066\n",
            "\n",
            "    accuracy                           0.85    100000\n",
            "   macro avg       0.69      0.53      0.52    100000\n",
            "weighted avg       0.81      0.85      0.80    100000\n",
            "\n"
          ]
        }
      ],
      "source": [
        "from sklearn.metrics import classification_report\n",
        "print(classification_report(Y_valid, regr_predict))"
      ]
    },
    {
      "cell_type": "code",
      "execution_count": 25,
      "id": "d27a7bb1-e651-474a-ae3e-4f09540815e6",
      "metadata": {
        "collapsed": true,
        "colab": {
          "base_uri": "https://localhost:8080/",
          "height": 307
        },
        "id": "d27a7bb1-e651-474a-ae3e-4f09540815e6",
        "outputId": "155fc241-2266-4934-a740-f6c03b2f0c6c"
      },
      "outputs": [
        {
          "output_type": "display_data",
          "data": {
            "text/plain": [
              "<Figure size 432x288 with 1 Axes>"
            ],
            "image/png": "[encoded data removed]"
          },
          "metadata": {
            "needs_background": "light"
          }
        }
      ],
      "source": [
        "from sklearn.metrics import roc_auc_score\n",
        "from sklearn.metrics import roc_curve\n",
        "import matplotlib.pyplot as plt \n",
        "plt.rc(\"font\", size=14)\n",
        "\n",
        "logit_roc_auc = roc_auc_score(Y_valid, regr.predict(X_valid))\n",
        "fpr, tpr, thresholds = roc_curve(Y_valid, regr.predict_proba(X_valid)[:,1])\n",
        "plt.figure()\n",
        "plt.plot(fpr, tpr, label='Logistic Regression (area = %0.2f)' % logit_roc_auc)\n",
        "plt.plot([0, 1], [0, 1],'r--')\n",
        "plt.xlim([0.0, 1.0])\n",
        "plt.ylim([0.0, 1.05])\n",
        "plt.xlabel('False Positive Rate')\n",
        "plt.ylabel('True Positive Rate')\n",
        "plt.title('Receiver operating characteristic')\n",
        "plt.legend(loc=\"lower right\")\n",
        "plt.savefig('Log_ROC')\n",
        "plt.show()"
      ]
    },
    {
      "cell_type": "markdown",
      "id": "a6f78891",
      "metadata": {
        "id": "a6f78891"
      },
      "source": [
        "## Decision Tree Model"
      ]
    },
    {
      "cell_type": "code",
      "execution_count": 26,
      "id": "0560fcdd",
      "metadata": {
        "collapsed": true,
        "colab": {
          "base_uri": "https://localhost:8080/"
        },
        "id": "0560fcdd",
        "outputId": "ece27655-a688-4f46-8f50-9180e21f816c"
      },
      "outputs": [
        {
          "output_type": "stream",
          "name": "stdout",
          "text": [
            "[0.23340977 0.14074317 0.17293761 ... 0.10273259 0.19898897 0.35909683]\n"
          ]
        }
      ],
      "source": [
        "from sklearn.tree import DecisionTreeClassifier\n",
        "\n",
        "DT_model = DecisionTreeClassifier(max_depth=7,criterion=\"entropy\", min_samples_split=2, random_state=42).fit(X_train,Y_train)\n",
        "DT_predict_proba = DT_model.predict_proba(X_valid) #Predictions on Testing data\n",
        "DT_predict = DT_model.predict(X_valid) #Predictions on Testing data\n",
        "# Probabilities for each class\n",
        "DT_probs = DT_model.predict_proba(X_valid)[:, 1]\n",
        "print(DT_probs)"
      ]
    },
    {
      "cell_type": "code",
      "execution_count": 27,
      "id": "a634a11d",
      "metadata": {
        "collapsed": true,
        "colab": {
          "base_uri": "https://localhost:8080/"
        },
        "id": "a634a11d",
        "outputId": "65965c25-8a11-4c66-ade8-f57d778e17ff"
      },
      "outputs": [
        {
          "output_type": "stream",
          "name": "stdout",
          "text": [
            "[[84034   900]\n",
            " [13386  1680]]\n"
          ]
        }
      ],
      "source": [
        "import numpy as np\n",
        "from sklearn.metrics import confusion_matrix\n",
        "from sklearn.metrics import confusion_matrix\n",
        "\n",
        "confusion_matrix = confusion_matrix(Y_valid, DT_predict)\n",
        "print(confusion_matrix)"
      ]
    },
    {
      "cell_type": "code",
      "source": [
        "DT_predict"
      ],
      "metadata": {
        "colab": {
          "base_uri": "https://localhost:8080/"
        },
        "id": "qThorkfkTRIe",
        "outputId": "04a8e704-3183-4ea7-8e06-2351e370d686"
      },
      "id": "qThorkfkTRIe",
      "execution_count": 28,
      "outputs": [
        {
          "output_type": "execute_result",
          "data": {
            "text/plain": [
              "array([0., 0., 0., ..., 0., 0., 0.])"
            ]
          },
          "metadata": {},
          "execution_count": 28
        }
      ]
    },
    {
      "cell_type": "code",
      "execution_count": 29,
      "id": "44067449-2008-4519-aaf9-af32945e9fae",
      "metadata": {
        "collapsed": true,
        "colab": {
          "base_uri": "https://localhost:8080/"
        },
        "id": "44067449-2008-4519-aaf9-af32945e9fae",
        "outputId": "823264c5-ce34-43f2-f323-ab4424e5138a"
      },
      "outputs": [
        {
          "output_type": "stream",
          "name": "stdout",
          "text": [
            "              precision    recall  f1-score   support\n",
            "\n",
            "         0.0       0.86      0.99      0.92     84934\n",
            "         1.0       0.65      0.11      0.19     15066\n",
            "\n",
            "    accuracy                           0.86    100000\n",
            "   macro avg       0.76      0.55      0.56    100000\n",
            "weighted avg       0.83      0.86      0.81    100000\n",
            "\n"
          ]
        }
      ],
      "source": [
        "from sklearn.metrics import classification_report\n",
        "print(classification_report(Y_valid, DT_predict))"
      ]
    },
    {
      "cell_type": "code",
      "execution_count": 30,
      "id": "51155944-104f-44c9-baf6-29bcb72446a9",
      "metadata": {
        "colab": {
          "base_uri": "https://localhost:8080/",
          "height": 307
        },
        "id": "51155944-104f-44c9-baf6-29bcb72446a9",
        "outputId": "ed5981f4-b99b-486b-fbbf-8b12e70ee6da"
      },
      "outputs": [
        {
          "output_type": "display_data",
          "data": {
            "text/plain": [
              "<Figure size 432x288 with 1 Axes>"
            ],
            "image/png": "[encoded data removed]"
          },
          "metadata": {
            "needs_background": "light"
          }
        }
      ],
      "source": [
        "from sklearn.metrics import roc_auc_score\n",
        "from sklearn.metrics import roc_curve\n",
        "import matplotlib.pyplot as plt \n",
        "plt.rc(\"font\", size=14)\n",
        "\n",
        "DT_roc_auc = roc_auc_score(Y_valid, DT_model.predict(X_valid))\n",
        "fpr, tpr, thresholds = roc_curve(Y_valid, DT_model.predict_proba(X_valid)[:,1])\n",
        "plt.figure()\n",
        "plt.plot(fpr, tpr, label='Decision tree (area = %0.2f)' % DT_roc_auc)\n",
        "plt.plot([0, 1], [0, 1],'r--')\n",
        "plt.xlim([0.0, 1.0])\n",
        "plt.ylim([0.0, 1.05])\n",
        "plt.xlabel('False Positive Rate')\n",
        "plt.ylabel('True Positive Rate')\n",
        "plt.title('Receiver operating characteristic')\n",
        "plt.legend(loc=\"lower right\")\n",
        "plt.savefig('DT_ROC')\n",
        "plt.show()"
      ]
    },
    {
      "cell_type": "code",
      "source": [
        "parameters_grid = {\n",
        "    \"criterion\": [\"gini\", \"entropy\", \"log_loss\"],\n",
        "    \"max_depth\": [3,5,7,10],\n",
        "    \"min_samples_split\": [2, 3, 4]}"
      ],
      "metadata": {
        "id": "w4lXmjud5ZCR"
      },
      "id": "w4lXmjud5ZCR",
      "execution_count": 31,
      "outputs": []
    },
    {
      "cell_type": "code",
      "source": [
        "from sklearn.model_selection import GridSearchCV\n",
        "DT_modelGS = DecisionTreeClassifier(random_state=42)\n",
        "\n",
        "DT2_model = GridSearchCV(DT_modelGS, parameters_grid, cv=3)\n",
        "\n",
        "# Fit\n",
        "DT2_model.fit(X_train, Y_train)"
      ],
      "metadata": {
        "colab": {
          "base_uri": "https://localhost:8080/"
        },
        "id": "vIOkZIiY6Wda",
        "outputId": "a5cb973d-a27e-43ee-81c6-6ff10391d0e6"
      },
      "id": "vIOkZIiY6Wda",
      "execution_count": 32,
      "outputs": [
        {
          "output_type": "stream",
          "name": "stderr",
          "text": [
            "/usr/local/lib/python3.8/dist-packages/sklearn/model_selection/_validation.py:372: FitFailedWarning: \n",
            "36 fits failed out of a total of 108.\n",
            "The score on these train-test partitions for these parameters will be set to nan.\n",
            "If these failures are not expected, you can try to debug them by setting error_score='raise'.\n",
            "\n",
            "Below are more details about the failures:\n",
            "--------------------------------------------------------------------------------\n",
            "36 fits failed with the following error:\n",
            "Traceback (most recent call last):\n",
            "  File \"/usr/local/lib/python3.8/dist-packages/sklearn/model_selection/_validation.py\", line 680, in _fit_and_score\n",
            "    estimator.fit(X_train, y_train, **fit_params)\n",
            "  File \"/usr/local/lib/python3.8/dist-packages/sklearn/tree/_classes.py\", line 937, in fit\n",
            "    super().fit(\n",
            "  File \"/usr/local/lib/python3.8/dist-packages/sklearn/tree/_classes.py\", line 352, in fit\n",
            "    criterion = CRITERIA_CLF[self.criterion](\n",
            "KeyError: 'log_loss'\n",
            "\n",
            "  warnings.warn(some_fits_failed_message, FitFailedWarning)\n",
            "/usr/local/lib/python3.8/dist-packages/sklearn/model_selection/_search.py:969: UserWarning: One or more of the test scores are non-finite: [0.85564778 0.85564778 0.85564778 0.85646444 0.85646444 0.85646444\n",
            " 0.85737111 0.85737111 0.85737111 0.85649667 0.85649889 0.85649222\n",
            " 0.85564778 0.85564778 0.85564778 0.85649444 0.85649444 0.85649444\n",
            " 0.85743778 0.85743778 0.85743778 0.85681444 0.85681222 0.85681778\n",
            "        nan        nan        nan        nan        nan        nan\n",
            "        nan        nan        nan        nan        nan        nan]\n",
            "  warnings.warn(\n"
          ]
        },
        {
          "output_type": "execute_result",
          "data": {
            "text/plain": [
              "GridSearchCV(cv=3, estimator=DecisionTreeClassifier(random_state=42),\n",
              "             param_grid={'criterion': ['gini', 'entropy', 'log_loss'],\n",
              "                         'max_depth': [3, 5, 7, 10],\n",
              "                         'min_samples_split': [2, 3, 4]})"
            ]
          },
          "metadata": {},
          "execution_count": 32
        }
      ]
    },
    {
      "cell_type": "code",
      "source": [
        "DT2_model.best_estimator_"
      ],
      "metadata": {
        "colab": {
          "base_uri": "https://localhost:8080/"
        },
        "id": "Nsw0_gAY-gN1",
        "outputId": "117eb2a2-70a4-457f-fb9c-8feb197f7da2"
      },
      "id": "Nsw0_gAY-gN1",
      "execution_count": 33,
      "outputs": [
        {
          "output_type": "execute_result",
          "data": {
            "text/plain": [
              "DecisionTreeClassifier(criterion='entropy', max_depth=7, random_state=42)"
            ]
          },
          "metadata": {},
          "execution_count": 33
        }
      ]
    },
    {
      "cell_type": "markdown",
      "source": [
        "## Random Forest Classifier"
      ],
      "metadata": {
        "id": "1ad-98XrR0vK"
      },
      "id": "1ad-98XrR0vK"
    },
    {
      "cell_type": "code",
      "source": [
        "from sklearn.ensemble import RandomForestClassifier\n",
        "\n",
        "RF_model = RandomForestClassifier(max_depth=5, random_state=123)\n",
        "RF_model.fit(X_train, Y_train)\n",
        "\n",
        "RF_predict = RF_model.predict(X_valid)\n",
        "RF_probs = DT_model.predict_proba(X_valid)[:, 1]"
      ],
      "metadata": {
        "id": "Opr6bhf4RzkB"
      },
      "id": "Opr6bhf4RzkB",
      "execution_count": 34,
      "outputs": []
    },
    {
      "cell_type": "code",
      "source": [
        "RF_predict_proba = RF_model.predict_proba(X_valid) #Predictions on Testing data"
      ],
      "metadata": {
        "id": "vAqKiwa1S12C"
      },
      "id": "vAqKiwa1S12C",
      "execution_count": 35,
      "outputs": []
    },
    {
      "cell_type": "code",
      "source": [
        "import numpy as np\n",
        "from sklearn.metrics import confusion_matrix\n",
        "from sklearn.metrics import confusion_matrix\n",
        "\n",
        "confusion_matrix = confusion_matrix(Y_valid, RF_predict)\n",
        "print(confusion_matrix)"
      ],
      "metadata": {
        "colab": {
          "base_uri": "https://localhost:8080/"
        },
        "id": "7AaMaqOjR8TV",
        "outputId": "18d48f4d-066a-4987-fb76-e392b4970dfb"
      },
      "id": "7AaMaqOjR8TV",
      "execution_count": 36,
      "outputs": [
        {
          "output_type": "stream",
          "name": "stdout",
          "text": [
            "[[84880    54]\n",
            " [14863   203]]\n"
          ]
        }
      ]
    },
    {
      "cell_type": "code",
      "source": [
        "print(classification_report(Y_valid, RF_predict))"
      ],
      "metadata": {
        "colab": {
          "base_uri": "https://localhost:8080/"
        },
        "id": "u6ERHcXwSCbf",
        "outputId": "70f4a038-4c41-4da7-d6eb-bb3ebb58a5ae"
      },
      "id": "u6ERHcXwSCbf",
      "execution_count": 37,
      "outputs": [
        {
          "output_type": "stream",
          "name": "stdout",
          "text": [
            "              precision    recall  f1-score   support\n",
            "\n",
            "         0.0       0.85      1.00      0.92     84934\n",
            "         1.0       0.79      0.01      0.03     15066\n",
            "\n",
            "    accuracy                           0.85    100000\n",
            "   macro avg       0.82      0.51      0.47    100000\n",
            "weighted avg       0.84      0.85      0.78    100000\n",
            "\n"
          ]
        }
      ]
    },
    {
      "cell_type": "code",
      "source": [
        "plt.rc(\"font\", size=14)\n",
        "\n",
        "RF_roc_auc = roc_auc_score(Y_valid, RF_predict)\n",
        "fpr, tpr, thresholds = roc_curve(Y_valid, RF_probs)\n",
        "plt.figure()\n",
        "plt.plot(fpr, tpr, label='Random forest classifier (area = %0.2f)' % RF_roc_auc)\n",
        "plt.plot([0, 1], [0, 1],'r--')\n",
        "plt.xlim([0.0, 1.0])\n",
        "plt.ylim([0.0, 1.05])\n",
        "plt.xlabel('False Positive Rate')\n",
        "plt.ylabel('True Positive Rate')\n",
        "plt.title('Receiver operating characteristic')\n",
        "plt.legend(loc=\"lower right\")\n",
        "plt.savefig('DT_ROC')\n",
        "plt.show()"
      ],
      "metadata": {
        "colab": {
          "base_uri": "https://localhost:8080/",
          "height": 307
        },
        "id": "2fPV1dsDSenH",
        "outputId": "5737db34-3474-4e95-b932-65e4cb96c98e"
      },
      "id": "2fPV1dsDSenH",
      "execution_count": 38,
      "outputs": [
        {
          "output_type": "display_data",
          "data": {
            "text/plain": [
              "<Figure size 432x288 with 1 Axes>"
            ],
            "image/png": "[encoded data removed]"
          },
          "metadata": {
            "needs_background": "light"
          }
        }
      ]
    },
    {
      "cell_type": "markdown",
      "source": [
        "## XGBoost"
      ],
      "metadata": {
        "id": "yjX9FJhLJIXR"
      },
      "id": "yjX9FJhLJIXR"
    },
    {
      "cell_type": "code",
      "source": [
        "import xgboost as xgb\n",
        "\"\"\"{'gamma': 1,\n",
        " 'learning_rate': 0.1,\n",
        " 'max_depth': 7,\n",
        " 'reg_lambda': 10,\n",
        " 'scale_pos_weight': 3}\"\"\"\n",
        "xgb_model = xgb.XGBClassifier(random_state=123, gamma = 1, learning_rate=0.1, max_depth = 7, reg_lambda=10, scale_pos_weight=3)\n",
        "\n",
        "# Fit\n",
        "xgb_model.fit(X_train, Y_train)\n",
        "\n",
        "# Predict\n",
        "xgb_predict = xgb_model.predict(X_valid)\n",
        "xgb_probs = xgb_model.predict_proba(X_valid)[:, 1]\n",
        "xgb_predict_proba = RF_model.predict_proba(X_valid) "
      ],
      "metadata": {
        "id": "evwDEyCPJHDu"
      },
      "id": "evwDEyCPJHDu",
      "execution_count": 39,
      "outputs": []
    },
    {
      "cell_type": "code",
      "source": [
        "import numpy as np\n",
        "from sklearn.metrics import confusion_matrix\n",
        "from sklearn.metrics import confusion_matrix\n",
        "\n",
        "confusion_matrix = confusion_matrix(Y_valid, xgb_predict)\n",
        "print(confusion_matrix)"
      ],
      "metadata": {
        "colab": {
          "base_uri": "https://localhost:8080/"
        },
        "id": "PgFDzcpcJqSb",
        "outputId": "800e5ae1-6b8d-4776-9d55-723a332c0db7"
      },
      "id": "PgFDzcpcJqSb",
      "execution_count": 40,
      "outputs": [
        {
          "output_type": "stream",
          "name": "stdout",
          "text": [
            "[[76859  8075]\n",
            " [ 9714  5352]]\n"
          ]
        }
      ]
    },
    {
      "cell_type": "code",
      "source": [
        "print(classification_report(Y_valid, xgb_predict))"
      ],
      "metadata": {
        "colab": {
          "base_uri": "https://localhost:8080/"
        },
        "id": "WvZCuKmEJslm",
        "outputId": "f7b39e96-b996-40f3-aeef-3000909930dd"
      },
      "id": "WvZCuKmEJslm",
      "execution_count": 41,
      "outputs": [
        {
          "output_type": "stream",
          "name": "stdout",
          "text": [
            "              precision    recall  f1-score   support\n",
            "\n",
            "         0.0       0.89      0.90      0.90     84934\n",
            "         1.0       0.40      0.36      0.38     15066\n",
            "\n",
            "    accuracy                           0.82    100000\n",
            "   macro avg       0.64      0.63      0.64    100000\n",
            "weighted avg       0.81      0.82      0.82    100000\n",
            "\n"
          ]
        }
      ]
    },
    {
      "cell_type": "code",
      "source": [
        "plt.rc(\"font\", size=14)\n",
        "\n",
        "xgb_roc_auc = roc_auc_score(Y_valid, xgb_predict)\n",
        "fpr, tpr, thresholds = roc_curve(Y_valid, xgb_probs)\n",
        "plt.figure()\n",
        "plt.plot(fpr, tpr, label='Random forest classifier (area = %0.2f)' % xgb_roc_auc)\n",
        "plt.plot([0, 1], [0, 1],'r--')\n",
        "plt.xlim([0.0, 1.0])\n",
        "plt.ylim([0.0, 1.05])\n",
        "plt.xlabel('False Positive Rate')\n",
        "plt.ylabel('True Positive Rate')\n",
        "plt.title('Receiver operating characteristic')\n",
        "plt.legend(loc=\"lower right\")\n",
        "plt.savefig('DT_ROC')\n",
        "plt.show()"
      ],
      "metadata": {
        "colab": {
          "base_uri": "https://localhost:8080/",
          "height": 0
        },
        "id": "x-10EpyUJwA8",
        "outputId": "b074b10f-57ac-4dc5-e55e-ae6f459855fa"
      },
      "id": "x-10EpyUJwA8",
      "execution_count": 42,
      "outputs": [
        {
          "output_type": "display_data",
          "data": {
            "text/plain": [
              "<Figure size 432x288 with 1 Axes>"
            ],
            "image/png": "[encoded data removed]"
          },
          "metadata": {
            "needs_background": "light"
          }
        }
      ]
    },
    {
      "cell_type": "code",
      "source": [
        "param_grid = {\n",
        "    \"max_depth\": [3, 5, 7],\n",
        "    \"learning_rate\": [0.1, 0.01, 0.05],\n",
        "    \"gamma\": [0, 0.25, 1]}\n",
        "\"\"\"\n",
        "    \"reg_lambda\": [0, 1, 10],\n",
        "    \"scale_pos_weight\": [1, 3, 5],\n",
        "    \"subsample\": [0.8],\n",
        "    \"colsample_bytree\": [0.5],\"\"\"\n"
      ],
      "metadata": {
        "id": "olHqyIcyLnzR",
        "colab": {
          "base_uri": "https://localhost:8080/",
          "height": 0
        },
        "outputId": "457b372d-508b-4ea3-b828-ca90c3cdc6c2"
      },
      "id": "olHqyIcyLnzR",
      "execution_count": 43,
      "outputs": [
        {
          "output_type": "execute_result",
          "data": {
            "text/plain": [
              "'\\n    \"reg_lambda\": [0, 1, 10],\\n    \"scale_pos_weight\": [1, 3, 5],\\n    \"subsample\": [0.8],\\n    \"colsample_bytree\": [0.5],'"
            ],
            "application/vnd.google.colaboratory.intrinsic+json": {
              "type": "string"
            }
          },
          "metadata": {},
          "execution_count": 43
        }
      ]
    },
    {
      "cell_type": "code",
      "source": [
        "\"\"\"from sklearn.model_selection import GridSearchCV\n",
        "\n",
        "# Init classifier\n",
        "xgb_cl = xgb.XGBClassifier(objective=\"binary:logistic\")\n",
        "\n",
        "# Init Grid Search\n",
        "grid_cv = GridSearchCV(xgb_cl, param_grid, n_jobs=-1, cv=3, scoring=\"roc_auc\")\n",
        "\n",
        "# Fit\n",
        "grid_cv.fit(X_train, Y_train)\"\"\""
      ],
      "metadata": {
        "id": "g4QI3fPILpEF",
        "colab": {
          "base_uri": "https://localhost:8080/",
          "height": 0
        },
        "outputId": "574ee8f2-be33-415d-94ad-75bf8284f068"
      },
      "id": "g4QI3fPILpEF",
      "execution_count": 44,
      "outputs": [
        {
          "output_type": "execute_result",
          "data": {
            "text/plain": [
              "'from sklearn.model_selection import GridSearchCV\\n\\n# Init classifier\\nxgb_cl = xgb.XGBClassifier(objective=\"binary:logistic\")\\n\\n# Init Grid Search\\ngrid_cv = GridSearchCV(xgb_cl, param_grid, n_jobs=-1, cv=3, scoring=\"roc_auc\")\\n\\n# Fit\\ngrid_cv.fit(X_train, Y_train)'"
            ],
            "application/vnd.google.colaboratory.intrinsic+json": {
              "type": "string"
            }
          },
          "metadata": {},
          "execution_count": 44
        }
      ]
    },
    {
      "cell_type": "code",
      "source": [
        "\"\"\"grid_cv.best_score_\"\"\""
      ],
      "metadata": {
        "id": "vyhwdOILLwet",
        "colab": {
          "base_uri": "https://localhost:8080/",
          "height": 0
        },
        "outputId": "959da84b-ec65-4bd9-ae5e-cbd0ba2038de"
      },
      "id": "vyhwdOILLwet",
      "execution_count": 45,
      "outputs": [
        {
          "output_type": "execute_result",
          "data": {
            "text/plain": [
              "'grid_cv.best_score_'"
            ],
            "application/vnd.google.colaboratory.intrinsic+json": {
              "type": "string"
            }
          },
          "metadata": {},
          "execution_count": 45
        }
      ]
    },
    {
      "cell_type": "markdown",
      "id": "195cb6d4",
      "metadata": {
        "id": "195cb6d4"
      },
      "source": [
        "### *Other models may also be helpful for this game*\n",
        "\n",
        "Reference: https://scikit-learn.org/stable/supervised_learning.html\n",
        "    "
      ]
    },
    {
      "cell_type": "markdown",
      "id": "95983c35",
      "metadata": {
        "id": "95983c35"
      },
      "source": [
        "## Scoring New Data\n",
        "\n",
        "### Prepare data for scoring"
      ]
    },
    {
      "cell_type": "code",
      "execution_count": 46,
      "id": "d1639b73",
      "metadata": {
        "id": "d1639b73"
      },
      "outputs": [],
      "source": [
        "data3 = sas_session.sasdata2dataframe(\n",
        "table='score',\n",
        "libref='cortex'\n",
        ")\n",
        "data4 = sas_session.sasdata2dataframe(\n",
        "table='score_rd2_contact',\n",
        "libref='cortex'\n",
        ")\n",
        "data5 = sas_session.sasdata2dataframe(\n",
        "table='SCORE_RD2_NOCONTACT',\n",
        "libref='cortex'\n",
        ")"
      ]
    },
    {
      "cell_type": "markdown",
      "id": "6aaee9cc-8511-41a8-b0ab-a882d405d88a",
      "metadata": {
        "id": "6aaee9cc-8511-41a8-b0ab-a882d405d88a"
      },
      "source": [
        " ### Score new data based on your champion model\n",
        " \n",
        " Pick your champion model from previous steps and use it to predict next year donations. \n",
        " \n",
        " In this case, the Decision Tree model performed better than the Logistic Regression model based on the AUC criterion."
      ]
    },
    {
      "cell_type": "markdown",
      "id": "685c9354-243e-434e-80d6-fcf57297e4b9",
      "metadata": {
        "id": "685c9354-243e-434e-80d6-fcf57297e4b9"
      },
      "source": [
        "### Predict 'probability of giving' for members who were contacted"
      ]
    },
    {
      "cell_type": "code",
      "execution_count": 47,
      "id": "18b8a688-14e1-4877-805b-3b967a34b53b",
      "metadata": {
        "collapsed": true,
        "id": "18b8a688-14e1-4877-805b-3b967a34b53b",
        "colab": {
          "base_uri": "https://localhost:8080/",
          "height": 0
        },
        "outputId": "561e4741-0da0-4044-b81b-6fd3bffeac2f"
      },
      "outputs": [
        {
          "output_type": "execute_result",
          "data": {
            "text/plain": [
              "          ID  ProbContact\n",
              "0  2000001.0     0.236445\n",
              "1  2000002.0     0.649368\n",
              "2  2000003.0     0.649368\n",
              "3  2000004.0     0.359097\n",
              "4  2000005.0     0.649368"
            ],
            "text/html": [
              "\n",
              "  <div id=\"df-3bdcb71b-b43a-4dcf-a4ef-30d29150d3c0\">\n",
              "    <div class=\"colab-df-container\">\n",
              "      <div>\n",
              "<style scoped>\n",
              "    .dataframe tbody tr th:only-of-type {\n",
              "        vertical-align: middle;\n",
              "    }\n",
              "\n",
              "    .dataframe tbody tr th {\n",
              "        vertical-align: top;\n",
              "    }\n",
              "\n",
              "    .dataframe thead th {\n",
              "        text-align: right;\n",
              "    }\n",
              "</style>\n",
              "<table border=\"1\" class=\"dataframe\">\n",
              "  <thead>\n",
              "    <tr style=\"text-align: right;\">\n",
              "      <th></th>\n",
              "      <th>ID</th>\n",
              "      <th>ProbContact</th>\n",
              "    </tr>\n",
              "  </thead>\n",
              "  <tbody>\n",
              "    <tr>\n",
              "      <th>0</th>\n",
              "      <td>2000001.0</td>\n",
              "      <td>0.236445</td>\n",
              "    </tr>\n",
              "    <tr>\n",
              "      <th>1</th>\n",
              "      <td>2000002.0</td>\n",
              "      <td>0.649368</td>\n",
              "    </tr>\n",
              "    <tr>\n",
              "      <th>2</th>\n",
              "      <td>2000003.0</td>\n",
              "      <td>0.649368</td>\n",
              "    </tr>\n",
              "    <tr>\n",
              "      <th>3</th>\n",
              "      <td>2000004.0</td>\n",
              "      <td>0.359097</td>\n",
              "    </tr>\n",
              "    <tr>\n",
              "      <th>4</th>\n",
              "      <td>2000005.0</td>\n",
              "      <td>0.649368</td>\n",
              "    </tr>\n",
              "  </tbody>\n",
              "</table>\n",
              "</div>\n",
              "      <button class=\"colab-df-convert\" onclick=\"convertToInteractive('df-3bdcb71b-b43a-4dcf-a4ef-30d29150d3c0')\"\n",
              "              title=\"Convert this dataframe to an interactive table.\"\n",
              "              style=\"display:none;\">\n",
              "        \n",
              "  <svg xmlns=\"http://www.w3.org/2000/svg\" height=\"24px\"viewBox=\"0 0 24 24\"\n",
              "       width=\"24px\">\n",
              "    <path d=\"M0 0h24v24H0V0z\" fill=\"none\"/>\n",
              "    <path d=\"M18.56 5.44l.94 2.06.94-2.06 2.06-.94-2.06-.94-.94-2.06-.94 2.06-2.06.94zm-11 1L8.5 8.5l.94-2.06 2.06-.94-2.06-.94L8.5 2.5l-.94 2.06-2.06.94zm10 10l.94 2.06.94-2.06 2.06-.94-2.06-.94-.94-2.06-.94 2.06-2.06.94z\"/><path d=\"M17.41 7.96l-1.37-1.37c-.4-.4-.92-.59-1.43-.59-.52 0-1.04.2-1.43.59L10.3 9.45l-7.72 7.72c-.78.78-.78 2.05 0 2.83L4 21.41c.39.39.9.59 1.41.59.51 0 1.02-.2 1.41-.59l7.78-7.78 2.81-2.81c.8-.78.8-2.07 0-2.86zM5.41 20L4 18.59l7.72-7.72 1.47 1.35L5.41 20z\"/>\n",
              "  </svg>\n",
              "      </button>\n",
              "      \n",
              "  <style>\n",
              "    .colab-df-container {\n",
              "      display:flex;\n",
              "      flex-wrap:wrap;\n",
              "      gap: 12px;\n",
              "    }\n",
              "\n",
              "    .colab-df-convert {\n",
              "      background-color: #E8F0FE;\n",
              "      border: none;\n",
              "      border-radius: 50%;\n",
              "      cursor: pointer;\n",
              "      display: none;\n",
              "      fill: #1967D2;\n",
              "      height: 32px;\n",
              "      padding: 0 0 0 0;\n",
              "      width: 32px;\n",
              "    }\n",
              "\n",
              "    .colab-df-convert:hover {\n",
              "      background-color: #E2EBFA;\n",
              "      box-shadow: 0px 1px 2px rgba(60, 64, 67, 0.3), 0px 1px 3px 1px rgba(60, 64, 67, 0.15);\n",
              "      fill: #174EA6;\n",
              "    }\n",
              "\n",
              "    [theme=dark] .colab-df-convert {\n",
              "      background-color: #3B4455;\n",
              "      fill: #D2E3FC;\n",
              "    }\n",
              "\n",
              "    [theme=dark] .colab-df-convert:hover {\n",
              "      background-color: #434B5C;\n",
              "      box-shadow: 0px 1px 3px 1px rgba(0, 0, 0, 0.15);\n",
              "      filter: drop-shadow(0px 1px 2px rgba(0, 0, 0, 0.3));\n",
              "      fill: #FFFFFF;\n",
              "    }\n",
              "  </style>\n",
              "\n",
              "      <script>\n",
              "        const buttonEl =\n",
              "          document.querySelector('#df-3bdcb71b-b43a-4dcf-a4ef-30d29150d3c0 button.colab-df-convert');\n",
              "        buttonEl.style.display =\n",
              "          google.colab.kernel.accessAllowed ? 'block' : 'none';\n",
              "\n",
              "        async function convertToInteractive(key) {\n",
              "          const element = document.querySelector('#df-3bdcb71b-b43a-4dcf-a4ef-30d29150d3c0');\n",
              "          const dataTable =\n",
              "            await google.colab.kernel.invokeFunction('convertToInteractive',\n",
              "                                                     [key], {});\n",
              "          if (!dataTable) return;\n",
              "\n",
              "          const docLinkHtml = 'Like what you see? Visit the ' +\n",
              "            '<a target=\"_blank\" href=https://colab.research.google.com/notebooks/data_table.ipynb>data table notebook</a>'\n",
              "            + ' to learn more about interactive tables.';\n",
              "          element.innerHTML = '';\n",
              "          dataTable['output_type'] = 'display_data';\n",
              "          await google.colab.output.renderOutput(dataTable, element);\n",
              "          const docLink = document.createElement('div');\n",
              "          docLink.innerHTML = docLinkHtml;\n",
              "          element.appendChild(docLink);\n",
              "        }\n",
              "      </script>\n",
              "    </div>\n",
              "  </div>\n",
              "  "
            ]
          },
          "metadata": {},
          "execution_count": 47
        }
      ],
      "source": [
        "scoring_data_contact = pd.merge(data3, data4, on=[\"ID\"],how=\"right\")\n",
        "\n",
        "# Perform the same strategy for handling missing values for the score dataset.\n",
        "# In this case, we will only replace missing values of the MinGift variable.\n",
        "\n",
        "scoring_data_contact = deal_with_nulls(scoring_data_contact, True)\n",
        "scoring_data_contact = one_hot_encoding(scoring_data_contact, ['Education', 'City'])\n",
        "scoring_data_contact = scalate(scoring_data_contact, numeric)\n",
        "\n",
        "#scoring_data_contact.head()\n",
        "\n",
        "X = scoring_data_contact[chosen] \n",
        "DT_predict_contact = DT_model.predict_proba(X)[:,1]\n",
        "scoring_data_contact['Prediction_prob'] = DT_predict_contact\n",
        "\n",
        "scoring_data_contact= scoring_data_contact[['ID','Prediction_prob']]\n",
        "scoring_data_contact = scoring_data_contact.rename({'Prediction_prob': 'ProbContact'}, axis=1) \n",
        "scoring_data_contact.head()"
      ]
    },
    {
      "cell_type": "markdown",
      "id": "9606447c-5c1e-4028-b6ea-44f52897524d",
      "metadata": {
        "id": "9606447c-5c1e-4028-b6ea-44f52897524d"
      },
      "source": [
        "### Predict 'probability of giving' for members who were not contacted"
      ]
    },
    {
      "cell_type": "code",
      "execution_count": 48,
      "id": "de392f5e",
      "metadata": {
        "collapsed": true,
        "id": "de392f5e",
        "colab": {
          "base_uri": "https://localhost:8080/",
          "height": 206
        },
        "outputId": "2cd37b01-4e7a-4595-bec0-9273c9cc868e"
      },
      "outputs": [
        {
          "output_type": "execute_result",
          "data": {
            "text/plain": [
              "          ID  ProbNoContact\n",
              "0  2000001.0       0.142581\n",
              "1  2000002.0       0.084130\n",
              "2  2000003.0       0.061096\n",
              "3  2000004.0       0.061096\n",
              "4  2000005.0       0.061096"
            ],
            "text/html": [
              "\n",
              "  <div id=\"df-c2618a95-4cc5-4194-a228-7fa634f285a8\">\n",
              "    <div class=\"colab-df-container\">\n",
              "      <div>\n",
              "<style scoped>\n",
              "    .dataframe tbody tr th:only-of-type {\n",
              "        vertical-align: middle;\n",
              "    }\n",
              "\n",
              "    .dataframe tbody tr th {\n",
              "        vertical-align: top;\n",
              "    }\n",
              "\n",
              "    .dataframe thead th {\n",
              "        text-align: right;\n",
              "    }\n",
              "</style>\n",
              "<table border=\"1\" class=\"dataframe\">\n",
              "  <thead>\n",
              "    <tr style=\"text-align: right;\">\n",
              "      <th></th>\n",
              "      <th>ID</th>\n",
              "      <th>ProbNoContact</th>\n",
              "    </tr>\n",
              "  </thead>\n",
              "  <tbody>\n",
              "    <tr>\n",
              "      <th>0</th>\n",
              "      <td>2000001.0</td>\n",
              "      <td>0.142581</td>\n",
              "    </tr>\n",
              "    <tr>\n",
              "      <th>1</th>\n",
              "      <td>2000002.0</td>\n",
              "      <td>0.084130</td>\n",
              "    </tr>\n",
              "    <tr>\n",
              "      <th>2</th>\n",
              "      <td>2000003.0</td>\n",
              "      <td>0.061096</td>\n",
              "    </tr>\n",
              "    <tr>\n",
              "      <th>3</th>\n",
              "      <td>2000004.0</td>\n",
              "      <td>0.061096</td>\n",
              "    </tr>\n",
              "    <tr>\n",
              "      <th>4</th>\n",
              "      <td>2000005.0</td>\n",
              "      <td>0.061096</td>\n",
              "    </tr>\n",
              "  </tbody>\n",
              "</table>\n",
              "</div>\n",
              "      <button class=\"colab-df-convert\" onclick=\"convertToInteractive('df-c2618a95-4cc5-4194-a228-7fa634f285a8')\"\n",
              "              title=\"Convert this dataframe to an interactive table.\"\n",
              "              style=\"display:none;\">\n",
              "        \n",
              "  <svg xmlns=\"http://www.w3.org/2000/svg\" height=\"24px\"viewBox=\"0 0 24 24\"\n",
              "       width=\"24px\">\n",
              "    <path d=\"M0 0h24v24H0V0z\" fill=\"none\"/>\n",
              "    <path d=\"M18.56 5.44l.94 2.06.94-2.06 2.06-.94-2.06-.94-.94-2.06-.94 2.06-2.06.94zm-11 1L8.5 8.5l.94-2.06 2.06-.94-2.06-.94L8.5 2.5l-.94 2.06-2.06.94zm10 10l.94 2.06.94-2.06 2.06-.94-2.06-.94-.94-2.06-.94 2.06-2.06.94z\"/><path d=\"M17.41 7.96l-1.37-1.37c-.4-.4-.92-.59-1.43-.59-.52 0-1.04.2-1.43.59L10.3 9.45l-7.72 7.72c-.78.78-.78 2.05 0 2.83L4 21.41c.39.39.9.59 1.41.59.51 0 1.02-.2 1.41-.59l7.78-7.78 2.81-2.81c.8-.78.8-2.07 0-2.86zM5.41 20L4 18.59l7.72-7.72 1.47 1.35L5.41 20z\"/>\n",
              "  </svg>\n",
              "      </button>\n",
              "      \n",
              "  <style>\n",
              "    .colab-df-container {\n",
              "      display:flex;\n",
              "      flex-wrap:wrap;\n",
              "      gap: 12px;\n",
              "    }\n",
              "\n",
              "    .colab-df-convert {\n",
              "      background-color: #E8F0FE;\n",
              "      border: none;\n",
              "      border-radius: 50%;\n",
              "      cursor: pointer;\n",
              "      display: none;\n",
              "      fill: #1967D2;\n",
              "      height: 32px;\n",
              "      padding: 0 0 0 0;\n",
              "      width: 32px;\n",
              "    }\n",
              "\n",
              "    .colab-df-convert:hover {\n",
              "      background-color: #E2EBFA;\n",
              "      box-shadow: 0px 1px 2px rgba(60, 64, 67, 0.3), 0px 1px 3px 1px rgba(60, 64, 67, 0.15);\n",
              "      fill: #174EA6;\n",
              "    }\n",
              "\n",
              "    [theme=dark] .colab-df-convert {\n",
              "      background-color: #3B4455;\n",
              "      fill: #D2E3FC;\n",
              "    }\n",
              "\n",
              "    [theme=dark] .colab-df-convert:hover {\n",
              "      background-color: #434B5C;\n",
              "      box-shadow: 0px 1px 3px 1px rgba(0, 0, 0, 0.15);\n",
              "      filter: drop-shadow(0px 1px 2px rgba(0, 0, 0, 0.3));\n",
              "      fill: #FFFFFF;\n",
              "    }\n",
              "  </style>\n",
              "\n",
              "      <script>\n",
              "        const buttonEl =\n",
              "          document.querySelector('#df-c2618a95-4cc5-4194-a228-7fa634f285a8 button.colab-df-convert');\n",
              "        buttonEl.style.display =\n",
              "          google.colab.kernel.accessAllowed ? 'block' : 'none';\n",
              "\n",
              "        async function convertToInteractive(key) {\n",
              "          const element = document.querySelector('#df-c2618a95-4cc5-4194-a228-7fa634f285a8');\n",
              "          const dataTable =\n",
              "            await google.colab.kernel.invokeFunction('convertToInteractive',\n",
              "                                                     [key], {});\n",
              "          if (!dataTable) return;\n",
              "\n",
              "          const docLinkHtml = 'Like what you see? Visit the ' +\n",
              "            '<a target=\"_blank\" href=https://colab.research.google.com/notebooks/data_table.ipynb>data table notebook</a>'\n",
              "            + ' to learn more about interactive tables.';\n",
              "          element.innerHTML = '';\n",
              "          dataTable['output_type'] = 'display_data';\n",
              "          await google.colab.output.renderOutput(dataTable, element);\n",
              "          const docLink = document.createElement('div');\n",
              "          docLink.innerHTML = docLinkHtml;\n",
              "          element.appendChild(docLink);\n",
              "        }\n",
              "      </script>\n",
              "    </div>\n",
              "  </div>\n",
              "  "
            ]
          },
          "metadata": {},
          "execution_count": 48
        }
      ],
      "source": [
        "scoring_data_nocontact = pd.merge(data3, data5, on=[\"ID\"],how=\"right\")\n",
        "\n",
        "# Perform the same strategy for handling missing values for the score dataset.\n",
        "# In this case, we will only replace missing values of the MinGift variable.\n",
        "\n",
        "scoring_data_nocontact = deal_with_nulls(scoring_data_nocontact, True)\n",
        "scoring_data_nocontact = one_hot_encoding(scoring_data_nocontact, ['Education', 'City'])\n",
        "scoring_data_nocontact = scalate(scoring_data_nocontact, numeric)\n",
        "\n",
        "#scoring_data_contact.head()\n",
        "\n",
        "X = scoring_data_nocontact[chosen] \n",
        "DT_predict_nocontact=DT_model.predict_proba(X)[:,1]\n",
        "scoring_data_nocontact['Prediction_prob'] = DT_predict_nocontact\n",
        "\n",
        "scoring_data_nocontact= scoring_data_nocontact[['ID','Prediction_prob']]\n",
        "scoring_data_nocontact = scoring_data_nocontact.rename({'Prediction_prob': 'ProbNoContact'}, axis=1) \n",
        "scoring_data_nocontact.head()"
      ]
    },
    {
      "cell_type": "code",
      "execution_count": 49,
      "id": "5036d69c",
      "metadata": {
        "collapsed": true,
        "id": "5036d69c",
        "colab": {
          "base_uri": "https://localhost:8080/",
          "height": 363
        },
        "outputId": "ccb73ca8-eee8-42dd-fc85-fba9d7f9ec62"
      },
      "outputs": [
        {
          "output_type": "execute_result",
          "data": {
            "text/plain": [
              "               ID  ProbContact  ProbNoContact\n",
              "666601  2666602.0     0.183570       0.087262\n",
              "981383  2981384.0     0.459615       0.402178\n",
              "98875   2098876.0     0.183570       0.102733\n",
              "431714  2431715.0     0.649368       0.074563\n",
              "761005  2761006.0     0.253704       0.061096\n",
              "89051   2089052.0     0.649368       0.087262\n",
              "569229  2569230.0     0.508651       0.233410\n",
              "309951  2309952.0     0.236445       0.087262\n",
              "265150  2265151.0     0.395735       0.299060\n",
              "155772  2155773.0     0.359097       0.293522"
            ],
            "text/html": [
              "\n",
              "  <div id=\"df-3b3c7cc8-240a-46a2-b753-d6bd0878277c\">\n",
              "    <div class=\"colab-df-container\">\n",
              "      <div>\n",
              "<style scoped>\n",
              "    .dataframe tbody tr th:only-of-type {\n",
              "        vertical-align: middle;\n",
              "    }\n",
              "\n",
              "    .dataframe tbody tr th {\n",
              "        vertical-align: top;\n",
              "    }\n",
              "\n",
              "    .dataframe thead th {\n",
              "        text-align: right;\n",
              "    }\n",
              "</style>\n",
              "<table border=\"1\" class=\"dataframe\">\n",
              "  <thead>\n",
              "    <tr style=\"text-align: right;\">\n",
              "      <th></th>\n",
              "      <th>ID</th>\n",
              "      <th>ProbContact</th>\n",
              "      <th>ProbNoContact</th>\n",
              "    </tr>\n",
              "  </thead>\n",
              "  <tbody>\n",
              "    <tr>\n",
              "      <th>666601</th>\n",
              "      <td>2666602.0</td>\n",
              "      <td>0.183570</td>\n",
              "      <td>0.087262</td>\n",
              "    </tr>\n",
              "    <tr>\n",
              "      <th>981383</th>\n",
              "      <td>2981384.0</td>\n",
              "      <td>0.459615</td>\n",
              "      <td>0.402178</td>\n",
              "    </tr>\n",
              "    <tr>\n",
              "      <th>98875</th>\n",
              "      <td>2098876.0</td>\n",
              "      <td>0.183570</td>\n",
              "      <td>0.102733</td>\n",
              "    </tr>\n",
              "    <tr>\n",
              "      <th>431714</th>\n",
              "      <td>2431715.0</td>\n",
              "      <td>0.649368</td>\n",
              "      <td>0.074563</td>\n",
              "    </tr>\n",
              "    <tr>\n",
              "      <th>761005</th>\n",
              "      <td>2761006.0</td>\n",
              "      <td>0.253704</td>\n",
              "      <td>0.061096</td>\n",
              "    </tr>\n",
              "    <tr>\n",
              "      <th>89051</th>\n",
              "      <td>2089052.0</td>\n",
              "      <td>0.649368</td>\n",
              "      <td>0.087262</td>\n",
              "    </tr>\n",
              "    <tr>\n",
              "      <th>569229</th>\n",
              "      <td>2569230.0</td>\n",
              "      <td>0.508651</td>\n",
              "      <td>0.233410</td>\n",
              "    </tr>\n",
              "    <tr>\n",
              "      <th>309951</th>\n",
              "      <td>2309952.0</td>\n",
              "      <td>0.236445</td>\n",
              "      <td>0.087262</td>\n",
              "    </tr>\n",
              "    <tr>\n",
              "      <th>265150</th>\n",
              "      <td>2265151.0</td>\n",
              "      <td>0.395735</td>\n",
              "      <td>0.299060</td>\n",
              "    </tr>\n",
              "    <tr>\n",
              "      <th>155772</th>\n",
              "      <td>2155773.0</td>\n",
              "      <td>0.359097</td>\n",
              "      <td>0.293522</td>\n",
              "    </tr>\n",
              "  </tbody>\n",
              "</table>\n",
              "</div>\n",
              "      <button class=\"colab-df-convert\" onclick=\"convertToInteractive('df-3b3c7cc8-240a-46a2-b753-d6bd0878277c')\"\n",
              "              title=\"Convert this dataframe to an interactive table.\"\n",
              "              style=\"display:none;\">\n",
              "        \n",
              "  <svg xmlns=\"http://www.w3.org/2000/svg\" height=\"24px\"viewBox=\"0 0 24 24\"\n",
              "       width=\"24px\">\n",
              "    <path d=\"M0 0h24v24H0V0z\" fill=\"none\"/>\n",
              "    <path d=\"M18.56 5.44l.94 2.06.94-2.06 2.06-.94-2.06-.94-.94-2.06-.94 2.06-2.06.94zm-11 1L8.5 8.5l.94-2.06 2.06-.94-2.06-.94L8.5 2.5l-.94 2.06-2.06.94zm10 10l.94 2.06.94-2.06 2.06-.94-2.06-.94-.94-2.06-.94 2.06-2.06.94z\"/><path d=\"M17.41 7.96l-1.37-1.37c-.4-.4-.92-.59-1.43-.59-.52 0-1.04.2-1.43.59L10.3 9.45l-7.72 7.72c-.78.78-.78 2.05 0 2.83L4 21.41c.39.39.9.59 1.41.59.51 0 1.02-.2 1.41-.59l7.78-7.78 2.81-2.81c.8-.78.8-2.07 0-2.86zM5.41 20L4 18.59l7.72-7.72 1.47 1.35L5.41 20z\"/>\n",
              "  </svg>\n",
              "      </button>\n",
              "      \n",
              "  <style>\n",
              "    .colab-df-container {\n",
              "      display:flex;\n",
              "      flex-wrap:wrap;\n",
              "      gap: 12px;\n",
              "    }\n",
              "\n",
              "    .colab-df-convert {\n",
              "      background-color: #E8F0FE;\n",
              "      border: none;\n",
              "      border-radius: 50%;\n",
              "      cursor: pointer;\n",
              "      display: none;\n",
              "      fill: #1967D2;\n",
              "      height: 32px;\n",
              "      padding: 0 0 0 0;\n",
              "      width: 32px;\n",
              "    }\n",
              "\n",
              "    .colab-df-convert:hover {\n",
              "      background-color: #E2EBFA;\n",
              "      box-shadow: 0px 1px 2px rgba(60, 64, 67, 0.3), 0px 1px 3px 1px rgba(60, 64, 67, 0.15);\n",
              "      fill: #174EA6;\n",
              "    }\n",
              "\n",
              "    [theme=dark] .colab-df-convert {\n",
              "      background-color: #3B4455;\n",
              "      fill: #D2E3FC;\n",
              "    }\n",
              "\n",
              "    [theme=dark] .colab-df-convert:hover {\n",
              "      background-color: #434B5C;\n",
              "      box-shadow: 0px 1px 3px 1px rgba(0, 0, 0, 0.15);\n",
              "      filter: drop-shadow(0px 1px 2px rgba(0, 0, 0, 0.3));\n",
              "      fill: #FFFFFF;\n",
              "    }\n",
              "  </style>\n",
              "\n",
              "      <script>\n",
              "        const buttonEl =\n",
              "          document.querySelector('#df-3b3c7cc8-240a-46a2-b753-d6bd0878277c button.colab-df-convert');\n",
              "        buttonEl.style.display =\n",
              "          google.colab.kernel.accessAllowed ? 'block' : 'none';\n",
              "\n",
              "        async function convertToInteractive(key) {\n",
              "          const element = document.querySelector('#df-3b3c7cc8-240a-46a2-b753-d6bd0878277c');\n",
              "          const dataTable =\n",
              "            await google.colab.kernel.invokeFunction('convertToInteractive',\n",
              "                                                     [key], {});\n",
              "          if (!dataTable) return;\n",
              "\n",
              "          const docLinkHtml = 'Like what you see? Visit the ' +\n",
              "            '<a target=\"_blank\" href=https://colab.research.google.com/notebooks/data_table.ipynb>data table notebook</a>'\n",
              "            + ' to learn more about interactive tables.';\n",
              "          element.innerHTML = '';\n",
              "          dataTable['output_type'] = 'display_data';\n",
              "          await google.colab.output.renderOutput(dataTable, element);\n",
              "          const docLink = document.createElement('div');\n",
              "          docLink.innerHTML = docLinkHtml;\n",
              "          element.appendChild(docLink);\n",
              "        }\n",
              "      </script>\n",
              "    </div>\n",
              "  </div>\n",
              "  "
            ]
          },
          "metadata": {},
          "execution_count": 49
        }
      ],
      "source": [
        "result_Prob = pd.merge(scoring_data_contact, scoring_data_nocontact, on=[\"ID\"],how=\"right\")\n",
        "result_Prob.sort_values(by=['ID'], inplace=True)\n",
        "result_Prob.sample(10)"
      ]
    },
    {
      "cell_type": "markdown",
      "id": "f09bf90d",
      "metadata": {
        "id": "f09bf90d"
      },
      "source": [
        "## Exporting Results to a CSV File"
      ]
    },
    {
      "cell_type": "code",
      "execution_count": 50,
      "id": "606bf0a9",
      "metadata": {
        "id": "606bf0a9"
      },
      "outputs": [],
      "source": [
        "result_Prob.to_csv('Round2_Output_prob.csv', index=False)"
      ]
    },
    {
      "cell_type": "code",
      "source": [
        "!head Round2_Output_amt.csv"
      ],
      "metadata": {
        "colab": {
          "base_uri": "https://localhost:8080/"
        },
        "id": "aHGp5A9l25xh",
        "outputId": "534297f5-0c4f-4e5b-a070-3db0b0895f12"
      },
      "id": "aHGp5A9l25xh",
      "execution_count": 51,
      "outputs": [
        {
          "output_type": "stream",
          "name": "stdout",
          "text": [
            "ID,AmtContact,AmtNoContact\n",
            "2000001.0,59.90292125272901,75.39484930837777\n",
            "2000002.0,54.94687679732393,51.3560942034364\n",
            "2000003.0,102.0959273974884,63.792519259771865\n",
            "2000004.0,40.2205108191173,31.605214096848815\n",
            "2000005.0,107.20610317043486,69.05645289174822\n",
            "2000006.0,37.049398284927044,28.212286659710426\n",
            "2000007.0,30.64293417841352,45.624511257942444\n",
            "2000008.0,58.981562187127444,63.07296369835893\n",
            "2000009.0,43.53916230948834,39.72757634081598\n"
          ]
        }
      ]
    },
    {
      "cell_type": "code",
      "execution_count": 52,
      "id": "d9741c47-e3ba-4c76-9ddc-f1a6ee545677",
      "metadata": {
        "id": "d9741c47-e3ba-4c76-9ddc-f1a6ee545677"
      },
      "outputs": [],
      "source": [
        "import pandas as pd\n",
        "\n",
        "probabilities = pd.read_csv(\"Round2_Output_prob.csv\")\n",
        "amounts = pd.read_csv(\"Round2_Output_amt.csv\")\n",
        "\n",
        "def Calc_Uplift(raw_data):\n",
        "    return ((raw_data['AmtContact']*raw_data['ProbContact']) - (raw_data['AmtNoContact']*raw_data['ProbNoContact']))\n",
        "\n",
        "raw_submission = pd.merge(probabilities, amounts, on=[\"ID\"], how=\"right\")\n",
        "raw_submission[\"Uplift\"] = raw_submission.apply(lambda row: Calc_Uplift(row), axis=1)\n",
        "\n",
        "# Sorting data by descending Uplift value\n",
        "raw_submission.sort_values(by=['Uplift'], ascending=False, inplace=True)\n"
      ]
    },
    {
      "cell_type": "code",
      "source": [
        "for num, raw in enumerate(raw_submission[\"Uplift\"]):\n",
        "  if raw < 25:\n",
        "    break\n",
        "\n",
        "print(num)"
      ],
      "metadata": {
        "id": "Zn9wAK4QWLpy",
        "colab": {
          "base_uri": "https://localhost:8080/"
        },
        "outputId": "3372c77a-3fbb-4eb5-8f8d-ab5ef92a312a"
      },
      "id": "Zn9wAK4QWLpy",
      "execution_count": 53,
      "outputs": [
        {
          "output_type": "stream",
          "name": "stdout",
          "text": [
            "171764\n"
          ]
        }
      ]
    },
    {
      "cell_type": "code",
      "source": [
        "NB = num - 1"
      ],
      "metadata": {
        "id": "y0OaGp3ZW5BD"
      },
      "id": "y0OaGp3ZW5BD",
      "execution_count": 54,
      "outputs": []
    },
    {
      "cell_type": "code",
      "source": [
        "raw_submission2 = raw_submission[\"ID\"]"
      ],
      "metadata": {
        "id": "Gwqew6zZVCCl"
      },
      "id": "Gwqew6zZVCCl",
      "execution_count": 55,
      "outputs": []
    },
    {
      "cell_type": "code",
      "execution_count": 56,
      "id": "4d5cbccf",
      "metadata": {
        "id": "4d5cbccf"
      },
      "outputs": [],
      "source": [
        "# Export the final csv file\n",
        "\n",
        "submission = raw_submission2.head(NB)\n",
        "\n",
        "#submission.to_csv('Round2 Output final3.csv', index=False)\n",
        "submission.to_csv('Round2 Output finalTEST24.csv', index=False)\n"
      ]
    },
    {
      "cell_type": "code",
      "execution_count": 57,
      "id": "25a62862-9ecb-4331-b934-fd7caaf858c4",
      "metadata": {
        "id": "25a62862-9ecb-4331-b934-fd7caaf858c4"
      },
      "outputs": [],
      "source": [
        "# Congratulations! You are now done with Round 2. You are ready to prepare your solution to upload it to the leaderboard."
      ]
    },
    {
      "cell_type": "code",
      "execution_count": 58,
      "id": "74e84743",
      "metadata": {
        "collapsed": true,
        "id": "74e84743"
      },
      "outputs": [],
      "source": [
        "# Reminder: Please note that you need only one column (the list of donors' IDs) to submit to the leaderboard."
      ]
    },
    {
      "cell_type": "code",
      "source": [
        "!head Round2\\ Output\\ finalTEST24.csv"
      ],
      "metadata": {
        "colab": {
          "base_uri": "https://localhost:8080/"
        },
        "id": "VlW44HSYBvxK",
        "outputId": "3f945641-4d7e-40fa-eb6d-ad01a2aa6171"
      },
      "id": "VlW44HSYBvxK",
      "execution_count": 59,
      "outputs": [
        {
          "output_type": "stream",
          "name": "stdout",
          "text": [
            "ID\n",
            "2211986.0\n",
            "2277667.0\n",
            "2388572.0\n",
            "2328642.0\n",
            "2699502.0\n",
            "2396034.0\n",
            "2723864.0\n",
            "2551334.0\n",
            "2002476.0\n"
          ]
        }
      ]
    }
  ],
  "metadata": {
    "kernelspec": {
      "display_name": "Python 3",
      "language": "python",
      "name": "python3"
    },
    "language_info": {
      "codemirror_mode": {
        "name": "ipython",
        "version": 3
      },
      "file_extension": ".py",
      "mimetype": "text/x-python",
      "name": "python",
      "nbconvert_exporter": "python",
      "pygments_lexer": "ipython3",
      "version": "3.8.8"
    },
    "colab": {
      "provenance": []
    }
  },
  "nbformat": 4,
  "nbformat_minor": 5
}