{
  "cells": [
    {
      "cell_type": "markdown",
      "id": "44509e0a",
      "metadata": {
        "id": "44509e0a"
      },
      "source": [
        "![Python_logo](https://www.python.org/static/community_logos/python-logo-master-v3-TM.png)\n",
        "\n",
        "\n",
        "   # **Cortex Game: Round1--Amount**"
      ]
    },
    {
      "cell_type": "markdown",
      "id": "e6bf1264-7b5f-4f0e-a622-c308e40cb8be",
      "metadata": {
        "id": "e6bf1264-7b5f-4f0e-a622-c308e40cb8be"
      },
      "source": [
        "> Before playing the game, you need to connect to SASPy first.\n",
        ">\n",
        ">> If it is your first time, please follow the 4 steps mentioned below!"
      ]
    },
    {
      "cell_type": "markdown",
      "id": "d1a48e10-b624-4430-9cd1-25869d600d71",
      "metadata": {
        "id": "d1a48e10-b624-4430-9cd1-25869d600d71"
      },
      "source": [
        "***\n",
        "## **Connect to SASPy**"
      ]
    },
    {
      "cell_type": "markdown",
      "source": [
        "**0- Connect to your Google Drive folder**"
      ],
      "metadata": {
        "id": "wgW_D1kOY6d6"
      },
      "id": "wgW_D1kOY6d6"
    },
    {
      "cell_type": "code",
      "source": [
        "my_folder = \"/content/drive/MyDrive/cortex\"\n",
        "\n",
        "from google.colab import drive\n",
        "drive.mount('/content/drive')\n",
        "\n",
        "# Change the following code to set your Drive folder\n",
        "import os\n",
        "os.chdir(my_folder)\n",
        "!pwd"
      ],
      "metadata": {
        "colab": {
          "base_uri": "https://localhost:8080/"
        },
        "id": "EqAV8e1WY45k",
        "outputId": "f6ed9454-4d34-4483-c389-746fb17991ae"
      },
      "id": "EqAV8e1WY45k",
      "execution_count": 1,
      "outputs": [
        {
          "output_type": "stream",
          "name": "stdout",
          "text": [
            "Mounted at /content/drive\n",
            "/content/drive/MyDrive/cortex\n"
          ]
        }
      ]
    },
    {
      "cell_type": "markdown",
      "id": "ec889f32",
      "metadata": {
        "id": "ec889f32"
      },
      "source": [
        "**1- Make sure that your Python version is 3.3 or higher as well as your Java version is 1.8.0_162 or higher**"
      ]
    },
    {
      "cell_type": "code",
      "execution_count": 2,
      "id": "6d369a1a",
      "metadata": {
        "collapsed": true,
        "colab": {
          "base_uri": "https://localhost:8080/"
        },
        "id": "6d369a1a",
        "outputId": "1fe910d3-4ba3-4443-9cab-a0590568ba2f"
      },
      "outputs": [
        {
          "output_type": "stream",
          "name": "stdout",
          "text": [
            "Python is at /usr/local/bin/python\n",
            "Python 3.8.15\n"
          ]
        }
      ],
      "source": [
        "!echo \"Python is at\" $(which python)\n",
        "!python --version"
      ]
    },
    {
      "cell_type": "code",
      "source": [
        "!echo \"Java is at\" $(which java)\n",
        "!/usr/bin/java -version"
      ],
      "metadata": {
        "colab": {
          "base_uri": "https://localhost:8080/"
        },
        "id": "iNG5tchbZn5m",
        "outputId": "d121b2c6-1f56-49e7-b663-2a2d3d46470c"
      },
      "id": "iNG5tchbZn5m",
      "execution_count": 3,
      "outputs": [
        {
          "output_type": "stream",
          "name": "stdout",
          "text": [
            "Java is at /usr/bin/java\n",
            "openjdk version \"11.0.17\" 2022-10-18\n",
            "OpenJDK Runtime Environment (build 11.0.17+8-post-Ubuntu-1ubuntu218.04)\n",
            "OpenJDK 64-Bit Server VM (build 11.0.17+8-post-Ubuntu-1ubuntu218.04, mixed mode, sharing)\n"
          ]
        }
      ]
    },
    {
      "cell_type": "markdown",
      "id": "10e73c6f",
      "metadata": {
        "id": "10e73c6f"
      },
      "source": [
        "**2- Install SASPy**"
      ]
    },
    {
      "cell_type": "code",
      "execution_count": 4,
      "id": "1c053af0",
      "metadata": {
        "collapsed": true,
        "colab": {
          "base_uri": "https://localhost:8080/"
        },
        "id": "1c053af0",
        "outputId": "7d8ef07b-5c12-4f44-97bb-b218fb0715b8"
      },
      "outputs": [
        {
          "output_type": "stream",
          "name": "stdout",
          "text": [
            "Looking in indexes: https://pypi.org/simple, https://us-python.pkg.dev/colab-wheels/public/simple/\n",
            "Collecting saspy\n",
            "  Downloading saspy-4.4.1.tar.gz (9.9 MB)\n",
            "\u001b[K     |████████████████████████████████| 9.9 MB 7.6 MB/s \n",
            "\u001b[?25hBuilding wheels for collected packages: saspy\n",
            "  Building wheel for saspy (setup.py) ... \u001b[?25l\u001b[?25hdone\n",
            "  Created wheel for saspy: filename=saspy-4.4.1-py3-none-any.whl size=9937304 sha256=5ccb6ad68ad95ad346531c14826eb71866efc9222fcb8013ff7c0e5af07c40a2\n",
            "  Stored in directory: /root/.cache/pip/wheels/0a/f6/ab/f7173c8a824856c66f6fd50194bb8fd3ef93fb4f1824be8d0c\n",
            "Successfully built saspy\n",
            "Installing collected packages: saspy\n",
            "Successfully installed saspy-4.4.1\n"
          ]
        }
      ],
      "source": [
        "!pip install saspy"
      ]
    },
    {
      "cell_type": "markdown",
      "id": "9fb501a5",
      "metadata": {
        "id": "9fb501a5"
      },
      "source": [
        "**3- Create the configuration file \"sascfg_personal.py\"**\n",
        "Please, check that your Home Region is correct, you can check it at [ODA-SAS](https://welcome.oda.sas.com/home)"
      ]
    },
    {
      "cell_type": "code",
      "execution_count": 5,
      "id": "c1a441c5-17c6-4818-841a-b87cf9a864f8",
      "metadata": {
        "collapsed": true,
        "tags": [],
        "colab": {
          "base_uri": "https://localhost:8080/"
        },
        "id": "c1a441c5-17c6-4818-841a-b87cf9a864f8",
        "outputId": "0d034b26-c7da-45b8-cad3-989af2d855bf"
      },
      "outputs": [
        {
          "output_type": "stream",
          "name": "stdout",
          "text": [
            "Overwriting sascfg_personal.py\n"
          ]
        }
      ],
      "source": [
        "%%writefile sascfg_personal.py\n",
        "SAS_config_names=['oda']\n",
        "oda = {'java' : '/usr/bin/java',\n",
        "#US Home Region 1\n",
        "#'iomhost' : ['odaws01-usw2.oda.sas.com','odaws02-usw2.oda.sas.com','odaws03-usw2.oda.sas.com','odaws04-usw2.oda.sas.com'],\n",
        "#US Home Region 2\n",
        "'iomhost' : ['odaws01-usw2-2.oda.sas.com','odaws02-usw2-2.oda.sas.com'],\n",
        "#European Home Region 1\n",
        "#'iomhost' : ['odaws01-euw1.oda.sas.com','odaws02-euw1.oda.sas.com'],\n",
        "#Asia Pacific Home Region 1\n",
        "#'iomhost' : ['odaws01-apse1.oda.sas.com','odaws02-apse1.oda.sas.com'],\n",
        "#Asia Pacific Home Region 2\n",
        "#'iomhost' : ['odaws01-apse1-2.oda.sas.com','odaws02-apse1-2.oda.sas.com'],\n",
        "'iomport' : 8591,\n",
        "'authkey' : 'oda',\n",
        "'encoding' : 'utf-8'\n",
        "}"
      ]
    },
    {
      "cell_type": "markdown",
      "source": [
        "**4- Create your .authinfo**"
      ],
      "metadata": {
        "id": "nQ_YzHeRaWH8"
      },
      "id": "nQ_YzHeRaWH8"
    },
    {
      "cell_type": "markdown",
      "source": [
        "If there is no .authinfo file, you can create this"
      ],
      "metadata": {
        "id": "-RZAKpvL_eFC"
      },
      "id": "-RZAKpvL_eFC"
    },
    {
      "cell_type": "code",
      "source": [
        "#%%writefile .authinfo\n",
        "#oda user USR password PWD"
      ],
      "metadata": {
        "id": "XZ4wlGJ2aT71"
      },
      "id": "XZ4wlGJ2aT71",
      "execution_count": 6,
      "outputs": []
    },
    {
      "cell_type": "markdown",
      "source": [
        "Copy this file to home"
      ],
      "metadata": {
        "id": "001tNy2D_gA0"
      },
      "id": "001tNy2D_gA0"
    },
    {
      "cell_type": "code",
      "source": [
        "!cp .authinfo ~/.authinfo"
      ],
      "metadata": {
        "id": "KeduVWzNSoLr"
      },
      "id": "KeduVWzNSoLr",
      "execution_count": 7,
      "outputs": []
    },
    {
      "cell_type": "markdown",
      "id": "11efebd8",
      "metadata": {
        "id": "11efebd8"
      },
      "source": [
        "**5- Establish Connection (Need to do this step each time you use SASPy)**"
      ]
    },
    {
      "cell_type": "code",
      "execution_count": 8,
      "id": "413ecaba",
      "metadata": {
        "collapsed": true,
        "colab": {
          "base_uri": "https://localhost:8080/"
        },
        "id": "413ecaba",
        "outputId": "ae4efb3a-15f6-48c5-c2f2-9e1fac1d1159"
      },
      "outputs": [
        {
          "output_type": "stream",
          "name": "stdout",
          "text": [
            "Using SAS Config named: oda\n",
            "SAS Connection established. Subprocess id is 358\n",
            "\n"
          ]
        },
        {
          "output_type": "execute_result",
          "data": {
            "text/plain": [
              "Access Method         = IOM\n",
              "SAS Config name       = oda\n",
              "SAS Config file       = /content/drive/MyDrive/cortex/sascfg_personal.py\n",
              "WORK Path             = /saswork/SAS_work645D00012433_odaws02-usw2-2.oda.sas.com/SAS_work1D7E00012433_odaws02-usw2-2.oda.sas.com/\n",
              "SAS Version           = 9.04.01M6P11072018\n",
              "SASPy Version         = 4.4.1\n",
              "Teach me SAS          = False\n",
              "Batch                 = False\n",
              "Results               = Pandas\n",
              "SAS Session Encoding  = utf-8\n",
              "Python Encoding value = utf-8\n",
              "SAS process Pid value = 74803\n"
            ]
          },
          "metadata": {},
          "execution_count": 8
        }
      ],
      "source": [
        "import saspy\n",
        "sas_session = saspy.SASsession(cfgfile=\"/content/drive/MyDrive/cortex/sascfg_personal.py\")\n",
        "sas_session"
      ]
    },
    {
      "cell_type": "markdown",
      "id": "719fb2db-4238-4892-aab6-757f696ccd57",
      "metadata": {
        "id": "719fb2db-4238-4892-aab6-757f696ccd57"
      },
      "source": [
        "***\n",
        "## Connect to Cortex Data Sets"
      ]
    },
    {
      "cell_type": "markdown",
      "id": "a9e40645",
      "metadata": {
        "id": "a9e40645"
      },
      "source": [
        "Load Cortex datasets from SAS Studio"
      ]
    },
    {
      "cell_type": "code",
      "source": [
        "ps = sas_session.submit(\"\"\"\n",
        "    libname cortex '~/my_shared_file_links/u39842936/Cortex Data Sets';\n",
        "    \"\"\")\n",
        "print(ps[\"LOG\"])"
      ],
      "metadata": {
        "colab": {
          "base_uri": "https://localhost:8080/"
        },
        "id": "e0OUk4FSX32H",
        "outputId": "07f333e7-9a88-4e1f-dc87-9a4031c22a38"
      },
      "id": "e0OUk4FSX32H",
      "execution_count": 9,
      "outputs": [
        {
          "output_type": "stream",
          "name": "stdout",
          "text": [
            "\n",
            "5                                                          The SAS System                    Saturday, December  3, 2022 05:03:00 AM\n",
            "\n",
            "24         ods listing close;ods html5 (id=saspy_internal) file=_tomods1 options(bitmap_mode='inline') device=svg style=HTMLBlue;\n",
            "24       ! ods graphics on / outputfmt=png;\n",
            "25         \n",
            "26         \n",
            "27             libname cortex '~/my_shared_file_links/u39842936/Cortex Data Sets';\n",
            "28         \n",
            "29         \n",
            "30         \n",
            "31         ods html5 (id=saspy_internal) close;ods listing;\n",
            "32         \n",
            "\n",
            "6                                                          The SAS System                    Saturday, December  3, 2022 05:03:00 AM\n",
            "\n",
            "33         \n"
          ]
        }
      ]
    },
    {
      "cell_type": "markdown",
      "source": [
        "For local Jupyter"
      ],
      "metadata": {
        "id": "CuFNXAEFYgyK"
      },
      "id": "CuFNXAEFYgyK"
    },
    {
      "cell_type": "code",
      "execution_count": 10,
      "id": "5a99acdd",
      "metadata": {
        "collapsed": true,
        "id": "5a99acdd"
      },
      "outputs": [],
      "source": [
        "#%%SAS sas_session\n",
        "#libname cortex '~/my_shared_file_links/u39842936/Cortex Data Sets';"
      ]
    },
    {
      "cell_type": "markdown",
      "id": "907b9c04",
      "metadata": {
        "id": "907b9c04"
      },
      "source": [
        "## Transform cloud SAS dataset to Python dataframe (pandas)\n",
        "\n",
        "\n",
        "> **For reference**:\n",
        "\n",
        "> 1. [Pandas library](https://pandas.pydata.org/docs/user_guide/index.html)\n",
        "\n",
        "> 2. [sklearn.model_selection for data partition](https://scikit-learn.org/stable/modules/generated/sklearn.model_selection.train_test_split.html)\n"
      ]
    },
    {
      "cell_type": "code",
      "execution_count": 11,
      "id": "9ee94088",
      "metadata": {
        "id": "9ee94088"
      },
      "outputs": [],
      "source": [
        "import pandas as pd\n",
        "\n",
        "data1 = sas_session.sasdata2dataframe(\n",
        "table='hist',\n",
        "libref='cortex'\n",
        ")\n",
        "\n",
        "data2 = sas_session.sasdata2dataframe(\n",
        "table='target_rd1',\n",
        "libref='cortex'\n",
        ")"
      ]
    },
    {
      "cell_type": "markdown",
      "id": "a776622a-bd69-46fe-a704-f84e750baae9",
      "metadata": {
        "id": "a776622a-bd69-46fe-a704-f84e750baae9"
      },
      "source": [
        "## Merge the Data"
      ]
    },
    {
      "cell_type": "code",
      "execution_count": 12,
      "id": "ee3751bb-a1e1-4287-ad3a-625e9140302f",
      "metadata": {
        "collapsed": true,
        "id": "ee3751bb-a1e1-4287-ad3a-625e9140302f",
        "outputId": "55ac39cf-3974-490d-c419-e83726b2b7a2",
        "colab": {
          "base_uri": "https://localhost:8080/",
          "height": 352
        }
      },
      "outputs": [
        {
          "output_type": "execute_result",
          "data": {
            "text/plain": [
              "          ID  LastName FirstName  Woman   Age    Salary             Education  \\\n",
              "0  2000001.0    ROMMES    RODNEY    0.0  25.0  107200.0  University / College   \n",
              "1  2000002.0   RAMIREZ    SHARON    1.0  38.0   15800.0           High School   \n",
              "2  2000003.0    TSOSIE     KAREN    1.0  37.0   57400.0  University / College   \n",
              "3  2000004.0       LEE      MARY    1.0  78.0   23700.0           High School   \n",
              "4  2000005.0  HUMPHRES     ANGIE    1.0  34.0   71900.0  University / College   \n",
              "\n",
              "    City  SeniorList  NbActivities  ...  Recency  Frequency  Seniority  \\\n",
              "0   City         2.0           0.0  ...      1.0        2.0        2.0   \n",
              "1  Rural         4.0           1.0  ...      NaN        NaN        NaN   \n",
              "2  Rural         5.0           0.0  ...      NaN        NaN        NaN   \n",
              "3  Rural         3.0           0.0  ...      NaN        NaN        NaN   \n",
              "4  Rural         8.0           0.0  ...      NaN        NaN        NaN   \n",
              "\n",
              "   TotalGift  MinGift  MaxGift  GaveLastYear  AmtLastYear  GaveThisYear  \\\n",
              "0     1010.0     10.0   1000.0           0.0          0.0           0.0   \n",
              "1        NaN      NaN      NaN           0.0          0.0           0.0   \n",
              "2        NaN      NaN      NaN           0.0          0.0           0.0   \n",
              "3        NaN      NaN      NaN           0.0          0.0           0.0   \n",
              "4        NaN      NaN      NaN           0.0          0.0           0.0   \n",
              "\n",
              "   AmtThisYear  \n",
              "0          0.0  \n",
              "1          0.0  \n",
              "2          0.0  \n",
              "3          0.0  \n",
              "4          0.0  \n",
              "\n",
              "[5 rows x 21 columns]"
            ],
            "text/html": [
              "\n",
              "  <div id=\"df-54247fbf-663b-4db7-8893-362744093532\">\n",
              "    <div class=\"colab-df-container\">\n",
              "      <div>\n",
              "<style scoped>\n",
              "    .dataframe tbody tr th:only-of-type {\n",
              "        vertical-align: middle;\n",
              "    }\n",
              "\n",
              "    .dataframe tbody tr th {\n",
              "        vertical-align: top;\n",
              "    }\n",
              "\n",
              "    .dataframe thead th {\n",
              "        text-align: right;\n",
              "    }\n",
              "</style>\n",
              "<table border=\"1\" class=\"dataframe\">\n",
              "  <thead>\n",
              "    <tr style=\"text-align: right;\">\n",
              "      <th></th>\n",
              "      <th>ID</th>\n",
              "      <th>LastName</th>\n",
              "      <th>FirstName</th>\n",
              "      <th>Woman</th>\n",
              "      <th>Age</th>\n",
              "      <th>Salary</th>\n",
              "      <th>Education</th>\n",
              "      <th>City</th>\n",
              "      <th>SeniorList</th>\n",
              "      <th>NbActivities</th>\n",
              "      <th>...</th>\n",
              "      <th>Recency</th>\n",
              "      <th>Frequency</th>\n",
              "      <th>Seniority</th>\n",
              "      <th>TotalGift</th>\n",
              "      <th>MinGift</th>\n",
              "      <th>MaxGift</th>\n",
              "      <th>GaveLastYear</th>\n",
              "      <th>AmtLastYear</th>\n",
              "      <th>GaveThisYear</th>\n",
              "      <th>AmtThisYear</th>\n",
              "    </tr>\n",
              "  </thead>\n",
              "  <tbody>\n",
              "    <tr>\n",
              "      <th>0</th>\n",
              "      <td>2000001.0</td>\n",
              "      <td>ROMMES</td>\n",
              "      <td>RODNEY</td>\n",
              "      <td>0.0</td>\n",
              "      <td>25.0</td>\n",
              "      <td>107200.0</td>\n",
              "      <td>University / College</td>\n",
              "      <td>City</td>\n",
              "      <td>2.0</td>\n",
              "      <td>0.0</td>\n",
              "      <td>...</td>\n",
              "      <td>1.0</td>\n",
              "      <td>2.0</td>\n",
              "      <td>2.0</td>\n",
              "      <td>1010.0</td>\n",
              "      <td>10.0</td>\n",
              "      <td>1000.0</td>\n",
              "      <td>0.0</td>\n",
              "      <td>0.0</td>\n",
              "      <td>0.0</td>\n",
              "      <td>0.0</td>\n",
              "    </tr>\n",
              "    <tr>\n",
              "      <th>1</th>\n",
              "      <td>2000002.0</td>\n",
              "      <td>RAMIREZ</td>\n",
              "      <td>SHARON</td>\n",
              "      <td>1.0</td>\n",
              "      <td>38.0</td>\n",
              "      <td>15800.0</td>\n",
              "      <td>High School</td>\n",
              "      <td>Rural</td>\n",
              "      <td>4.0</td>\n",
              "      <td>1.0</td>\n",
              "      <td>...</td>\n",
              "      <td>NaN</td>\n",
              "      <td>NaN</td>\n",
              "      <td>NaN</td>\n",
              "      <td>NaN</td>\n",
              "      <td>NaN</td>\n",
              "      <td>NaN</td>\n",
              "      <td>0.0</td>\n",
              "      <td>0.0</td>\n",
              "      <td>0.0</td>\n",
              "      <td>0.0</td>\n",
              "    </tr>\n",
              "    <tr>\n",
              "      <th>2</th>\n",
              "      <td>2000003.0</td>\n",
              "      <td>TSOSIE</td>\n",
              "      <td>KAREN</td>\n",
              "      <td>1.0</td>\n",
              "      <td>37.0</td>\n",
              "      <td>57400.0</td>\n",
              "      <td>University / College</td>\n",
              "      <td>Rural</td>\n",
              "      <td>5.0</td>\n",
              "      <td>0.0</td>\n",
              "      <td>...</td>\n",
              "      <td>NaN</td>\n",
              "      <td>NaN</td>\n",
              "      <td>NaN</td>\n",
              "      <td>NaN</td>\n",
              "      <td>NaN</td>\n",
              "      <td>NaN</td>\n",
              "      <td>0.0</td>\n",
              "      <td>0.0</td>\n",
              "      <td>0.0</td>\n",
              "      <td>0.0</td>\n",
              "    </tr>\n",
              "    <tr>\n",
              "      <th>3</th>\n",
              "      <td>2000004.0</td>\n",
              "      <td>LEE</td>\n",
              "      <td>MARY</td>\n",
              "      <td>1.0</td>\n",
              "      <td>78.0</td>\n",
              "      <td>23700.0</td>\n",
              "      <td>High School</td>\n",
              "      <td>Rural</td>\n",
              "      <td>3.0</td>\n",
              "      <td>0.0</td>\n",
              "      <td>...</td>\n",
              "      <td>NaN</td>\n",
              "      <td>NaN</td>\n",
              "      <td>NaN</td>\n",
              "      <td>NaN</td>\n",
              "      <td>NaN</td>\n",
              "      <td>NaN</td>\n",
              "      <td>0.0</td>\n",
              "      <td>0.0</td>\n",
              "      <td>0.0</td>\n",
              "      <td>0.0</td>\n",
              "    </tr>\n",
              "    <tr>\n",
              "      <th>4</th>\n",
              "      <td>2000005.0</td>\n",
              "      <td>HUMPHRES</td>\n",
              "      <td>ANGIE</td>\n",
              "      <td>1.0</td>\n",
              "      <td>34.0</td>\n",
              "      <td>71900.0</td>\n",
              "      <td>University / College</td>\n",
              "      <td>Rural</td>\n",
              "      <td>8.0</td>\n",
              "      <td>0.0</td>\n",
              "      <td>...</td>\n",
              "      <td>NaN</td>\n",
              "      <td>NaN</td>\n",
              "      <td>NaN</td>\n",
              "      <td>NaN</td>\n",
              "      <td>NaN</td>\n",
              "      <td>NaN</td>\n",
              "      <td>0.0</td>\n",
              "      <td>0.0</td>\n",
              "      <td>0.0</td>\n",
              "      <td>0.0</td>\n",
              "    </tr>\n",
              "  </tbody>\n",
              "</table>\n",
              "<p>5 rows × 21 columns</p>\n",
              "</div>\n",
              "      <button class=\"colab-df-convert\" onclick=\"convertToInteractive('df-54247fbf-663b-4db7-8893-362744093532')\"\n",
              "              title=\"Convert this dataframe to an interactive table.\"\n",
              "              style=\"display:none;\">\n",
              "        \n",
              "  <svg xmlns=\"http://www.w3.org/2000/svg\" height=\"24px\"viewBox=\"0 0 24 24\"\n",
              "       width=\"24px\">\n",
              "    <path d=\"M0 0h24v24H0V0z\" fill=\"none\"/>\n",
              "    <path d=\"M18.56 5.44l.94 2.06.94-2.06 2.06-.94-2.06-.94-.94-2.06-.94 2.06-2.06.94zm-11 1L8.5 8.5l.94-2.06 2.06-.94-2.06-.94L8.5 2.5l-.94 2.06-2.06.94zm10 10l.94 2.06.94-2.06 2.06-.94-2.06-.94-.94-2.06-.94 2.06-2.06.94z\"/><path d=\"M17.41 7.96l-1.37-1.37c-.4-.4-.92-.59-1.43-.59-.52 0-1.04.2-1.43.59L10.3 9.45l-7.72 7.72c-.78.78-.78 2.05 0 2.83L4 21.41c.39.39.9.59 1.41.59.51 0 1.02-.2 1.41-.59l7.78-7.78 2.81-2.81c.8-.78.8-2.07 0-2.86zM5.41 20L4 18.59l7.72-7.72 1.47 1.35L5.41 20z\"/>\n",
              "  </svg>\n",
              "      </button>\n",
              "      \n",
              "  <style>\n",
              "    .colab-df-container {\n",
              "      display:flex;\n",
              "      flex-wrap:wrap;\n",
              "      gap: 12px;\n",
              "    }\n",
              "\n",
              "    .colab-df-convert {\n",
              "      background-color: #E8F0FE;\n",
              "      border: none;\n",
              "      border-radius: 50%;\n",
              "      cursor: pointer;\n",
              "      display: none;\n",
              "      fill: #1967D2;\n",
              "      height: 32px;\n",
              "      padding: 0 0 0 0;\n",
              "      width: 32px;\n",
              "    }\n",
              "\n",
              "    .colab-df-convert:hover {\n",
              "      background-color: #E2EBFA;\n",
              "      box-shadow: 0px 1px 2px rgba(60, 64, 67, 0.3), 0px 1px 3px 1px rgba(60, 64, 67, 0.15);\n",
              "      fill: #174EA6;\n",
              "    }\n",
              "\n",
              "    [theme=dark] .colab-df-convert {\n",
              "      background-color: #3B4455;\n",
              "      fill: #D2E3FC;\n",
              "    }\n",
              "\n",
              "    [theme=dark] .colab-df-convert:hover {\n",
              "      background-color: #434B5C;\n",
              "      box-shadow: 0px 1px 3px 1px rgba(0, 0, 0, 0.15);\n",
              "      filter: drop-shadow(0px 1px 2px rgba(0, 0, 0, 0.3));\n",
              "      fill: #FFFFFF;\n",
              "    }\n",
              "  </style>\n",
              "\n",
              "      <script>\n",
              "        const buttonEl =\n",
              "          document.querySelector('#df-54247fbf-663b-4db7-8893-362744093532 button.colab-df-convert');\n",
              "        buttonEl.style.display =\n",
              "          google.colab.kernel.accessAllowed ? 'block' : 'none';\n",
              "\n",
              "        async function convertToInteractive(key) {\n",
              "          const element = document.querySelector('#df-54247fbf-663b-4db7-8893-362744093532');\n",
              "          const dataTable =\n",
              "            await google.colab.kernel.invokeFunction('convertToInteractive',\n",
              "                                                     [key], {});\n",
              "          if (!dataTable) return;\n",
              "\n",
              "          const docLinkHtml = 'Like what you see? Visit the ' +\n",
              "            '<a target=\"_blank\" href=https://colab.research.google.com/notebooks/data_table.ipynb>data table notebook</a>'\n",
              "            + ' to learn more about interactive tables.';\n",
              "          element.innerHTML = '';\n",
              "          dataTable['output_type'] = 'display_data';\n",
              "          await google.colab.output.renderOutput(dataTable, element);\n",
              "          const docLink = document.createElement('div');\n",
              "          docLink.innerHTML = docLinkHtml;\n",
              "          element.appendChild(docLink);\n",
              "        }\n",
              "      </script>\n",
              "    </div>\n",
              "  </div>\n",
              "  "
            ]
          },
          "metadata": {},
          "execution_count": 12
        }
      ],
      "source": [
        "data_merge = pd.merge(data1, data2, on=[\"ID\"],how=\"right\")\n",
        "data_merge.sample(5)\n",
        "\n",
        "data_merge.head()"
      ]
    },
    {
      "cell_type": "markdown",
      "id": "11f80a12-8482-4d72-8c10-656f5d1fe657",
      "metadata": {
        "id": "11f80a12-8482-4d72-8c10-656f5d1fe657"
      },
      "source": [
        "## Exploration"
      ]
    },
    {
      "cell_type": "code",
      "source": [
        "data_merge.info()"
      ],
      "metadata": {
        "colab": {
          "base_uri": "https://localhost:8080/"
        },
        "id": "zpYKkZy0YOhz",
        "outputId": "2307d55a-2b17-429b-8fd0-5d5f431c1784"
      },
      "id": "zpYKkZy0YOhz",
      "execution_count": 13,
      "outputs": [
        {
          "output_type": "stream",
          "name": "stdout",
          "text": [
            "<class 'pandas.core.frame.DataFrame'>\n",
            "Int64Index: 1000000 entries, 0 to 999999\n",
            "Data columns (total 21 columns):\n",
            " #   Column        Non-Null Count    Dtype  \n",
            "---  ------        --------------    -----  \n",
            " 0   ID            1000000 non-null  float64\n",
            " 1   LastName      999977 non-null   object \n",
            " 2   FirstName     999996 non-null   object \n",
            " 3   Woman         1000000 non-null  float64\n",
            " 4   Age           1000000 non-null  float64\n",
            " 5   Salary        1000000 non-null  float64\n",
            " 6   Education     1000000 non-null  object \n",
            " 7   City          1000000 non-null  object \n",
            " 8   SeniorList    1000000 non-null  float64\n",
            " 9   NbActivities  1000000 non-null  float64\n",
            " 10  Referrals     1000000 non-null  float64\n",
            " 11  Recency       336334 non-null   float64\n",
            " 12  Frequency     336334 non-null   float64\n",
            " 13  Seniority     336334 non-null   float64\n",
            " 14  TotalGift     336334 non-null   float64\n",
            " 15  MinGift       336334 non-null   float64\n",
            " 16  MaxGift       336334 non-null   float64\n",
            " 17  GaveLastYear  1000000 non-null  float64\n",
            " 18  AmtLastYear   1000000 non-null  float64\n",
            " 19  GaveThisYear  1000000 non-null  float64\n",
            " 20  AmtThisYear   1000000 non-null  float64\n",
            "dtypes: float64(17), object(4)\n",
            "memory usage: 167.8+ MB\n"
          ]
        }
      ]
    },
    {
      "cell_type": "code",
      "source": [
        "data_merge.isna().sum()"
      ],
      "metadata": {
        "colab": {
          "base_uri": "https://localhost:8080/"
        },
        "id": "N1N0AbwTXUSg",
        "outputId": "74d433ef-94c3-464e-c5c9-e8a5ebfbc1cc"
      },
      "id": "N1N0AbwTXUSg",
      "execution_count": 14,
      "outputs": [
        {
          "output_type": "execute_result",
          "data": {
            "text/plain": [
              "ID                   0\n",
              "LastName            23\n",
              "FirstName            4\n",
              "Woman                0\n",
              "Age                  0\n",
              "Salary               0\n",
              "Education            0\n",
              "City                 0\n",
              "SeniorList           0\n",
              "NbActivities         0\n",
              "Referrals            0\n",
              "Recency         663666\n",
              "Frequency       663666\n",
              "Seniority       663666\n",
              "TotalGift       663666\n",
              "MinGift         663666\n",
              "MaxGift         663666\n",
              "GaveLastYear         0\n",
              "AmtLastYear          0\n",
              "GaveThisYear         0\n",
              "AmtThisYear          0\n",
              "dtype: int64"
            ]
          },
          "metadata": {},
          "execution_count": 14
        }
      ]
    },
    {
      "cell_type": "code",
      "source": [
        "data_merge.describe()"
      ],
      "metadata": {
        "colab": {
          "base_uri": "https://localhost:8080/",
          "height": 364
        },
        "id": "62FaTSByZPCh",
        "outputId": "a499c76a-28a6-4dd3-e923-cc683b4c67ae"
      },
      "id": "62FaTSByZPCh",
      "execution_count": 15,
      "outputs": [
        {
          "output_type": "execute_result",
          "data": {
            "text/plain": [
              "                 ID           Woman             Age          Salary  \\\n",
              "count  1.000000e+06  1000000.000000  1000000.000000  1000000.000000   \n",
              "mean   2.500000e+06        0.516936       46.366170    65531.654000   \n",
              "std    2.886753e+05        0.499713       18.945324    61051.122343   \n",
              "min    2.000001e+06        0.000000       16.000000        0.000000   \n",
              "25%    2.250001e+06        0.000000       30.000000    20700.000000   \n",
              "50%    2.500000e+06        1.000000       46.000000    44000.000000   \n",
              "75%    2.750000e+06        1.000000       61.000000    91200.000000   \n",
              "max    3.000000e+06        1.000000       90.000000   250000.000000   \n",
              "\n",
              "           SeniorList    NbActivities       Referrals        Recency  \\\n",
              "count  1000000.000000  1000000.000000  1000000.000000  336334.000000   \n",
              "mean         4.582967        0.561413        0.560556       3.039636   \n",
              "std          3.325844        0.996803        1.054027       2.120722   \n",
              "min          0.000000        0.000000        0.000000       1.000000   \n",
              "25%          2.000000        0.000000        0.000000       1.000000   \n",
              "50%          4.000000        0.000000        0.000000       2.000000   \n",
              "75%          7.000000        1.000000        1.000000       4.000000   \n",
              "max         10.000000       10.000000       16.000000      10.000000   \n",
              "\n",
              "           Frequency      Seniority      TotalGift        MinGift  \\\n",
              "count  336334.000000  336334.000000  336334.000000  336334.000000   \n",
              "mean        1.666882       4.474148     104.454055      43.130251   \n",
              "std         1.052090       2.588119     303.760477     150.249476   \n",
              "min         1.000000       1.000000      10.000000      10.000000   \n",
              "25%         1.000000       2.000000      20.000000      15.000000   \n",
              "50%         1.000000       4.000000      40.000000      20.000000   \n",
              "75%         2.000000       6.000000      90.000000      30.000000   \n",
              "max        10.000000      10.000000   15150.000000   10000.000000   \n",
              "\n",
              "             MaxGift    GaveLastYear     AmtLastYear    GaveThisYear  \\\n",
              "count  336334.000000  1000000.000000  1000000.000000  1000000.000000   \n",
              "mean       85.897932        0.122101        7.673015        0.122232   \n",
              "std       283.581066        0.327403       82.224854        0.327554   \n",
              "min        10.000000        0.000000        0.000000        0.000000   \n",
              "25%        20.000000        0.000000        0.000000        0.000000   \n",
              "50%        30.000000        0.000000        0.000000        0.000000   \n",
              "75%        75.000000        0.000000        0.000000        0.000000   \n",
              "max     10000.000000        1.000000    10000.000000        1.000000   \n",
              "\n",
              "          AmtThisYear  \n",
              "count  1000000.000000  \n",
              "mean         7.741080  \n",
              "std         83.110552  \n",
              "min          0.000000  \n",
              "25%          0.000000  \n",
              "50%          0.000000  \n",
              "75%          0.000000  \n",
              "max      10000.000000  "
            ],
            "text/html": [
              "\n",
              "  <div id=\"df-cfad1296-9543-48b7-9be1-9e70281f86d1\">\n",
              "    <div class=\"colab-df-container\">\n",
              "      <div>\n",
              "<style scoped>\n",
              "    .dataframe tbody tr th:only-of-type {\n",
              "        vertical-align: middle;\n",
              "    }\n",
              "\n",
              "    .dataframe tbody tr th {\n",
              "        vertical-align: top;\n",
              "    }\n",
              "\n",
              "    .dataframe thead th {\n",
              "        text-align: right;\n",
              "    }\n",
              "</style>\n",
              "<table border=\"1\" class=\"dataframe\">\n",
              "  <thead>\n",
              "    <tr style=\"text-align: right;\">\n",
              "      <th></th>\n",
              "      <th>ID</th>\n",
              "      <th>Woman</th>\n",
              "      <th>Age</th>\n",
              "      <th>Salary</th>\n",
              "      <th>SeniorList</th>\n",
              "      <th>NbActivities</th>\n",
              "      <th>Referrals</th>\n",
              "      <th>Recency</th>\n",
              "      <th>Frequency</th>\n",
              "      <th>Seniority</th>\n",
              "      <th>TotalGift</th>\n",
              "      <th>MinGift</th>\n",
              "      <th>MaxGift</th>\n",
              "      <th>GaveLastYear</th>\n",
              "      <th>AmtLastYear</th>\n",
              "      <th>GaveThisYear</th>\n",
              "      <th>AmtThisYear</th>\n",
              "    </tr>\n",
              "  </thead>\n",
              "  <tbody>\n",
              "    <tr>\n",
              "      <th>count</th>\n",
              "      <td>1.000000e+06</td>\n",
              "      <td>1000000.000000</td>\n",
              "      <td>1000000.000000</td>\n",
              "      <td>1000000.000000</td>\n",
              "      <td>1000000.000000</td>\n",
              "      <td>1000000.000000</td>\n",
              "      <td>1000000.000000</td>\n",
              "      <td>336334.000000</td>\n",
              "      <td>336334.000000</td>\n",
              "      <td>336334.000000</td>\n",
              "      <td>336334.000000</td>\n",
              "      <td>336334.000000</td>\n",
              "      <td>336334.000000</td>\n",
              "      <td>1000000.000000</td>\n",
              "      <td>1000000.000000</td>\n",
              "      <td>1000000.000000</td>\n",
              "      <td>1000000.000000</td>\n",
              "    </tr>\n",
              "    <tr>\n",
              "      <th>mean</th>\n",
              "      <td>2.500000e+06</td>\n",
              "      <td>0.516936</td>\n",
              "      <td>46.366170</td>\n",
              "      <td>65531.654000</td>\n",
              "      <td>4.582967</td>\n",
              "      <td>0.561413</td>\n",
              "      <td>0.560556</td>\n",
              "      <td>3.039636</td>\n",
              "      <td>1.666882</td>\n",
              "      <td>4.474148</td>\n",
              "      <td>104.454055</td>\n",
              "      <td>43.130251</td>\n",
              "      <td>85.897932</td>\n",
              "      <td>0.122101</td>\n",
              "      <td>7.673015</td>\n",
              "      <td>0.122232</td>\n",
              "      <td>7.741080</td>\n",
              "    </tr>\n",
              "    <tr>\n",
              "      <th>std</th>\n",
              "      <td>2.886753e+05</td>\n",
              "      <td>0.499713</td>\n",
              "      <td>18.945324</td>\n",
              "      <td>61051.122343</td>\n",
              "      <td>3.325844</td>\n",
              "      <td>0.996803</td>\n",
              "      <td>1.054027</td>\n",
              "      <td>2.120722</td>\n",
              "      <td>1.052090</td>\n",
              "      <td>2.588119</td>\n",
              "      <td>303.760477</td>\n",
              "      <td>150.249476</td>\n",
              "      <td>283.581066</td>\n",
              "      <td>0.327403</td>\n",
              "      <td>82.224854</td>\n",
              "      <td>0.327554</td>\n",
              "      <td>83.110552</td>\n",
              "    </tr>\n",
              "    <tr>\n",
              "      <th>min</th>\n",
              "      <td>2.000001e+06</td>\n",
              "      <td>0.000000</td>\n",
              "      <td>16.000000</td>\n",
              "      <td>0.000000</td>\n",
              "      <td>0.000000</td>\n",
              "      <td>0.000000</td>\n",
              "      <td>0.000000</td>\n",
              "      <td>1.000000</td>\n",
              "      <td>1.000000</td>\n",
              "      <td>1.000000</td>\n",
              "      <td>10.000000</td>\n",
              "      <td>10.000000</td>\n",
              "      <td>10.000000</td>\n",
              "      <td>0.000000</td>\n",
              "      <td>0.000000</td>\n",
              "      <td>0.000000</td>\n",
              "      <td>0.000000</td>\n",
              "    </tr>\n",
              "    <tr>\n",
              "      <th>25%</th>\n",
              "      <td>2.250001e+06</td>\n",
              "      <td>0.000000</td>\n",
              "      <td>30.000000</td>\n",
              "      <td>20700.000000</td>\n",
              "      <td>2.000000</td>\n",
              "      <td>0.000000</td>\n",
              "      <td>0.000000</td>\n",
              "      <td>1.000000</td>\n",
              "      <td>1.000000</td>\n",
              "      <td>2.000000</td>\n",
              "      <td>20.000000</td>\n",
              "      <td>15.000000</td>\n",
              "      <td>20.000000</td>\n",
              "      <td>0.000000</td>\n",
              "      <td>0.000000</td>\n",
              "      <td>0.000000</td>\n",
              "      <td>0.000000</td>\n",
              "    </tr>\n",
              "    <tr>\n",
              "      <th>50%</th>\n",
              "      <td>2.500000e+06</td>\n",
              "      <td>1.000000</td>\n",
              "      <td>46.000000</td>\n",
              "      <td>44000.000000</td>\n",
              "      <td>4.000000</td>\n",
              "      <td>0.000000</td>\n",
              "      <td>0.000000</td>\n",
              "      <td>2.000000</td>\n",
              "      <td>1.000000</td>\n",
              "      <td>4.000000</td>\n",
              "      <td>40.000000</td>\n",
              "      <td>20.000000</td>\n",
              "      <td>30.000000</td>\n",
              "      <td>0.000000</td>\n",
              "      <td>0.000000</td>\n",
              "      <td>0.000000</td>\n",
              "      <td>0.000000</td>\n",
              "    </tr>\n",
              "    <tr>\n",
              "      <th>75%</th>\n",
              "      <td>2.750000e+06</td>\n",
              "      <td>1.000000</td>\n",
              "      <td>61.000000</td>\n",
              "      <td>91200.000000</td>\n",
              "      <td>7.000000</td>\n",
              "      <td>1.000000</td>\n",
              "      <td>1.000000</td>\n",
              "      <td>4.000000</td>\n",
              "      <td>2.000000</td>\n",
              "      <td>6.000000</td>\n",
              "      <td>90.000000</td>\n",
              "      <td>30.000000</td>\n",
              "      <td>75.000000</td>\n",
              "      <td>0.000000</td>\n",
              "      <td>0.000000</td>\n",
              "      <td>0.000000</td>\n",
              "      <td>0.000000</td>\n",
              "    </tr>\n",
              "    <tr>\n",
              "      <th>max</th>\n",
              "      <td>3.000000e+06</td>\n",
              "      <td>1.000000</td>\n",
              "      <td>90.000000</td>\n",
              "      <td>250000.000000</td>\n",
              "      <td>10.000000</td>\n",
              "      <td>10.000000</td>\n",
              "      <td>16.000000</td>\n",
              "      <td>10.000000</td>\n",
              "      <td>10.000000</td>\n",
              "      <td>10.000000</td>\n",
              "      <td>15150.000000</td>\n",
              "      <td>10000.000000</td>\n",
              "      <td>10000.000000</td>\n",
              "      <td>1.000000</td>\n",
              "      <td>10000.000000</td>\n",
              "      <td>1.000000</td>\n",
              "      <td>10000.000000</td>\n",
              "    </tr>\n",
              "  </tbody>\n",
              "</table>\n",
              "</div>\n",
              "      <button class=\"colab-df-convert\" onclick=\"convertToInteractive('df-cfad1296-9543-48b7-9be1-9e70281f86d1')\"\n",
              "              title=\"Convert this dataframe to an interactive table.\"\n",
              "              style=\"display:none;\">\n",
              "        \n",
              "  <svg xmlns=\"http://www.w3.org/2000/svg\" height=\"24px\"viewBox=\"0 0 24 24\"\n",
              "       width=\"24px\">\n",
              "    <path d=\"M0 0h24v24H0V0z\" fill=\"none\"/>\n",
              "    <path d=\"M18.56 5.44l.94 2.06.94-2.06 2.06-.94-2.06-.94-.94-2.06-.94 2.06-2.06.94zm-11 1L8.5 8.5l.94-2.06 2.06-.94-2.06-.94L8.5 2.5l-.94 2.06-2.06.94zm10 10l.94 2.06.94-2.06 2.06-.94-2.06-.94-.94-2.06-.94 2.06-2.06.94z\"/><path d=\"M17.41 7.96l-1.37-1.37c-.4-.4-.92-.59-1.43-.59-.52 0-1.04.2-1.43.59L10.3 9.45l-7.72 7.72c-.78.78-.78 2.05 0 2.83L4 21.41c.39.39.9.59 1.41.59.51 0 1.02-.2 1.41-.59l7.78-7.78 2.81-2.81c.8-.78.8-2.07 0-2.86zM5.41 20L4 18.59l7.72-7.72 1.47 1.35L5.41 20z\"/>\n",
              "  </svg>\n",
              "      </button>\n",
              "      \n",
              "  <style>\n",
              "    .colab-df-container {\n",
              "      display:flex;\n",
              "      flex-wrap:wrap;\n",
              "      gap: 12px;\n",
              "    }\n",
              "\n",
              "    .colab-df-convert {\n",
              "      background-color: #E8F0FE;\n",
              "      border: none;\n",
              "      border-radius: 50%;\n",
              "      cursor: pointer;\n",
              "      display: none;\n",
              "      fill: #1967D2;\n",
              "      height: 32px;\n",
              "      padding: 0 0 0 0;\n",
              "      width: 32px;\n",
              "    }\n",
              "\n",
              "    .colab-df-convert:hover {\n",
              "      background-color: #E2EBFA;\n",
              "      box-shadow: 0px 1px 2px rgba(60, 64, 67, 0.3), 0px 1px 3px 1px rgba(60, 64, 67, 0.15);\n",
              "      fill: #174EA6;\n",
              "    }\n",
              "\n",
              "    [theme=dark] .colab-df-convert {\n",
              "      background-color: #3B4455;\n",
              "      fill: #D2E3FC;\n",
              "    }\n",
              "\n",
              "    [theme=dark] .colab-df-convert:hover {\n",
              "      background-color: #434B5C;\n",
              "      box-shadow: 0px 1px 3px 1px rgba(0, 0, 0, 0.15);\n",
              "      filter: drop-shadow(0px 1px 2px rgba(0, 0, 0, 0.3));\n",
              "      fill: #FFFFFF;\n",
              "    }\n",
              "  </style>\n",
              "\n",
              "      <script>\n",
              "        const buttonEl =\n",
              "          document.querySelector('#df-cfad1296-9543-48b7-9be1-9e70281f86d1 button.colab-df-convert');\n",
              "        buttonEl.style.display =\n",
              "          google.colab.kernel.accessAllowed ? 'block' : 'none';\n",
              "\n",
              "        async function convertToInteractive(key) {\n",
              "          const element = document.querySelector('#df-cfad1296-9543-48b7-9be1-9e70281f86d1');\n",
              "          const dataTable =\n",
              "            await google.colab.kernel.invokeFunction('convertToInteractive',\n",
              "                                                     [key], {});\n",
              "          if (!dataTable) return;\n",
              "\n",
              "          const docLinkHtml = 'Like what you see? Visit the ' +\n",
              "            '<a target=\"_blank\" href=https://colab.research.google.com/notebooks/data_table.ipynb>data table notebook</a>'\n",
              "            + ' to learn more about interactive tables.';\n",
              "          element.innerHTML = '';\n",
              "          dataTable['output_type'] = 'display_data';\n",
              "          await google.colab.output.renderOutput(dataTable, element);\n",
              "          const docLink = document.createElement('div');\n",
              "          docLink.innerHTML = docLinkHtml;\n",
              "          element.appendChild(docLink);\n",
              "        }\n",
              "      </script>\n",
              "    </div>\n",
              "  </div>\n",
              "  "
            ]
          },
          "metadata": {},
          "execution_count": 15
        }
      ]
    },
    {
      "cell_type": "code",
      "source": [
        "import seaborn as sns\n",
        "import matplotlib.pyplot as plt\n",
        "sns.set(font_scale=1)\n",
        "#sns.heatmap(data_merge.corr(), annot=True, cmap=\"Blues_r\")\n",
        "#plt.show()\n",
        "data_merge.corr()"
      ],
      "metadata": {
        "colab": {
          "base_uri": "https://localhost:8080/",
          "height": 646
        },
        "id": "WqsgnkN2bFeR",
        "outputId": "1e0b68c3-82ea-4183-94a7-5c37d5e8169c"
      },
      "id": "WqsgnkN2bFeR",
      "execution_count": 16,
      "outputs": [
        {
          "output_type": "execute_result",
          "data": {
            "text/plain": [
              "                    ID     Woman       Age    Salary  SeniorList  \\\n",
              "ID            1.000000 -0.002832 -0.000720 -0.000759    0.000815   \n",
              "Woman        -0.002832  1.000000  0.037798 -0.046426   -0.000095   \n",
              "Age          -0.000720  0.037798  1.000000  0.019775    0.000349   \n",
              "Salary       -0.000759 -0.046426  0.019775  1.000000   -0.000195   \n",
              "SeniorList    0.000815 -0.000095  0.000349 -0.000195    1.000000   \n",
              "NbActivities  0.001128  0.001681  0.000411  0.000421    0.408294   \n",
              "Referrals    -0.000853 -0.000138 -0.002079  0.000426    0.385607   \n",
              "Recency       0.000345 -0.002042 -0.000671 -0.003451    0.409977   \n",
              "Frequency    -0.001340 -0.000956 -0.002581  0.001889    0.293257   \n",
              "Seniority    -0.000401 -0.002443 -0.001805 -0.001951    0.662898   \n",
              "TotalGift    -0.001426  0.051112 -0.051445  0.075216    0.058632   \n",
              "MinGift      -0.000411  0.030785 -0.029519  0.048340   -0.049351   \n",
              "MaxGift      -0.001438  0.050119 -0.051216  0.074186    0.030649   \n",
              "GaveLastYear -0.000741 -0.000846 -0.001535  0.001101   -0.000125   \n",
              "AmtLastYear   0.000066  0.013658 -0.013239  0.021870    0.001313   \n",
              "GaveThisYear -0.000845 -0.000691  0.000379  0.001416   -0.001315   \n",
              "AmtThisYear  -0.002595  0.014477 -0.013522  0.022055   -0.001249   \n",
              "\n",
              "              NbActivities  Referrals   Recency  Frequency  Seniority  \\\n",
              "ID                0.001128  -0.000853  0.000345  -0.001340  -0.000401   \n",
              "Woman             0.001681  -0.000138 -0.002042  -0.000956  -0.002443   \n",
              "Age               0.000411  -0.002079 -0.000671  -0.002581  -0.001805   \n",
              "Salary            0.000421   0.000426 -0.003451   0.001889  -0.001951   \n",
              "SeniorList        0.408294   0.385607  0.409977   0.293257   0.662898   \n",
              "NbActivities      1.000000   0.527538 -0.041532   0.485541   0.337794   \n",
              "Referrals         0.527538   1.000000 -0.038949   0.450656   0.313620   \n",
              "Recency          -0.041532  -0.038949  1.000000  -0.265405   0.566351   \n",
              "Frequency         0.485541   0.450656 -0.265405   1.000000   0.512804   \n",
              "Seniority         0.337794   0.313620  0.566351   0.512804   1.000000   \n",
              "TotalGift         0.130007   0.117908 -0.072300   0.244038   0.117074   \n",
              "MinGift          -0.034664  -0.032493  0.019381  -0.099925  -0.068460   \n",
              "MaxGift           0.085612   0.076919 -0.048954   0.150242   0.069522   \n",
              "GaveLastYear      0.172631   0.160814 -0.085739   0.165779   0.036973   \n",
              "AmtLastYear       0.050613   0.046003 -0.020735   0.043278   0.011420   \n",
              "GaveThisYear      0.169830   0.159688 -0.087135   0.165005   0.034573   \n",
              "AmtThisYear       0.048435   0.045224 -0.023791   0.041651   0.006719   \n",
              "\n",
              "              TotalGift   MinGift   MaxGift  GaveLastYear  AmtLastYear  \\\n",
              "ID            -0.001426 -0.000411 -0.001438     -0.000741     0.000066   \n",
              "Woman          0.051112  0.030785  0.050119     -0.000846     0.013658   \n",
              "Age           -0.051445 -0.029519 -0.051216     -0.001535    -0.013239   \n",
              "Salary         0.075216  0.048340  0.074186      0.001101     0.021870   \n",
              "SeniorList     0.058632 -0.049351  0.030649     -0.000125     0.001313   \n",
              "NbActivities   0.130007 -0.034664  0.085612      0.172631     0.050613   \n",
              "Referrals      0.117908 -0.032493  0.076919      0.160814     0.046003   \n",
              "Recency       -0.072300  0.019381 -0.048954     -0.085739    -0.020735   \n",
              "Frequency      0.244038 -0.099925  0.150242      0.165779     0.043278   \n",
              "Seniority      0.117074 -0.068460  0.069522      0.036973     0.011420   \n",
              "TotalGift      1.000000  0.481734  0.986409      0.045069     0.027755   \n",
              "MinGift        0.481734  1.000000  0.517648     -0.010062     0.007557   \n",
              "MaxGift        0.986409  0.517648  1.000000      0.029916     0.022246   \n",
              "GaveLastYear   0.045069 -0.010062  0.029916      1.000000     0.250222   \n",
              "AmtLastYear    0.027755  0.007557  0.022246      0.250222     1.000000   \n",
              "GaveThisYear   0.050389 -0.006234  0.036122      0.111266     0.032792   \n",
              "AmtThisYear    0.036353  0.021175  0.032682      0.032035     0.017809   \n",
              "\n",
              "              GaveThisYear  AmtThisYear  \n",
              "ID               -0.000845    -0.002595  \n",
              "Woman            -0.000691     0.014477  \n",
              "Age               0.000379    -0.013522  \n",
              "Salary            0.001416     0.022055  \n",
              "SeniorList       -0.001315    -0.001249  \n",
              "NbActivities      0.169830     0.048435  \n",
              "Referrals         0.159688     0.045224  \n",
              "Recency          -0.087135    -0.023791  \n",
              "Frequency         0.165005     0.041651  \n",
              "Seniority         0.034573     0.006719  \n",
              "TotalGift         0.050389     0.036353  \n",
              "MinGift          -0.006234     0.021175  \n",
              "MaxGift           0.036122     0.032682  \n",
              "GaveLastYear      0.111266     0.032035  \n",
              "AmtLastYear       0.032792     0.017809  \n",
              "GaveThisYear      1.000000     0.249599  \n",
              "AmtThisYear       0.249599     1.000000  "
            ],
            "text/html": [
              "\n",
              "  <div id=\"df-7a51eb52-e1ca-4929-b4ad-15b028a5c20c\">\n",
              "    <div class=\"colab-df-container\">\n",
              "      <div>\n",
              "<style scoped>\n",
              "    .dataframe tbody tr th:only-of-type {\n",
              "        vertical-align: middle;\n",
              "    }\n",
              "\n",
              "    .dataframe tbody tr th {\n",
              "        vertical-align: top;\n",
              "    }\n",
              "\n",
              "    .dataframe thead th {\n",
              "        text-align: right;\n",
              "    }\n",
              "</style>\n",
              "<table border=\"1\" class=\"dataframe\">\n",
              "  <thead>\n",
              "    <tr style=\"text-align: right;\">\n",
              "      <th></th>\n",
              "      <th>ID</th>\n",
              "      <th>Woman</th>\n",
              "      <th>Age</th>\n",
              "      <th>Salary</th>\n",
              "      <th>SeniorList</th>\n",
              "      <th>NbActivities</th>\n",
              "      <th>Referrals</th>\n",
              "      <th>Recency</th>\n",
              "      <th>Frequency</th>\n",
              "      <th>Seniority</th>\n",
              "      <th>TotalGift</th>\n",
              "      <th>MinGift</th>\n",
              "      <th>MaxGift</th>\n",
              "      <th>GaveLastYear</th>\n",
              "      <th>AmtLastYear</th>\n",
              "      <th>GaveThisYear</th>\n",
              "      <th>AmtThisYear</th>\n",
              "    </tr>\n",
              "  </thead>\n",
              "  <tbody>\n",
              "    <tr>\n",
              "      <th>ID</th>\n",
              "      <td>1.000000</td>\n",
              "      <td>-0.002832</td>\n",
              "      <td>-0.000720</td>\n",
              "      <td>-0.000759</td>\n",
              "      <td>0.000815</td>\n",
              "      <td>0.001128</td>\n",
              "      <td>-0.000853</td>\n",
              "      <td>0.000345</td>\n",
              "      <td>-0.001340</td>\n",
              "      <td>-0.000401</td>\n",
              "      <td>-0.001426</td>\n",
              "      <td>-0.000411</td>\n",
              "      <td>-0.001438</td>\n",
              "      <td>-0.000741</td>\n",
              "      <td>0.000066</td>\n",
              "      <td>-0.000845</td>\n",
              "      <td>-0.002595</td>\n",
              "    </tr>\n",
              "    <tr>\n",
              "      <th>Woman</th>\n",
              "      <td>-0.002832</td>\n",
              "      <td>1.000000</td>\n",
              "      <td>0.037798</td>\n",
              "      <td>-0.046426</td>\n",
              "      <td>-0.000095</td>\n",
              "      <td>0.001681</td>\n",
              "      <td>-0.000138</td>\n",
              "      <td>-0.002042</td>\n",
              "      <td>-0.000956</td>\n",
              "      <td>-0.002443</td>\n",
              "      <td>0.051112</td>\n",
              "      <td>0.030785</td>\n",
              "      <td>0.050119</td>\n",
              "      <td>-0.000846</td>\n",
              "      <td>0.013658</td>\n",
              "      <td>-0.000691</td>\n",
              "      <td>0.014477</td>\n",
              "    </tr>\n",
              "    <tr>\n",
              "      <th>Age</th>\n",
              "      <td>-0.000720</td>\n",
              "      <td>0.037798</td>\n",
              "      <td>1.000000</td>\n",
              "      <td>0.019775</td>\n",
              "      <td>0.000349</td>\n",
              "      <td>0.000411</td>\n",
              "      <td>-0.002079</td>\n",
              "      <td>-0.000671</td>\n",
              "      <td>-0.002581</td>\n",
              "      <td>-0.001805</td>\n",
              "      <td>-0.051445</td>\n",
              "      <td>-0.029519</td>\n",
              "      <td>-0.051216</td>\n",
              "      <td>-0.001535</td>\n",
              "      <td>-0.013239</td>\n",
              "      <td>0.000379</td>\n",
              "      <td>-0.013522</td>\n",
              "    </tr>\n",
              "    <tr>\n",
              "      <th>Salary</th>\n",
              "      <td>-0.000759</td>\n",
              "      <td>-0.046426</td>\n",
              "      <td>0.019775</td>\n",
              "      <td>1.000000</td>\n",
              "      <td>-0.000195</td>\n",
              "      <td>0.000421</td>\n",
              "      <td>0.000426</td>\n",
              "      <td>-0.003451</td>\n",
              "      <td>0.001889</td>\n",
              "      <td>-0.001951</td>\n",
              "      <td>0.075216</td>\n",
              "      <td>0.048340</td>\n",
              "      <td>0.074186</td>\n",
              "      <td>0.001101</td>\n",
              "      <td>0.021870</td>\n",
              "      <td>0.001416</td>\n",
              "      <td>0.022055</td>\n",
              "    </tr>\n",
              "    <tr>\n",
              "      <th>SeniorList</th>\n",
              "      <td>0.000815</td>\n",
              "      <td>-0.000095</td>\n",
              "      <td>0.000349</td>\n",
              "      <td>-0.000195</td>\n",
              "      <td>1.000000</td>\n",
              "      <td>0.408294</td>\n",
              "      <td>0.385607</td>\n",
              "      <td>0.409977</td>\n",
              "      <td>0.293257</td>\n",
              "      <td>0.662898</td>\n",
              "      <td>0.058632</td>\n",
              "      <td>-0.049351</td>\n",
              "      <td>0.030649</td>\n",
              "      <td>-0.000125</td>\n",
              "      <td>0.001313</td>\n",
              "      <td>-0.001315</td>\n",
              "      <td>-0.001249</td>\n",
              "    </tr>\n",
              "    <tr>\n",
              "      <th>NbActivities</th>\n",
              "      <td>0.001128</td>\n",
              "      <td>0.001681</td>\n",
              "      <td>0.000411</td>\n",
              "      <td>0.000421</td>\n",
              "      <td>0.408294</td>\n",
              "      <td>1.000000</td>\n",
              "      <td>0.527538</td>\n",
              "      <td>-0.041532</td>\n",
              "      <td>0.485541</td>\n",
              "      <td>0.337794</td>\n",
              "      <td>0.130007</td>\n",
              "      <td>-0.034664</td>\n",
              "      <td>0.085612</td>\n",
              "      <td>0.172631</td>\n",
              "      <td>0.050613</td>\n",
              "      <td>0.169830</td>\n",
              "      <td>0.048435</td>\n",
              "    </tr>\n",
              "    <tr>\n",
              "      <th>Referrals</th>\n",
              "      <td>-0.000853</td>\n",
              "      <td>-0.000138</td>\n",
              "      <td>-0.002079</td>\n",
              "      <td>0.000426</td>\n",
              "      <td>0.385607</td>\n",
              "      <td>0.527538</td>\n",
              "      <td>1.000000</td>\n",
              "      <td>-0.038949</td>\n",
              "      <td>0.450656</td>\n",
              "      <td>0.313620</td>\n",
              "      <td>0.117908</td>\n",
              "      <td>-0.032493</td>\n",
              "      <td>0.076919</td>\n",
              "      <td>0.160814</td>\n",
              "      <td>0.046003</td>\n",
              "      <td>0.159688</td>\n",
              "      <td>0.045224</td>\n",
              "    </tr>\n",
              "    <tr>\n",
              "      <th>Recency</th>\n",
              "      <td>0.000345</td>\n",
              "      <td>-0.002042</td>\n",
              "      <td>-0.000671</td>\n",
              "      <td>-0.003451</td>\n",
              "      <td>0.409977</td>\n",
              "      <td>-0.041532</td>\n",
              "      <td>-0.038949</td>\n",
              "      <td>1.000000</td>\n",
              "      <td>-0.265405</td>\n",
              "      <td>0.566351</td>\n",
              "      <td>-0.072300</td>\n",
              "      <td>0.019381</td>\n",
              "      <td>-0.048954</td>\n",
              "      <td>-0.085739</td>\n",
              "      <td>-0.020735</td>\n",
              "      <td>-0.087135</td>\n",
              "      <td>-0.023791</td>\n",
              "    </tr>\n",
              "    <tr>\n",
              "      <th>Frequency</th>\n",
              "      <td>-0.001340</td>\n",
              "      <td>-0.000956</td>\n",
              "      <td>-0.002581</td>\n",
              "      <td>0.001889</td>\n",
              "      <td>0.293257</td>\n",
              "      <td>0.485541</td>\n",
              "      <td>0.450656</td>\n",
              "      <td>-0.265405</td>\n",
              "      <td>1.000000</td>\n",
              "      <td>0.512804</td>\n",
              "      <td>0.244038</td>\n",
              "      <td>-0.099925</td>\n",
              "      <td>0.150242</td>\n",
              "      <td>0.165779</td>\n",
              "      <td>0.043278</td>\n",
              "      <td>0.165005</td>\n",
              "      <td>0.041651</td>\n",
              "    </tr>\n",
              "    <tr>\n",
              "      <th>Seniority</th>\n",
              "      <td>-0.000401</td>\n",
              "      <td>-0.002443</td>\n",
              "      <td>-0.001805</td>\n",
              "      <td>-0.001951</td>\n",
              "      <td>0.662898</td>\n",
              "      <td>0.337794</td>\n",
              "      <td>0.313620</td>\n",
              "      <td>0.566351</td>\n",
              "      <td>0.512804</td>\n",
              "      <td>1.000000</td>\n",
              "      <td>0.117074</td>\n",
              "      <td>-0.068460</td>\n",
              "      <td>0.069522</td>\n",
              "      <td>0.036973</td>\n",
              "      <td>0.011420</td>\n",
              "      <td>0.034573</td>\n",
              "      <td>0.006719</td>\n",
              "    </tr>\n",
              "    <tr>\n",
              "      <th>TotalGift</th>\n",
              "      <td>-0.001426</td>\n",
              "      <td>0.051112</td>\n",
              "      <td>-0.051445</td>\n",
              "      <td>0.075216</td>\n",
              "      <td>0.058632</td>\n",
              "      <td>0.130007</td>\n",
              "      <td>0.117908</td>\n",
              "      <td>-0.072300</td>\n",
              "      <td>0.244038</td>\n",
              "      <td>0.117074</td>\n",
              "      <td>1.000000</td>\n",
              "      <td>0.481734</td>\n",
              "      <td>0.986409</td>\n",
              "      <td>0.045069</td>\n",
              "      <td>0.027755</td>\n",
              "      <td>0.050389</td>\n",
              "      <td>0.036353</td>\n",
              "    </tr>\n",
              "    <tr>\n",
              "      <th>MinGift</th>\n",
              "      <td>-0.000411</td>\n",
              "      <td>0.030785</td>\n",
              "      <td>-0.029519</td>\n",
              "      <td>0.048340</td>\n",
              "      <td>-0.049351</td>\n",
              "      <td>-0.034664</td>\n",
              "      <td>-0.032493</td>\n",
              "      <td>0.019381</td>\n",
              "      <td>-0.099925</td>\n",
              "      <td>-0.068460</td>\n",
              "      <td>0.481734</td>\n",
              "      <td>1.000000</td>\n",
              "      <td>0.517648</td>\n",
              "      <td>-0.010062</td>\n",
              "      <td>0.007557</td>\n",
              "      <td>-0.006234</td>\n",
              "      <td>0.021175</td>\n",
              "    </tr>\n",
              "    <tr>\n",
              "      <th>MaxGift</th>\n",
              "      <td>-0.001438</td>\n",
              "      <td>0.050119</td>\n",
              "      <td>-0.051216</td>\n",
              "      <td>0.074186</td>\n",
              "      <td>0.030649</td>\n",
              "      <td>0.085612</td>\n",
              "      <td>0.076919</td>\n",
              "      <td>-0.048954</td>\n",
              "      <td>0.150242</td>\n",
              "      <td>0.069522</td>\n",
              "      <td>0.986409</td>\n",
              "      <td>0.517648</td>\n",
              "      <td>1.000000</td>\n",
              "      <td>0.029916</td>\n",
              "      <td>0.022246</td>\n",
              "      <td>0.036122</td>\n",
              "      <td>0.032682</td>\n",
              "    </tr>\n",
              "    <tr>\n",
              "      <th>GaveLastYear</th>\n",
              "      <td>-0.000741</td>\n",
              "      <td>-0.000846</td>\n",
              "      <td>-0.001535</td>\n",
              "      <td>0.001101</td>\n",
              "      <td>-0.000125</td>\n",
              "      <td>0.172631</td>\n",
              "      <td>0.160814</td>\n",
              "      <td>-0.085739</td>\n",
              "      <td>0.165779</td>\n",
              "      <td>0.036973</td>\n",
              "      <td>0.045069</td>\n",
              "      <td>-0.010062</td>\n",
              "      <td>0.029916</td>\n",
              "      <td>1.000000</td>\n",
              "      <td>0.250222</td>\n",
              "      <td>0.111266</td>\n",
              "      <td>0.032035</td>\n",
              "    </tr>\n",
              "    <tr>\n",
              "      <th>AmtLastYear</th>\n",
              "      <td>0.000066</td>\n",
              "      <td>0.013658</td>\n",
              "      <td>-0.013239</td>\n",
              "      <td>0.021870</td>\n",
              "      <td>0.001313</td>\n",
              "      <td>0.050613</td>\n",
              "      <td>0.046003</td>\n",
              "      <td>-0.020735</td>\n",
              "      <td>0.043278</td>\n",
              "      <td>0.011420</td>\n",
              "      <td>0.027755</td>\n",
              "      <td>0.007557</td>\n",
              "      <td>0.022246</td>\n",
              "      <td>0.250222</td>\n",
              "      <td>1.000000</td>\n",
              "      <td>0.032792</td>\n",
              "      <td>0.017809</td>\n",
              "    </tr>\n",
              "    <tr>\n",
              "      <th>GaveThisYear</th>\n",
              "      <td>-0.000845</td>\n",
              "      <td>-0.000691</td>\n",
              "      <td>0.000379</td>\n",
              "      <td>0.001416</td>\n",
              "      <td>-0.001315</td>\n",
              "      <td>0.169830</td>\n",
              "      <td>0.159688</td>\n",
              "      <td>-0.087135</td>\n",
              "      <td>0.165005</td>\n",
              "      <td>0.034573</td>\n",
              "      <td>0.050389</td>\n",
              "      <td>-0.006234</td>\n",
              "      <td>0.036122</td>\n",
              "      <td>0.111266</td>\n",
              "      <td>0.032792</td>\n",
              "      <td>1.000000</td>\n",
              "      <td>0.249599</td>\n",
              "    </tr>\n",
              "    <tr>\n",
              "      <th>AmtThisYear</th>\n",
              "      <td>-0.002595</td>\n",
              "      <td>0.014477</td>\n",
              "      <td>-0.013522</td>\n",
              "      <td>0.022055</td>\n",
              "      <td>-0.001249</td>\n",
              "      <td>0.048435</td>\n",
              "      <td>0.045224</td>\n",
              "      <td>-0.023791</td>\n",
              "      <td>0.041651</td>\n",
              "      <td>0.006719</td>\n",
              "      <td>0.036353</td>\n",
              "      <td>0.021175</td>\n",
              "      <td>0.032682</td>\n",
              "      <td>0.032035</td>\n",
              "      <td>0.017809</td>\n",
              "      <td>0.249599</td>\n",
              "      <td>1.000000</td>\n",
              "    </tr>\n",
              "  </tbody>\n",
              "</table>\n",
              "</div>\n",
              "      <button class=\"colab-df-convert\" onclick=\"convertToInteractive('df-7a51eb52-e1ca-4929-b4ad-15b028a5c20c')\"\n",
              "              title=\"Convert this dataframe to an interactive table.\"\n",
              "              style=\"display:none;\">\n",
              "        \n",
              "  <svg xmlns=\"http://www.w3.org/2000/svg\" height=\"24px\"viewBox=\"0 0 24 24\"\n",
              "       width=\"24px\">\n",
              "    <path d=\"M0 0h24v24H0V0z\" fill=\"none\"/>\n",
              "    <path d=\"M18.56 5.44l.94 2.06.94-2.06 2.06-.94-2.06-.94-.94-2.06-.94 2.06-2.06.94zm-11 1L8.5 8.5l.94-2.06 2.06-.94-2.06-.94L8.5 2.5l-.94 2.06-2.06.94zm10 10l.94 2.06.94-2.06 2.06-.94-2.06-.94-.94-2.06-.94 2.06-2.06.94z\"/><path d=\"M17.41 7.96l-1.37-1.37c-.4-.4-.92-.59-1.43-.59-.52 0-1.04.2-1.43.59L10.3 9.45l-7.72 7.72c-.78.78-.78 2.05 0 2.83L4 21.41c.39.39.9.59 1.41.59.51 0 1.02-.2 1.41-.59l7.78-7.78 2.81-2.81c.8-.78.8-2.07 0-2.86zM5.41 20L4 18.59l7.72-7.72 1.47 1.35L5.41 20z\"/>\n",
              "  </svg>\n",
              "      </button>\n",
              "      \n",
              "  <style>\n",
              "    .colab-df-container {\n",
              "      display:flex;\n",
              "      flex-wrap:wrap;\n",
              "      gap: 12px;\n",
              "    }\n",
              "\n",
              "    .colab-df-convert {\n",
              "      background-color: #E8F0FE;\n",
              "      border: none;\n",
              "      border-radius: 50%;\n",
              "      cursor: pointer;\n",
              "      display: none;\n",
              "      fill: #1967D2;\n",
              "      height: 32px;\n",
              "      padding: 0 0 0 0;\n",
              "      width: 32px;\n",
              "    }\n",
              "\n",
              "    .colab-df-convert:hover {\n",
              "      background-color: #E2EBFA;\n",
              "      box-shadow: 0px 1px 2px rgba(60, 64, 67, 0.3), 0px 1px 3px 1px rgba(60, 64, 67, 0.15);\n",
              "      fill: #174EA6;\n",
              "    }\n",
              "\n",
              "    [theme=dark] .colab-df-convert {\n",
              "      background-color: #3B4455;\n",
              "      fill: #D2E3FC;\n",
              "    }\n",
              "\n",
              "    [theme=dark] .colab-df-convert:hover {\n",
              "      background-color: #434B5C;\n",
              "      box-shadow: 0px 1px 3px 1px rgba(0, 0, 0, 0.15);\n",
              "      filter: drop-shadow(0px 1px 2px rgba(0, 0, 0, 0.3));\n",
              "      fill: #FFFFFF;\n",
              "    }\n",
              "  </style>\n",
              "\n",
              "      <script>\n",
              "        const buttonEl =\n",
              "          document.querySelector('#df-7a51eb52-e1ca-4929-b4ad-15b028a5c20c button.colab-df-convert');\n",
              "        buttonEl.style.display =\n",
              "          google.colab.kernel.accessAllowed ? 'block' : 'none';\n",
              "\n",
              "        async function convertToInteractive(key) {\n",
              "          const element = document.querySelector('#df-7a51eb52-e1ca-4929-b4ad-15b028a5c20c');\n",
              "          const dataTable =\n",
              "            await google.colab.kernel.invokeFunction('convertToInteractive',\n",
              "                                                     [key], {});\n",
              "          if (!dataTable) return;\n",
              "\n",
              "          const docLinkHtml = 'Like what you see? Visit the ' +\n",
              "            '<a target=\"_blank\" href=https://colab.research.google.com/notebooks/data_table.ipynb>data table notebook</a>'\n",
              "            + ' to learn more about interactive tables.';\n",
              "          element.innerHTML = '';\n",
              "          dataTable['output_type'] = 'display_data';\n",
              "          await google.colab.output.renderOutput(dataTable, element);\n",
              "          const docLink = document.createElement('div');\n",
              "          docLink.innerHTML = docLinkHtml;\n",
              "          element.appendChild(docLink);\n",
              "        }\n",
              "      </script>\n",
              "    </div>\n",
              "  </div>\n",
              "  "
            ]
          },
          "metadata": {},
          "execution_count": 16
        }
      ]
    },
    {
      "cell_type": "code",
      "source": [
        "numeric = ['Age', 'Salary', 'NbActivities','TotalGift', 'AmtLastYear', 'Referrals', 'Recency', 'Frequency', 'Seniority', 'MinGift', 'MaxGift']\n",
        "cat = ['Woman','SeniorList', 'GaveLastYear']"
      ],
      "metadata": {
        "id": "WoaO8tRWddlC"
      },
      "id": "WoaO8tRWddlC",
      "execution_count": 17,
      "outputs": []
    },
    {
      "cell_type": "code",
      "source": [
        "fig, axes = plt.subplots(4,3, figsize=(10, 10))\n",
        "\n",
        "for i,el in enumerate(numeric):\n",
        "    a = data_merge.hist(el, ax=axes.flatten()[i])\n",
        "\n",
        "plt.tight_layout() "
      ],
      "metadata": {
        "colab": {
          "base_uri": "https://localhost:8080/",
          "height": 725
        },
        "id": "is_e-1ssQKwD",
        "outputId": "590d26d9-8dc5-4b1b-c20c-82ea41aeec1b"
      },
      "id": "is_e-1ssQKwD",
      "execution_count": 18,
      "outputs": [
        {
          "output_type": "display_data",
          "data": {
            "text/plain": [
              "<Figure size 720x720 with 12 Axes>"
            ],
            "image/png": "[encoded data removed]"
          },
          "metadata": {}
        }
      ]
    },
    {
      "cell_type": "code",
      "source": [
        "sns.barplot(x = data_merge['Age'], y = data_merge['AmtThisYear'])\n",
        "plt.show()"
      ],
      "metadata": {
        "id": "BkmkDX3jQcOV",
        "colab": {
          "base_uri": "https://localhost:8080/",
          "height": 285
        },
        "outputId": "72c3e5fa-3e0e-434e-978e-eb5a25c29059"
      },
      "id": "BkmkDX3jQcOV",
      "execution_count": 19,
      "outputs": [
        {
          "output_type": "display_data",
          "data": {
            "text/plain": [
              "<Figure size 432x288 with 1 Axes>"
            ],
            "image/png": "[encoded data removed]"
          },
          "metadata": {}
        }
      ]
    },
    {
      "cell_type": "code",
      "source": [
        "sns.barplot(x = data_merge['Salary'], y = data_merge['AmtThisYear'])\n",
        "plt.show()"
      ],
      "metadata": {
        "id": "nw5Fj0XBQtMT",
        "colab": {
          "base_uri": "https://localhost:8080/",
          "height": 285
        },
        "outputId": "8e5968f3-6639-4bb3-eb35-1667d9627842"
      },
      "id": "nw5Fj0XBQtMT",
      "execution_count": 20,
      "outputs": [
        {
          "output_type": "display_data",
          "data": {
            "text/plain": [
              "<Figure size 432x288 with 1 Axes>"
            ],
            "image/png": "[encoded data removed]"
          },
          "metadata": {}
        }
      ]
    },
    {
      "cell_type": "code",
      "source": [
        "sns.barplot(x = data_merge['TotalGift'], y = data_merge['AmtThisYear'])\n",
        "plt.show()"
      ],
      "metadata": {
        "id": "ST8WgK9LQt3Y",
        "colab": {
          "base_uri": "https://localhost:8080/",
          "height": 285
        },
        "outputId": "53bfa15a-e0d9-4236-92ff-6515b378389e"
      },
      "id": "ST8WgK9LQt3Y",
      "execution_count": 21,
      "outputs": [
        {
          "output_type": "display_data",
          "data": {
            "text/plain": [
              "<Figure size 432x288 with 1 Axes>"
            ],
            "image/png": "[encoded data removed]"
          },
          "metadata": {}
        }
      ]
    },
    {
      "cell_type": "code",
      "source": [
        "sns.barplot(x = data_merge['AmtLastYear'], y = data_merge['AmtThisYear'])\n",
        "plt.show()"
      ],
      "metadata": {
        "id": "naWhE_Y3QulW",
        "colab": {
          "base_uri": "https://localhost:8080/",
          "height": 285
        },
        "outputId": "e6065cad-6b64-418b-a7c3-4102b2cedb3f"
      },
      "id": "naWhE_Y3QulW",
      "execution_count": 22,
      "outputs": [
        {
          "output_type": "display_data",
          "data": {
            "text/plain": [
              "<Figure size 432x288 with 1 Axes>"
            ],
            "image/png": "[encoded data removed]"
          },
          "metadata": {}
        }
      ]
    },
    {
      "cell_type": "code",
      "source": [
        "sns.barplot(x = data_merge['NbActivities'], y = data_merge['AmtThisYear'])\n",
        "plt.show()"
      ],
      "metadata": {
        "id": "0YCinZ7TQ3BZ",
        "colab": {
          "base_uri": "https://localhost:8080/",
          "height": 285
        },
        "outputId": "3af73076-1a1a-4f74-b948-b35700b363ab"
      },
      "id": "0YCinZ7TQ3BZ",
      "execution_count": 23,
      "outputs": [
        {
          "output_type": "display_data",
          "data": {
            "text/plain": [
              "<Figure size 432x288 with 1 Axes>"
            ],
            "image/png": "[encoded data removed]"
          },
          "metadata": {}
        }
      ]
    },
    {
      "cell_type": "code",
      "source": [
        "sns.barplot(x = data_merge['Referrals'], y = data_merge['AmtThisYear'])\n",
        "plt.show()"
      ],
      "metadata": {
        "id": "0nxG5FMmQlMG",
        "colab": {
          "base_uri": "https://localhost:8080/",
          "height": 285
        },
        "outputId": "7093cd25-888f-46b6-c6d9-21d5cc68195a"
      },
      "id": "0nxG5FMmQlMG",
      "execution_count": 24,
      "outputs": [
        {
          "output_type": "display_data",
          "data": {
            "text/plain": [
              "<Figure size 432x288 with 1 Axes>"
            ],
            "image/png": "[encoded data removed]"
          },
          "metadata": {}
        }
      ]
    },
    {
      "cell_type": "code",
      "source": [
        "sns.barplot(x = data_merge['Recency'], y = data_merge['AmtThisYear'])\n",
        "plt.show()"
      ],
      "metadata": {
        "id": "dy1sUZsbRWcN",
        "colab": {
          "base_uri": "https://localhost:8080/",
          "height": 285
        },
        "outputId": "3ee13ec0-c3cf-4b5e-cb03-de4209501686"
      },
      "id": "dy1sUZsbRWcN",
      "execution_count": 25,
      "outputs": [
        {
          "output_type": "display_data",
          "data": {
            "text/plain": [
              "<Figure size 432x288 with 1 Axes>"
            ],
            "image/png": "[encoded data removed]"
          },
          "metadata": {}
        }
      ]
    },
    {
      "cell_type": "code",
      "source": [
        "sns.barplot(x = data_merge['Frequency'], y = data_merge['AmtThisYear'])\n",
        "plt.show()"
      ],
      "metadata": {
        "id": "6b5Rz2p2RYZA",
        "colab": {
          "base_uri": "https://localhost:8080/",
          "height": 285
        },
        "outputId": "06e1ada8-a3e2-4110-e6c4-7adf9cac970d"
      },
      "id": "6b5Rz2p2RYZA",
      "execution_count": 26,
      "outputs": [
        {
          "output_type": "display_data",
          "data": {
            "text/plain": [
              "<Figure size 432x288 with 1 Axes>"
            ],
            "image/png": "[encoded data removed]"
          },
          "metadata": {}
        }
      ]
    },
    {
      "cell_type": "code",
      "source": [
        "sns.barplot(x = data_merge['Seniority'], y = data_merge['AmtThisYear'])\n",
        "plt.show()"
      ],
      "metadata": {
        "id": "YuV2dhEJRbNP",
        "colab": {
          "base_uri": "https://localhost:8080/",
          "height": 285
        },
        "outputId": "834e0b7c-348e-4011-e99c-407b6670dc02"
      },
      "id": "YuV2dhEJRbNP",
      "execution_count": 27,
      "outputs": [
        {
          "output_type": "display_data",
          "data": {
            "text/plain": [
              "<Figure size 432x288 with 1 Axes>"
            ],
            "image/png": "[encoded data removed]"
          },
          "metadata": {}
        }
      ]
    },
    {
      "cell_type": "code",
      "source": [
        "sns.barplot(x = data_merge['MinGift'], y = data_merge['AmtThisYear'])\n",
        "plt.show()"
      ],
      "metadata": {
        "id": "UOT43fwPReU1",
        "colab": {
          "base_uri": "https://localhost:8080/",
          "height": 285
        },
        "outputId": "c3ea5b2f-4f50-4157-d9cc-3cecc68e1483"
      },
      "id": "UOT43fwPReU1",
      "execution_count": 28,
      "outputs": [
        {
          "output_type": "display_data",
          "data": {
            "text/plain": [
              "<Figure size 432x288 with 1 Axes>"
            ],
            "image/png": "[encoded data removed]"
          },
          "metadata": {}
        }
      ]
    },
    {
      "cell_type": "code",
      "source": [
        "sns.barplot(x = data_merge['Woman'], y = data_merge['AmtThisYear'])\n",
        "plt.show()"
      ],
      "metadata": {
        "id": "Eg1TgAJBRgeN",
        "colab": {
          "base_uri": "https://localhost:8080/",
          "height": 285
        },
        "outputId": "05906d75-8f0e-4861-da48-53ac4e18e1f9"
      },
      "id": "Eg1TgAJBRgeN",
      "execution_count": 29,
      "outputs": [
        {
          "output_type": "display_data",
          "data": {
            "text/plain": [
              "<Figure size 432x288 with 1 Axes>"
            ],
            "image/png": "[encoded data removed]"
          },
          "metadata": {}
        }
      ]
    },
    {
      "cell_type": "markdown",
      "source": [
        "## Preprocessing"
      ],
      "metadata": {
        "id": "CQeMHsKgXMMj"
      },
      "id": "CQeMHsKgXMMj"
    },
    {
      "cell_type": "code",
      "source": [
        "import numpy as np\n",
        "def deal_with_nulls(data):\n",
        "\n",
        "  #Recency\n",
        "  data.loc[(data['GaveLastYear'] == 1.0), 'Recency'] = 1\n",
        "  data.loc[np.isnan(data['Recency']) & (data['GaveLastYear'] == 0.0), 'Recency'] = 12\n",
        "  data.loc[np.isnan(data['Recency']) & (data['GaveLastYear'] == 1.0), 'Recency'] = 1\n",
        "\n",
        "  #Frequency\n",
        "  data.loc[(data['GaveLastYear'] == 1.0), 'Frequency'] += 1\n",
        "  data.loc[np.isnan(data['Frequency']) & (data['GaveLastYear'] == 0.0), 'Frequency'] = 0\n",
        "  data.loc[np.isnan(data['Frequency']) & (data['GaveLastYear'] == 1.0), 'Frequency'] = 1\n",
        "\n",
        "  #Seniority\n",
        "  data['Seniority'].fillna(12, inplace = True)\n",
        "\n",
        "  #TotalGift\n",
        "  data.loc[(data['GaveLastYear'] == 1.0), 'TotalGift'] += data[\"AmtLastYear\"]\n",
        "  data.loc[np.isnan(data['TotalGift']) & (data['GaveLastYear'] == 0.0), 'TotalGift'] = 0 \n",
        "  data.loc[np.isnan(data['TotalGift']) & (data['GaveLastYear'] == 1.0), 'TotalGift'] = data[\"AmtLastYear\"]\n",
        "  \n",
        "\n",
        "  #MinGift\n",
        "  data.loc[data['GaveLastYear'] == 1 & (data['AmtLastYear'] < data['MinGift']), 'MinGift'] = data['AmtLastYear']\n",
        "  data.loc[np.isnan(data['MinGift']) & (data['GaveLastYear'] == 0.0), 'MinGift'] = 0 \n",
        "  data.loc[np.isnan(data['MinGift']) & (data['GaveLastYear'] == 1.0), 'MinGift'] = data[\"AmtLastYear\"]\n",
        "\n",
        "  #MaxGift\n",
        "  data.loc[data['GaveLastYear'] == 1 & (data['AmtLastYear'] > data['MaxGift']), 'MaxGift'] = data[\"AmtLastYear\"]\n",
        "  data.loc[np.isnan(data['MaxGift']) & (data['GaveLastYear'] == 0.0), 'MaxGift'] = 0 \n",
        "  data.loc[np.isnan(data['MaxGift']) & (data['GaveLastYear'] == 1.0), 'MaxGift'] = data[\"AmtLastYear\"]\n",
        "\n",
        "  return data"
      ],
      "metadata": {
        "id": "AA7WP1BWOTWB"
      },
      "id": "AA7WP1BWOTWB",
      "execution_count": 30,
      "outputs": []
    },
    {
      "cell_type": "code",
      "source": [
        "def one_hot_encoding(data, columns):\n",
        "  encoded_data = pd.get_dummies(data, columns = columns)\n",
        "  \n",
        "  return encoded_data"
      ],
      "metadata": {
        "id": "gvH8gX5cOVZm"
      },
      "id": "gvH8gX5cOVZm",
      "execution_count": 31,
      "outputs": []
    },
    {
      "cell_type": "code",
      "source": [
        "from sklearn.preprocessing import StandardScaler, MinMaxScaler\n",
        "\n",
        "def scalate(data, to_scale):\n",
        "  #scaler = StandardScaler()\n",
        "  scaler = MinMaxScaler()\n",
        "  scaler.fit(data[to_scale])\n",
        "  transformed = scaler.transform(data[to_scale])\n",
        "  data[to_scale] = pd.DataFrame(transformed, columns = data[to_scale].columns)\n",
        "\n",
        "  return data"
      ],
      "metadata": {
        "id": "yIZlGTLrOY4D"
      },
      "id": "yIZlGTLrOY4D",
      "execution_count": 32,
      "outputs": []
    },
    {
      "cell_type": "code",
      "source": [
        "prepro_data = deal_with_nulls(data_merge)\n",
        "prepro_data.head()"
      ],
      "metadata": {
        "colab": {
          "base_uri": "https://localhost:8080/",
          "height": 352
        },
        "id": "GynrPH35OapF",
        "outputId": "0240df9c-b9fd-4fd3-ab80-68f9ebe350ef"
      },
      "id": "GynrPH35OapF",
      "execution_count": 33,
      "outputs": [
        {
          "output_type": "execute_result",
          "data": {
            "text/plain": [
              "          ID  LastName FirstName  Woman   Age    Salary             Education  \\\n",
              "0  2000001.0    ROMMES    RODNEY    0.0  25.0  107200.0  University / College   \n",
              "1  2000002.0   RAMIREZ    SHARON    1.0  38.0   15800.0           High School   \n",
              "2  2000003.0    TSOSIE     KAREN    1.0  37.0   57400.0  University / College   \n",
              "3  2000004.0       LEE      MARY    1.0  78.0   23700.0           High School   \n",
              "4  2000005.0  HUMPHRES     ANGIE    1.0  34.0   71900.0  University / College   \n",
              "\n",
              "    City  SeniorList  NbActivities  ...  Recency  Frequency  Seniority  \\\n",
              "0   City         2.0           0.0  ...      1.0        2.0        2.0   \n",
              "1  Rural         4.0           1.0  ...     12.0        0.0       12.0   \n",
              "2  Rural         5.0           0.0  ...     12.0        0.0       12.0   \n",
              "3  Rural         3.0           0.0  ...     12.0        0.0       12.0   \n",
              "4  Rural         8.0           0.0  ...     12.0        0.0       12.0   \n",
              "\n",
              "   TotalGift  MinGift  MaxGift  GaveLastYear  AmtLastYear  GaveThisYear  \\\n",
              "0     1010.0     10.0      0.0           0.0          0.0           0.0   \n",
              "1        0.0      0.0      0.0           0.0          0.0           0.0   \n",
              "2        0.0      0.0      0.0           0.0          0.0           0.0   \n",
              "3        0.0      0.0      0.0           0.0          0.0           0.0   \n",
              "4        0.0      0.0      0.0           0.0          0.0           0.0   \n",
              "\n",
              "   AmtThisYear  \n",
              "0          0.0  \n",
              "1          0.0  \n",
              "2          0.0  \n",
              "3          0.0  \n",
              "4          0.0  \n",
              "\n",
              "[5 rows x 21 columns]"
            ],
            "text/html": [
              "\n",
              "  <div id=\"df-9a1e92e8-4cf0-46d9-b5a7-97a041444be5\">\n",
              "    <div class=\"colab-df-container\">\n",
              "      <div>\n",
              "<style scoped>\n",
              "    .dataframe tbody tr th:only-of-type {\n",
              "        vertical-align: middle;\n",
              "    }\n",
              "\n",
              "    .dataframe tbody tr th {\n",
              "        vertical-align: top;\n",
              "    }\n",
              "\n",
              "    .dataframe thead th {\n",
              "        text-align: right;\n",
              "    }\n",
              "</style>\n",
              "<table border=\"1\" class=\"dataframe\">\n",
              "  <thead>\n",
              "    <tr style=\"text-align: right;\">\n",
              "      <th></th>\n",
              "      <th>ID</th>\n",
              "      <th>LastName</th>\n",
              "      <th>FirstName</th>\n",
              "      <th>Woman</th>\n",
              "      <th>Age</th>\n",
              "      <th>Salary</th>\n",
              "      <th>Education</th>\n",
              "      <th>City</th>\n",
              "      <th>SeniorList</th>\n",
              "      <th>NbActivities</th>\n",
              "      <th>...</th>\n",
              "      <th>Recency</th>\n",
              "      <th>Frequency</th>\n",
              "      <th>Seniority</th>\n",
              "      <th>TotalGift</th>\n",
              "      <th>MinGift</th>\n",
              "      <th>MaxGift</th>\n",
              "      <th>GaveLastYear</th>\n",
              "      <th>AmtLastYear</th>\n",
              "      <th>GaveThisYear</th>\n",
              "      <th>AmtThisYear</th>\n",
              "    </tr>\n",
              "  </thead>\n",
              "  <tbody>\n",
              "    <tr>\n",
              "      <th>0</th>\n",
              "      <td>2000001.0</td>\n",
              "      <td>ROMMES</td>\n",
              "      <td>RODNEY</td>\n",
              "      <td>0.0</td>\n",
              "      <td>25.0</td>\n",
              "      <td>107200.0</td>\n",
              "      <td>University / College</td>\n",
              "      <td>City</td>\n",
              "      <td>2.0</td>\n",
              "      <td>0.0</td>\n",
              "      <td>...</td>\n",
              "      <td>1.0</td>\n",
              "      <td>2.0</td>\n",
              "      <td>2.0</td>\n",
              "      <td>1010.0</td>\n",
              "      <td>10.0</td>\n",
              "      <td>0.0</td>\n",
              "      <td>0.0</td>\n",
              "      <td>0.0</td>\n",
              "      <td>0.0</td>\n",
              "      <td>0.0</td>\n",
              "    </tr>\n",
              "    <tr>\n",
              "      <th>1</th>\n",
              "      <td>2000002.0</td>\n",
              "      <td>RAMIREZ</td>\n",
              "      <td>SHARON</td>\n",
              "      <td>1.0</td>\n",
              "      <td>38.0</td>\n",
              "      <td>15800.0</td>\n",
              "      <td>High School</td>\n",
              "      <td>Rural</td>\n",
              "      <td>4.0</td>\n",
              "      <td>1.0</td>\n",
              "      <td>...</td>\n",
              "      <td>12.0</td>\n",
              "      <td>0.0</td>\n",
              "      <td>12.0</td>\n",
              "      <td>0.0</td>\n",
              "      <td>0.0</td>\n",
              "      <td>0.0</td>\n",
              "      <td>0.0</td>\n",
              "      <td>0.0</td>\n",
              "      <td>0.0</td>\n",
              "      <td>0.0</td>\n",
              "    </tr>\n",
              "    <tr>\n",
              "      <th>2</th>\n",
              "      <td>2000003.0</td>\n",
              "      <td>TSOSIE</td>\n",
              "      <td>KAREN</td>\n",
              "      <td>1.0</td>\n",
              "      <td>37.0</td>\n",
              "      <td>57400.0</td>\n",
              "      <td>University / College</td>\n",
              "      <td>Rural</td>\n",
              "      <td>5.0</td>\n",
              "      <td>0.0</td>\n",
              "      <td>...</td>\n",
              "      <td>12.0</td>\n",
              "      <td>0.0</td>\n",
              "      <td>12.0</td>\n",
              "      <td>0.0</td>\n",
              "      <td>0.0</td>\n",
              "      <td>0.0</td>\n",
              "      <td>0.0</td>\n",
              "      <td>0.0</td>\n",
              "      <td>0.0</td>\n",
              "      <td>0.0</td>\n",
              "    </tr>\n",
              "    <tr>\n",
              "      <th>3</th>\n",
              "      <td>2000004.0</td>\n",
              "      <td>LEE</td>\n",
              "      <td>MARY</td>\n",
              "      <td>1.0</td>\n",
              "      <td>78.0</td>\n",
              "      <td>23700.0</td>\n",
              "      <td>High School</td>\n",
              "      <td>Rural</td>\n",
              "      <td>3.0</td>\n",
              "      <td>0.0</td>\n",
              "      <td>...</td>\n",
              "      <td>12.0</td>\n",
              "      <td>0.0</td>\n",
              "      <td>12.0</td>\n",
              "      <td>0.0</td>\n",
              "      <td>0.0</td>\n",
              "      <td>0.0</td>\n",
              "      <td>0.0</td>\n",
              "      <td>0.0</td>\n",
              "      <td>0.0</td>\n",
              "      <td>0.0</td>\n",
              "    </tr>\n",
              "    <tr>\n",
              "      <th>4</th>\n",
              "      <td>2000005.0</td>\n",
              "      <td>HUMPHRES</td>\n",
              "      <td>ANGIE</td>\n",
              "      <td>1.0</td>\n",
              "      <td>34.0</td>\n",
              "      <td>71900.0</td>\n",
              "      <td>University / College</td>\n",
              "      <td>Rural</td>\n",
              "      <td>8.0</td>\n",
              "      <td>0.0</td>\n",
              "      <td>...</td>\n",
              "      <td>12.0</td>\n",
              "      <td>0.0</td>\n",
              "      <td>12.0</td>\n",
              "      <td>0.0</td>\n",
              "      <td>0.0</td>\n",
              "      <td>0.0</td>\n",
              "      <td>0.0</td>\n",
              "      <td>0.0</td>\n",
              "      <td>0.0</td>\n",
              "      <td>0.0</td>\n",
              "    </tr>\n",
              "  </tbody>\n",
              "</table>\n",
              "<p>5 rows × 21 columns</p>\n",
              "</div>\n",
              "      <button class=\"colab-df-convert\" onclick=\"convertToInteractive('df-9a1e92e8-4cf0-46d9-b5a7-97a041444be5')\"\n",
              "              title=\"Convert this dataframe to an interactive table.\"\n",
              "              style=\"display:none;\">\n",
              "        \n",
              "  <svg xmlns=\"http://www.w3.org/2000/svg\" height=\"24px\"viewBox=\"0 0 24 24\"\n",
              "       width=\"24px\">\n",
              "    <path d=\"M0 0h24v24H0V0z\" fill=\"none\"/>\n",
              "    <path d=\"M18.56 5.44l.94 2.06.94-2.06 2.06-.94-2.06-.94-.94-2.06-.94 2.06-2.06.94zm-11 1L8.5 8.5l.94-2.06 2.06-.94-2.06-.94L8.5 2.5l-.94 2.06-2.06.94zm10 10l.94 2.06.94-2.06 2.06-.94-2.06-.94-.94-2.06-.94 2.06-2.06.94z\"/><path d=\"M17.41 7.96l-1.37-1.37c-.4-.4-.92-.59-1.43-.59-.52 0-1.04.2-1.43.59L10.3 9.45l-7.72 7.72c-.78.78-.78 2.05 0 2.83L4 21.41c.39.39.9.59 1.41.59.51 0 1.02-.2 1.41-.59l7.78-7.78 2.81-2.81c.8-.78.8-2.07 0-2.86zM5.41 20L4 18.59l7.72-7.72 1.47 1.35L5.41 20z\"/>\n",
              "  </svg>\n",
              "      </button>\n",
              "      \n",
              "  <style>\n",
              "    .colab-df-container {\n",
              "      display:flex;\n",
              "      flex-wrap:wrap;\n",
              "      gap: 12px;\n",
              "    }\n",
              "\n",
              "    .colab-df-convert {\n",
              "      background-color: #E8F0FE;\n",
              "      border: none;\n",
              "      border-radius: 50%;\n",
              "      cursor: pointer;\n",
              "      display: none;\n",
              "      fill: #1967D2;\n",
              "      height: 32px;\n",
              "      padding: 0 0 0 0;\n",
              "      width: 32px;\n",
              "    }\n",
              "\n",
              "    .colab-df-convert:hover {\n",
              "      background-color: #E2EBFA;\n",
              "      box-shadow: 0px 1px 2px rgba(60, 64, 67, 0.3), 0px 1px 3px 1px rgba(60, 64, 67, 0.15);\n",
              "      fill: #174EA6;\n",
              "    }\n",
              "\n",
              "    [theme=dark] .colab-df-convert {\n",
              "      background-color: #3B4455;\n",
              "      fill: #D2E3FC;\n",
              "    }\n",
              "\n",
              "    [theme=dark] .colab-df-convert:hover {\n",
              "      background-color: #434B5C;\n",
              "      box-shadow: 0px 1px 3px 1px rgba(0, 0, 0, 0.15);\n",
              "      filter: drop-shadow(0px 1px 2px rgba(0, 0, 0, 0.3));\n",
              "      fill: #FFFFFF;\n",
              "    }\n",
              "  </style>\n",
              "\n",
              "      <script>\n",
              "        const buttonEl =\n",
              "          document.querySelector('#df-9a1e92e8-4cf0-46d9-b5a7-97a041444be5 button.colab-df-convert');\n",
              "        buttonEl.style.display =\n",
              "          google.colab.kernel.accessAllowed ? 'block' : 'none';\n",
              "\n",
              "        async function convertToInteractive(key) {\n",
              "          const element = document.querySelector('#df-9a1e92e8-4cf0-46d9-b5a7-97a041444be5');\n",
              "          const dataTable =\n",
              "            await google.colab.kernel.invokeFunction('convertToInteractive',\n",
              "                                                     [key], {});\n",
              "          if (!dataTable) return;\n",
              "\n",
              "          const docLinkHtml = 'Like what you see? Visit the ' +\n",
              "            '<a target=\"_blank\" href=https://colab.research.google.com/notebooks/data_table.ipynb>data table notebook</a>'\n",
              "            + ' to learn more about interactive tables.';\n",
              "          element.innerHTML = '';\n",
              "          dataTable['output_type'] = 'display_data';\n",
              "          await google.colab.output.renderOutput(dataTable, element);\n",
              "          const docLink = document.createElement('div');\n",
              "          docLink.innerHTML = docLinkHtml;\n",
              "          element.appendChild(docLink);\n",
              "        }\n",
              "      </script>\n",
              "    </div>\n",
              "  </div>\n",
              "  "
            ]
          },
          "metadata": {},
          "execution_count": 33
        }
      ]
    },
    {
      "cell_type": "code",
      "source": [
        "prepro_data = one_hot_encoding(prepro_data, ['Education', 'City'])\n",
        "prepro_data = scalate(prepro_data, numeric)"
      ],
      "metadata": {
        "id": "7VPYuiBJaNsz"
      },
      "id": "7VPYuiBJaNsz",
      "execution_count": 34,
      "outputs": []
    },
    {
      "cell_type": "code",
      "source": [
        "prepro_data.info()"
      ],
      "metadata": {
        "colab": {
          "base_uri": "https://localhost:8080/"
        },
        "id": "ruz_bCwCe3RE",
        "outputId": "e5c315c4-20f7-497d-e777-96a7786d561e"
      },
      "id": "ruz_bCwCe3RE",
      "execution_count": 35,
      "outputs": [
        {
          "output_type": "stream",
          "name": "stdout",
          "text": [
            "<class 'pandas.core.frame.DataFrame'>\n",
            "Int64Index: 1000000 entries, 0 to 999999\n",
            "Data columns (total 26 columns):\n",
            " #   Column                          Non-Null Count    Dtype  \n",
            "---  ------                          --------------    -----  \n",
            " 0   ID                              1000000 non-null  float64\n",
            " 1   LastName                        999977 non-null   object \n",
            " 2   FirstName                       999996 non-null   object \n",
            " 3   Woman                           1000000 non-null  float64\n",
            " 4   Age                             1000000 non-null  float64\n",
            " 5   Salary                          1000000 non-null  float64\n",
            " 6   SeniorList                      1000000 non-null  float64\n",
            " 7   NbActivities                    1000000 non-null  float64\n",
            " 8   Referrals                       1000000 non-null  float64\n",
            " 9   Recency                         1000000 non-null  float64\n",
            " 10  Frequency                       1000000 non-null  float64\n",
            " 11  Seniority                       1000000 non-null  float64\n",
            " 12  TotalGift                       1000000 non-null  float64\n",
            " 13  MinGift                         1000000 non-null  float64\n",
            " 14  MaxGift                         1000000 non-null  float64\n",
            " 15  GaveLastYear                    1000000 non-null  float64\n",
            " 16  AmtLastYear                     1000000 non-null  float64\n",
            " 17  GaveThisYear                    1000000 non-null  float64\n",
            " 18  AmtThisYear                     1000000 non-null  float64\n",
            " 19  Education_Elementary            1000000 non-null  uint8  \n",
            " 20  Education_High School           1000000 non-null  uint8  \n",
            " 21  Education_University / College  1000000 non-null  uint8  \n",
            " 22  City_City                       1000000 non-null  uint8  \n",
            " 23  City_Downtown                   1000000 non-null  uint8  \n",
            " 24  City_Rural                      1000000 non-null  uint8  \n",
            " 25  City_Suburban                   1000000 non-null  uint8  \n",
            "dtypes: float64(17), object(2), uint8(7)\n",
            "memory usage: 191.5+ MB\n"
          ]
        }
      ]
    },
    {
      "cell_type": "code",
      "source": [
        "dummies_name = ['Education_Elementary', 'Education_High School', 'Education_University / College', 'City_City', 'City_Downtown', 'City_Rural', 'City_Suburban']\n",
        "corr_dummies = prepro_data[dummies_name+['AmtThisYear']].corr()\n",
        "sns.heatmap(corr_dummies, annot=True, cmap=\"Blues_r\")\n",
        "plt.show()"
      ],
      "metadata": {
        "colab": {
          "base_uri": "https://localhost:8080/",
          "height": 430
        },
        "id": "EYFeXOxXjwNf",
        "outputId": "70a76b96-45e6-46d1-8219-39b295233269"
      },
      "id": "EYFeXOxXjwNf",
      "execution_count": 36,
      "outputs": [
        {
          "output_type": "display_data",
          "data": {
            "text/plain": [
              "<Figure size 432x288 with 2 Axes>"
            ],
            "image/png": "[encoded data removed]"
          },
          "metadata": {}
        }
      ]
    },
    {
      "cell_type": "code",
      "source": [
        "sns.barplot(x = prepro_data['Education_University / College'], y = prepro_data['AmtThisYear'])\n",
        "plt.show()\n"
      ],
      "metadata": {
        "colab": {
          "base_uri": "https://localhost:8080/",
          "height": 285
        },
        "id": "VQ9W_St9HJUh",
        "outputId": "3c86b81c-b9cc-40a1-d3e2-61529eb36eca"
      },
      "id": "VQ9W_St9HJUh",
      "execution_count": 37,
      "outputs": [
        {
          "output_type": "display_data",
          "data": {
            "text/plain": [
              "<Figure size 432x288 with 1 Axes>"
            ],
            "image/png": "[encoded data removed]"
          },
          "metadata": {}
        }
      ]
    },
    {
      "cell_type": "markdown",
      "id": "9b861046-5968-4601-bd4b-b6510f1bf5b9",
      "metadata": {
        "id": "9b861046-5968-4601-bd4b-b6510f1bf5b9"
      },
      "source": [
        "## Data Partition"
      ]
    },
    {
      "cell_type": "code",
      "execution_count": 38,
      "id": "f4bf6498-b18c-400d-9202-bb466d1272df",
      "metadata": {
        "collapsed": true,
        "id": "f4bf6498-b18c-400d-9202-bb466d1272df",
        "outputId": "fa71188e-bdab-4fc3-9aac-717101b249b4",
        "colab": {
          "base_uri": "https://localhost:8080/",
          "height": 223
        }
      },
      "outputs": [
        {
          "output_type": "execute_result",
          "data": {
            "text/plain": [
              "               ID LastName FirstName  Woman       Age  Salary  SeniorList  \\\n",
              "327640  2327641.0     WASH      LISA    1.0  0.783784  0.2284         6.0   \n",
              "866706  2866707.0  BESONEN   WILLIAM    0.0  0.121622  0.1768        10.0   \n",
              "\n",
              "        NbActivities  Referrals  Recency  ...  AmtLastYear  GaveThisYear  \\\n",
              "327640           0.0     0.0625      0.0  ...       0.0030           0.0   \n",
              "866706           0.2     0.1250      0.0  ...       0.0025           1.0   \n",
              "\n",
              "        AmtThisYear  Education_Elementary  Education_High School  \\\n",
              "327640          0.0                     0                      0   \n",
              "866706         75.0                     0                      0   \n",
              "\n",
              "        Education_University / College  City_City  City_Downtown  City_Rural  \\\n",
              "327640                               1          0              0           0   \n",
              "866706                               1          1              0           0   \n",
              "\n",
              "        City_Suburban  \n",
              "327640              1  \n",
              "866706              0  \n",
              "\n",
              "[2 rows x 26 columns]"
            ],
            "text/html": [
              "\n",
              "  <div id=\"df-77424a88-9896-46d9-9283-9a3f11163328\">\n",
              "    <div class=\"colab-df-container\">\n",
              "      <div>\n",
              "<style scoped>\n",
              "    .dataframe tbody tr th:only-of-type {\n",
              "        vertical-align: middle;\n",
              "    }\n",
              "\n",
              "    .dataframe tbody tr th {\n",
              "        vertical-align: top;\n",
              "    }\n",
              "\n",
              "    .dataframe thead th {\n",
              "        text-align: right;\n",
              "    }\n",
              "</style>\n",
              "<table border=\"1\" class=\"dataframe\">\n",
              "  <thead>\n",
              "    <tr style=\"text-align: right;\">\n",
              "      <th></th>\n",
              "      <th>ID</th>\n",
              "      <th>LastName</th>\n",
              "      <th>FirstName</th>\n",
              "      <th>Woman</th>\n",
              "      <th>Age</th>\n",
              "      <th>Salary</th>\n",
              "      <th>SeniorList</th>\n",
              "      <th>NbActivities</th>\n",
              "      <th>Referrals</th>\n",
              "      <th>Recency</th>\n",
              "      <th>...</th>\n",
              "      <th>AmtLastYear</th>\n",
              "      <th>GaveThisYear</th>\n",
              "      <th>AmtThisYear</th>\n",
              "      <th>Education_Elementary</th>\n",
              "      <th>Education_High School</th>\n",
              "      <th>Education_University / College</th>\n",
              "      <th>City_City</th>\n",
              "      <th>City_Downtown</th>\n",
              "      <th>City_Rural</th>\n",
              "      <th>City_Suburban</th>\n",
              "    </tr>\n",
              "  </thead>\n",
              "  <tbody>\n",
              "    <tr>\n",
              "      <th>327640</th>\n",
              "      <td>2327641.0</td>\n",
              "      <td>WASH</td>\n",
              "      <td>LISA</td>\n",
              "      <td>1.0</td>\n",
              "      <td>0.783784</td>\n",
              "      <td>0.2284</td>\n",
              "      <td>6.0</td>\n",
              "      <td>0.0</td>\n",
              "      <td>0.0625</td>\n",
              "      <td>0.0</td>\n",
              "      <td>...</td>\n",
              "      <td>0.0030</td>\n",
              "      <td>0.0</td>\n",
              "      <td>0.0</td>\n",
              "      <td>0</td>\n",
              "      <td>0</td>\n",
              "      <td>1</td>\n",
              "      <td>0</td>\n",
              "      <td>0</td>\n",
              "      <td>0</td>\n",
              "      <td>1</td>\n",
              "    </tr>\n",
              "    <tr>\n",
              "      <th>866706</th>\n",
              "      <td>2866707.0</td>\n",
              "      <td>BESONEN</td>\n",
              "      <td>WILLIAM</td>\n",
              "      <td>0.0</td>\n",
              "      <td>0.121622</td>\n",
              "      <td>0.1768</td>\n",
              "      <td>10.0</td>\n",
              "      <td>0.2</td>\n",
              "      <td>0.1250</td>\n",
              "      <td>0.0</td>\n",
              "      <td>...</td>\n",
              "      <td>0.0025</td>\n",
              "      <td>1.0</td>\n",
              "      <td>75.0</td>\n",
              "      <td>0</td>\n",
              "      <td>0</td>\n",
              "      <td>1</td>\n",
              "      <td>1</td>\n",
              "      <td>0</td>\n",
              "      <td>0</td>\n",
              "      <td>0</td>\n",
              "    </tr>\n",
              "  </tbody>\n",
              "</table>\n",
              "<p>2 rows × 26 columns</p>\n",
              "</div>\n",
              "      <button class=\"colab-df-convert\" onclick=\"convertToInteractive('df-77424a88-9896-46d9-9283-9a3f11163328')\"\n",
              "              title=\"Convert this dataframe to an interactive table.\"\n",
              "              style=\"display:none;\">\n",
              "        \n",
              "  <svg xmlns=\"http://www.w3.org/2000/svg\" height=\"24px\"viewBox=\"0 0 24 24\"\n",
              "       width=\"24px\">\n",
              "    <path d=\"M0 0h24v24H0V0z\" fill=\"none\"/>\n",
              "    <path d=\"M18.56 5.44l.94 2.06.94-2.06 2.06-.94-2.06-.94-.94-2.06-.94 2.06-2.06.94zm-11 1L8.5 8.5l.94-2.06 2.06-.94-2.06-.94L8.5 2.5l-.94 2.06-2.06.94zm10 10l.94 2.06.94-2.06 2.06-.94-2.06-.94-.94-2.06-.94 2.06-2.06.94z\"/><path d=\"M17.41 7.96l-1.37-1.37c-.4-.4-.92-.59-1.43-.59-.52 0-1.04.2-1.43.59L10.3 9.45l-7.72 7.72c-.78.78-.78 2.05 0 2.83L4 21.41c.39.39.9.59 1.41.59.51 0 1.02-.2 1.41-.59l7.78-7.78 2.81-2.81c.8-.78.8-2.07 0-2.86zM5.41 20L4 18.59l7.72-7.72 1.47 1.35L5.41 20z\"/>\n",
              "  </svg>\n",
              "      </button>\n",
              "      \n",
              "  <style>\n",
              "    .colab-df-container {\n",
              "      display:flex;\n",
              "      flex-wrap:wrap;\n",
              "      gap: 12px;\n",
              "    }\n",
              "\n",
              "    .colab-df-convert {\n",
              "      background-color: #E8F0FE;\n",
              "      border: none;\n",
              "      border-radius: 50%;\n",
              "      cursor: pointer;\n",
              "      display: none;\n",
              "      fill: #1967D2;\n",
              "      height: 32px;\n",
              "      padding: 0 0 0 0;\n",
              "      width: 32px;\n",
              "    }\n",
              "\n",
              "    .colab-df-convert:hover {\n",
              "      background-color: #E2EBFA;\n",
              "      box-shadow: 0px 1px 2px rgba(60, 64, 67, 0.3), 0px 1px 3px 1px rgba(60, 64, 67, 0.15);\n",
              "      fill: #174EA6;\n",
              "    }\n",
              "\n",
              "    [theme=dark] .colab-df-convert {\n",
              "      background-color: #3B4455;\n",
              "      fill: #D2E3FC;\n",
              "    }\n",
              "\n",
              "    [theme=dark] .colab-df-convert:hover {\n",
              "      background-color: #434B5C;\n",
              "      box-shadow: 0px 1px 3px 1px rgba(0, 0, 0, 0.15);\n",
              "      filter: drop-shadow(0px 1px 2px rgba(0, 0, 0, 0.3));\n",
              "      fill: #FFFFFF;\n",
              "    }\n",
              "  </style>\n",
              "\n",
              "      <script>\n",
              "        const buttonEl =\n",
              "          document.querySelector('#df-77424a88-9896-46d9-9283-9a3f11163328 button.colab-df-convert');\n",
              "        buttonEl.style.display =\n",
              "          google.colab.kernel.accessAllowed ? 'block' : 'none';\n",
              "\n",
              "        async function convertToInteractive(key) {\n",
              "          const element = document.querySelector('#df-77424a88-9896-46d9-9283-9a3f11163328');\n",
              "          const dataTable =\n",
              "            await google.colab.kernel.invokeFunction('convertToInteractive',\n",
              "                                                     [key], {});\n",
              "          if (!dataTable) return;\n",
              "\n",
              "          const docLinkHtml = 'Like what you see? Visit the ' +\n",
              "            '<a target=\"_blank\" href=https://colab.research.google.com/notebooks/data_table.ipynb>data table notebook</a>'\n",
              "            + ' to learn more about interactive tables.';\n",
              "          element.innerHTML = '';\n",
              "          dataTable['output_type'] = 'display_data';\n",
              "          await google.colab.output.renderOutput(dataTable, element);\n",
              "          const docLink = document.createElement('div');\n",
              "          docLink.innerHTML = docLinkHtml;\n",
              "          element.appendChild(docLink);\n",
              "        }\n",
              "      </script>\n",
              "    </div>\n",
              "  </div>\n",
              "  "
            ]
          },
          "metadata": {},
          "execution_count": 38
        }
      ],
      "source": [
        "# The code below is an illustration on how to sample data on train and validation samples.\n",
        "# You could use another library or a built-in function to perform sampling.\n",
        "\n",
        "from sklearn.model_selection import train_test_split\n",
        "train, validation = train_test_split(prepro_data, test_size=0.2, random_state=12345) \n",
        "\n",
        "#train.head()\n",
        "train.sample(2)"
      ]
    },
    {
      "cell_type": "markdown",
      "id": "3396591b",
      "metadata": {
        "id": "3396591b"
      },
      "source": [
        "## Prebuilt Models\n",
        "***\n",
        "\n",
        "### **Linear Regression Model**\n",
        "\n",
        "\n",
        "> The [sk-learn library](https://scikit-learn.org/stable/index.html ) offers more advanced models.\n"
      ]
    },
    {
      "cell_type": "code",
      "execution_count": 39,
      "id": "0833fb2d-554c-4e3b-933c-9a35828fd912",
      "metadata": {
        "collapsed": true,
        "id": "0833fb2d-554c-4e3b-933c-9a35828fd912"
      },
      "outputs": [],
      "source": [
        "from sklearn import linear_model\n",
        "\n",
        "chosen_columns = ['Age', 'Salary','MinGift', 'GaveLastYear','Woman', 'AmtLastYear', 'NbActivities', 'Frequency'] + dummies_name\n",
        "X_train = train[chosen_columns] \n",
        "Y_train = train['AmtThisYear']\n",
        "X_valid = validation[chosen_columns] \n",
        "Y_valid = validation['AmtThisYear']\n",
        "\n",
        "regr = linear_model.LinearRegression()\n",
        "regr.fit(X_train,Y_train)\n",
        "regr_predict=regr.predict(X_valid)"
      ]
    },
    {
      "cell_type": "code",
      "execution_count": 40,
      "id": "d47987df",
      "metadata": {
        "collapsed": true,
        "id": "d47987df",
        "outputId": "3888b34f-f507-4816-936d-cc4c1fc51301",
        "colab": {
          "base_uri": "https://localhost:8080/"
        }
      },
      "outputs": [
        {
          "output_type": "stream",
          "name": "stdout",
          "text": [
            "13.162623359375\n",
            "7728.346519718628\n",
            "87.91101478039386\n"
          ]
        }
      ],
      "source": [
        "#you can change the criteria\n",
        "\n",
        "import numpy as np\n",
        "from sklearn import metrics\n",
        "#MAE\n",
        "print(metrics.mean_absolute_error(Y_valid,regr_predict))\n",
        "#MSE\n",
        "print(metrics.mean_squared_error(Y_valid,regr_predict))\n",
        "#RMSE\n",
        "print(np.sqrt(metrics.mean_squared_error(Y_valid,regr_predict)))"
      ]
    },
    {
      "cell_type": "markdown",
      "id": "12c58819",
      "metadata": {
        "id": "12c58819"
      },
      "source": [
        "## **Regression Tree Model**"
      ]
    },
    {
      "cell_type": "code",
      "execution_count": 41,
      "id": "7fa631af",
      "metadata": {
        "id": "7fa631af"
      },
      "outputs": [],
      "source": [
        "from sklearn.tree import DecisionTreeRegressor\n",
        "\n",
        "DT_model = DecisionTreeRegressor(max_depth=5).fit(X_train,Y_train)\n",
        "\n",
        "DT_predict = DT_model.predict(X_valid) #Predictions on Testing data\n"
      ]
    },
    {
      "cell_type": "code",
      "execution_count": 42,
      "id": "459eb80e",
      "metadata": {
        "collapsed": true,
        "id": "459eb80e",
        "outputId": "0fa3b20a-bc44-4aed-b7d5-75140c747416",
        "colab": {
          "base_uri": "https://localhost:8080/"
        }
      },
      "outputs": [
        {
          "output_type": "stream",
          "name": "stdout",
          "text": [
            "13.279407263678419\n",
            "7732.159292550362\n",
            "87.93269751662554\n"
          ]
        }
      ],
      "source": [
        "#you can change the criteria\n",
        "#MAE\n",
        "print(metrics.mean_absolute_error(Y_valid,DT_predict))\n",
        "#MSE\n",
        "print(metrics.mean_squared_error(Y_valid,DT_predict))\n",
        "#RMSE\n",
        "print(np.sqrt(metrics.mean_squared_error(Y_valid,DT_predict)))"
      ]
    },
    {
      "cell_type": "markdown",
      "source": [
        "## Forest Regressor"
      ],
      "metadata": {
        "id": "TY6U94PJ4oC7"
      },
      "id": "TY6U94PJ4oC7"
    },
    {
      "cell_type": "code",
      "source": [
        "from sklearn.ensemble import RandomForestRegressor\n",
        "\n",
        "RF_model = RandomForestRegressor(max_depth=5, random_state=12345)\n",
        "RF_model.fit(X_train, Y_train)\n",
        "\n",
        "RF_predict = RF_model.predict(X_valid)"
      ],
      "metadata": {
        "id": "9TAwOxGN4lkD"
      },
      "id": "9TAwOxGN4lkD",
      "execution_count": 43,
      "outputs": []
    },
    {
      "cell_type": "code",
      "source": [
        "#MAE\n",
        "print(metrics.mean_absolute_error(Y_valid,RF_predict))\n",
        "#MSE\n",
        "print(metrics.mean_squared_error(Y_valid,RF_predict))\n",
        "#RMSE\n",
        "print(np.sqrt(metrics.mean_squared_error(Y_valid,RF_predict)))"
      ],
      "metadata": {
        "colab": {
          "base_uri": "https://localhost:8080/"
        },
        "id": "hH5pdO2L5djd",
        "outputId": "d986e0e4-0660-4ec6-ff34-8328248c13ae"
      },
      "id": "hH5pdO2L5djd",
      "execution_count": 44,
      "outputs": [
        {
          "output_type": "stream",
          "name": "stdout",
          "text": [
            "13.219706484442629\n",
            "7728.296780473448\n",
            "87.91073188452846\n"
          ]
        }
      ]
    },
    {
      "cell_type": "code",
      "source": [
        "## SGDRegressor"
      ],
      "metadata": {
        "id": "4OOTQlXbXWW6"
      },
      "id": "4OOTQlXbXWW6",
      "execution_count": 45,
      "outputs": []
    },
    {
      "cell_type": "code",
      "source": [
        "from sklearn.linear_model import SGDRegressor\n",
        "sgd = SGDRegressor(max_iter=1000, tol=1e-3)\n",
        "\n",
        "sgd.fit(X_train, Y_train)\n",
        "\n",
        "sgd_predict = RF_model.predict(X_valid)"
      ],
      "metadata": {
        "id": "YRpa-KPOEw9g"
      },
      "id": "YRpa-KPOEw9g",
      "execution_count": 46,
      "outputs": []
    },
    {
      "cell_type": "code",
      "source": [
        "#MAE\n",
        "print(metrics.mean_absolute_error(Y_valid,sgd_predict))\n",
        "#MSE\n",
        "print(metrics.mean_squared_error(Y_valid,sgd_predict))\n",
        "#RMSE\n",
        "print(np.sqrt(metrics.mean_squared_error(Y_valid,sgd_predict)))"
      ],
      "metadata": {
        "id": "3Ov9KO5_BU-P",
        "colab": {
          "base_uri": "https://localhost:8080/"
        },
        "outputId": "d00ef2e7-c5c2-4bff-838e-c1aa645a3b76"
      },
      "id": "3Ov9KO5_BU-P",
      "execution_count": 47,
      "outputs": [
        {
          "output_type": "stream",
          "name": "stdout",
          "text": [
            "13.219706484442629\n",
            "7728.296780473448\n",
            "87.91073188452846\n"
          ]
        }
      ]
    },
    {
      "cell_type": "markdown",
      "id": "b8d6ab43",
      "metadata": {
        "id": "b8d6ab43"
      },
      "source": [
        "### **Other models may also be helpful for this game**\n",
        "\n",
        "Reference: https://scikit-learn.org/stable/supervised_learning.html\n",
        "\n",
        "***\n"
      ]
    },
    {
      "cell_type": "markdown",
      "id": "20aed00e",
      "metadata": {
        "id": "20aed00e"
      },
      "source": [
        "## Scoring New Data\n",
        "\n",
        "### Prepare data for scoring"
      ]
    },
    {
      "cell_type": "code",
      "execution_count": 48,
      "id": "0d04c91b",
      "metadata": {
        "id": "0d04c91b"
      },
      "outputs": [],
      "source": [
        "data3 = sas_session.sasdata2dataframe(\n",
        "table='score_rd1',\n",
        "libref='cortex'\n",
        ")\n",
        "data4 = sas_session.sasdata2dataframe(\n",
        "table='score',\n",
        "libref='cortex'\n",
        ")"
      ]
    },
    {
      "cell_type": "code",
      "source": [
        "data5 = sas_session.sasdata2dataframe(\n",
        "table='score',\n",
        "libref='cortex'\n",
        ")\n",
        "data6 = sas_session.sasdata2dataframe(\n",
        "table='score_rd2_contact',\n",
        "libref='cortex'\n",
        ")"
      ],
      "metadata": {
        "id": "M7ObsmWBLY_C"
      },
      "id": "M7ObsmWBLY_C",
      "execution_count": 49,
      "outputs": []
    },
    {
      "cell_type": "markdown",
      "id": "e961f185-38c6-4d2a-b1f5-1b142c9b6d30",
      "metadata": {
        "id": "e961f185-38c6-4d2a-b1f5-1b142c9b6d30"
      },
      "source": [
        " ### Score new data based on your champion model\n",
        " \n",
        "> Pick your champion model from previous steps and use it to predict next year donations. \n",
        " \n",
        "> In this case, the linear regression model performed better than the regression tree based on the MSE criterion."
      ]
    },
    {
      "cell_type": "code",
      "execution_count": 50,
      "id": "f6cf3e45",
      "metadata": {
        "collapsed": true,
        "id": "f6cf3e45"
      },
      "outputs": [],
      "source": [
        "scoring_data = pd.merge(data3, data4, on=[\"ID\"],how=\"right\")\n",
        "\n",
        "# Perform the same strategy for handling missing values for the score dataset.\n",
        "# In this case, we will only replace missing values of the MinGift variable.\n",
        "\n",
        "#scoring_data[['MinGift']] = scoring_data[['MinGift']].fillna(value=0)\n",
        "\n",
        "scoring_data = deal_with_nulls(scoring_data)\n",
        "scoring_data = one_hot_encoding(scoring_data,['Education', 'City'])\n",
        "scoring_data = scalate(scoring_data, numeric)\n"
      ]
    },
    {
      "cell_type": "code",
      "source": [
        "scoring_data.info()"
      ],
      "metadata": {
        "colab": {
          "base_uri": "https://localhost:8080/"
        },
        "id": "jHzVUf9ncmZ8",
        "outputId": "a4f92f97-198a-4e48-9f56-3a4ae9a032b1"
      },
      "id": "jHzVUf9ncmZ8",
      "execution_count": 51,
      "outputs": [
        {
          "output_type": "stream",
          "name": "stdout",
          "text": [
            "<class 'pandas.core.frame.DataFrame'>\n",
            "Int64Index: 1000000 entries, 0 to 999999\n",
            "Data columns (total 24 columns):\n",
            " #   Column                          Non-Null Count    Dtype  \n",
            "---  ------                          --------------    -----  \n",
            " 0   ID                              1000000 non-null  float64\n",
            " 1   GaveLastYear                    1000000 non-null  float64\n",
            " 2   AmtLastYear                     1000000 non-null  float64\n",
            " 3   LastName                        999977 non-null   object \n",
            " 4   FirstName                       999996 non-null   object \n",
            " 5   Woman                           1000000 non-null  float64\n",
            " 6   Age                             1000000 non-null  float64\n",
            " 7   Salary                          1000000 non-null  float64\n",
            " 8   SeniorList                      1000000 non-null  float64\n",
            " 9   NbActivities                    1000000 non-null  float64\n",
            " 10  Referrals                       1000000 non-null  float64\n",
            " 11  Recency                         1000000 non-null  float64\n",
            " 12  Frequency                       1000000 non-null  float64\n",
            " 13  Seniority                       1000000 non-null  float64\n",
            " 14  TotalGift                       1000000 non-null  float64\n",
            " 15  MinGift                         1000000 non-null  float64\n",
            " 16  MaxGift                         1000000 non-null  float64\n",
            " 17  Education_Elementary            1000000 non-null  uint8  \n",
            " 18  Education_High School           1000000 non-null  uint8  \n",
            " 19  Education_University / College  1000000 non-null  uint8  \n",
            " 20  City_City                       1000000 non-null  uint8  \n",
            " 21  City_Downtown                   1000000 non-null  uint8  \n",
            " 22  City_Rural                      1000000 non-null  uint8  \n",
            " 23  City_Suburban                   1000000 non-null  uint8  \n",
            "dtypes: float64(15), object(2), uint8(7)\n",
            "memory usage: 176.3+ MB\n"
          ]
        }
      ]
    },
    {
      "cell_type": "code",
      "execution_count": 52,
      "id": "05b14516",
      "metadata": {
        "collapsed": true,
        "id": "05b14516",
        "outputId": "bb5ff24b-c032-493f-c207-4c6d18e6a145",
        "colab": {
          "base_uri": "https://localhost:8080/",
          "height": 317
        }
      },
      "outputs": [
        {
          "output_type": "execute_result",
          "data": {
            "text/plain": [
              "               ID  GaveLastYear  AmtLastYear      LastName FirstName  Woman  \\\n",
              "459485  2459486.0           1.0          0.5          IULO     LEANA    1.0   \n",
              "420890  2420891.0           1.0          0.9          BEIL  MARGARET    1.0   \n",
              "404784  2404785.0           1.0          0.1        DENNEY   BRIANNA    1.0   \n",
              "478470  2478471.0           1.0          0.4          WEBB   PHYLLIS    1.0   \n",
              "631673  2631674.0           1.0          1.0  KOPPENHEFFER  JENNIFER    1.0   \n",
              "\n",
              "             Age  Salary  SeniorList  NbActivities  ...  MinGift  MaxGift  \\\n",
              "459485  0.270270  0.2220         8.0           0.3  ...   0.0075      0.5   \n",
              "420890  0.283784  0.4168        10.0           0.5  ...   0.7000      0.9   \n",
              "404784  0.297297  0.7696         7.0           0.3  ...   0.1000      0.1   \n",
              "478470  0.594595  0.8064        10.0           0.1  ...   0.0010      0.4   \n",
              "631673  0.243243  0.7460         9.0           0.3  ...   0.0500      1.0   \n",
              "\n",
              "        Education_Elementary  Education_High School  \\\n",
              "459485                     0                      1   \n",
              "420890                     1                      0   \n",
              "404784                     0                      0   \n",
              "478470                     0                      0   \n",
              "631673                     0                      0   \n",
              "\n",
              "        Education_University / College  City_City  City_Downtown  City_Rural  \\\n",
              "459485                               0          0              1           0   \n",
              "420890                               0          0              1           0   \n",
              "404784                               1          0              1           0   \n",
              "478470                               1          1              0           0   \n",
              "631673                               1          1              0           0   \n",
              "\n",
              "        City_Suburban   Prediction  \n",
              "459485              0  2364.880858  \n",
              "420890              0   888.944758  \n",
              "404784              0   652.848587  \n",
              "478470              0   640.032358  \n",
              "631673              0   629.818518  \n",
              "\n",
              "[5 rows x 25 columns]"
            ],
            "text/html": [
              "\n",
              "  <div id=\"df-fbc115d2-09e3-4814-92eb-befb73a5470c\">\n",
              "    <div class=\"colab-df-container\">\n",
              "      <div>\n",
              "<style scoped>\n",
              "    .dataframe tbody tr th:only-of-type {\n",
              "        vertical-align: middle;\n",
              "    }\n",
              "\n",
              "    .dataframe tbody tr th {\n",
              "        vertical-align: top;\n",
              "    }\n",
              "\n",
              "    .dataframe thead th {\n",
              "        text-align: right;\n",
              "    }\n",
              "</style>\n",
              "<table border=\"1\" class=\"dataframe\">\n",
              "  <thead>\n",
              "    <tr style=\"text-align: right;\">\n",
              "      <th></th>\n",
              "      <th>ID</th>\n",
              "      <th>GaveLastYear</th>\n",
              "      <th>AmtLastYear</th>\n",
              "      <th>LastName</th>\n",
              "      <th>FirstName</th>\n",
              "      <th>Woman</th>\n",
              "      <th>Age</th>\n",
              "      <th>Salary</th>\n",
              "      <th>SeniorList</th>\n",
              "      <th>NbActivities</th>\n",
              "      <th>...</th>\n",
              "      <th>MinGift</th>\n",
              "      <th>MaxGift</th>\n",
              "      <th>Education_Elementary</th>\n",
              "      <th>Education_High School</th>\n",
              "      <th>Education_University / College</th>\n",
              "      <th>City_City</th>\n",
              "      <th>City_Downtown</th>\n",
              "      <th>City_Rural</th>\n",
              "      <th>City_Suburban</th>\n",
              "      <th>Prediction</th>\n",
              "    </tr>\n",
              "  </thead>\n",
              "  <tbody>\n",
              "    <tr>\n",
              "      <th>459485</th>\n",
              "      <td>2459486.0</td>\n",
              "      <td>1.0</td>\n",
              "      <td>0.5</td>\n",
              "      <td>IULO</td>\n",
              "      <td>LEANA</td>\n",
              "      <td>1.0</td>\n",
              "      <td>0.270270</td>\n",
              "      <td>0.2220</td>\n",
              "      <td>8.0</td>\n",
              "      <td>0.3</td>\n",
              "      <td>...</td>\n",
              "      <td>0.0075</td>\n",
              "      <td>0.5</td>\n",
              "      <td>0</td>\n",
              "      <td>1</td>\n",
              "      <td>0</td>\n",
              "      <td>0</td>\n",
              "      <td>1</td>\n",
              "      <td>0</td>\n",
              "      <td>0</td>\n",
              "      <td>2364.880858</td>\n",
              "    </tr>\n",
              "    <tr>\n",
              "      <th>420890</th>\n",
              "      <td>2420891.0</td>\n",
              "      <td>1.0</td>\n",
              "      <td>0.9</td>\n",
              "      <td>BEIL</td>\n",
              "      <td>MARGARET</td>\n",
              "      <td>1.0</td>\n",
              "      <td>0.283784</td>\n",
              "      <td>0.4168</td>\n",
              "      <td>10.0</td>\n",
              "      <td>0.5</td>\n",
              "      <td>...</td>\n",
              "      <td>0.7000</td>\n",
              "      <td>0.9</td>\n",
              "      <td>1</td>\n",
              "      <td>0</td>\n",
              "      <td>0</td>\n",
              "      <td>0</td>\n",
              "      <td>1</td>\n",
              "      <td>0</td>\n",
              "      <td>0</td>\n",
              "      <td>888.944758</td>\n",
              "    </tr>\n",
              "    <tr>\n",
              "      <th>404784</th>\n",
              "      <td>2404785.0</td>\n",
              "      <td>1.0</td>\n",
              "      <td>0.1</td>\n",
              "      <td>DENNEY</td>\n",
              "      <td>BRIANNA</td>\n",
              "      <td>1.0</td>\n",
              "      <td>0.297297</td>\n",
              "      <td>0.7696</td>\n",
              "      <td>7.0</td>\n",
              "      <td>0.3</td>\n",
              "      <td>...</td>\n",
              "      <td>0.1000</td>\n",
              "      <td>0.1</td>\n",
              "      <td>0</td>\n",
              "      <td>0</td>\n",
              "      <td>1</td>\n",
              "      <td>0</td>\n",
              "      <td>1</td>\n",
              "      <td>0</td>\n",
              "      <td>0</td>\n",
              "      <td>652.848587</td>\n",
              "    </tr>\n",
              "    <tr>\n",
              "      <th>478470</th>\n",
              "      <td>2478471.0</td>\n",
              "      <td>1.0</td>\n",
              "      <td>0.4</td>\n",
              "      <td>WEBB</td>\n",
              "      <td>PHYLLIS</td>\n",
              "      <td>1.0</td>\n",
              "      <td>0.594595</td>\n",
              "      <td>0.8064</td>\n",
              "      <td>10.0</td>\n",
              "      <td>0.1</td>\n",
              "      <td>...</td>\n",
              "      <td>0.0010</td>\n",
              "      <td>0.4</td>\n",
              "      <td>0</td>\n",
              "      <td>0</td>\n",
              "      <td>1</td>\n",
              "      <td>1</td>\n",
              "      <td>0</td>\n",
              "      <td>0</td>\n",
              "      <td>0</td>\n",
              "      <td>640.032358</td>\n",
              "    </tr>\n",
              "    <tr>\n",
              "      <th>631673</th>\n",
              "      <td>2631674.0</td>\n",
              "      <td>1.0</td>\n",
              "      <td>1.0</td>\n",
              "      <td>KOPPENHEFFER</td>\n",
              "      <td>JENNIFER</td>\n",
              "      <td>1.0</td>\n",
              "      <td>0.243243</td>\n",
              "      <td>0.7460</td>\n",
              "      <td>9.0</td>\n",
              "      <td>0.3</td>\n",
              "      <td>...</td>\n",
              "      <td>0.0500</td>\n",
              "      <td>1.0</td>\n",
              "      <td>0</td>\n",
              "      <td>0</td>\n",
              "      <td>1</td>\n",
              "      <td>1</td>\n",
              "      <td>0</td>\n",
              "      <td>0</td>\n",
              "      <td>0</td>\n",
              "      <td>629.818518</td>\n",
              "    </tr>\n",
              "  </tbody>\n",
              "</table>\n",
              "<p>5 rows × 25 columns</p>\n",
              "</div>\n",
              "      <button class=\"colab-df-convert\" onclick=\"convertToInteractive('df-fbc115d2-09e3-4814-92eb-befb73a5470c')\"\n",
              "              title=\"Convert this dataframe to an interactive table.\"\n",
              "              style=\"display:none;\">\n",
              "        \n",
              "  <svg xmlns=\"http://www.w3.org/2000/svg\" height=\"24px\"viewBox=\"0 0 24 24\"\n",
              "       width=\"24px\">\n",
              "    <path d=\"M0 0h24v24H0V0z\" fill=\"none\"/>\n",
              "    <path d=\"M18.56 5.44l.94 2.06.94-2.06 2.06-.94-2.06-.94-.94-2.06-.94 2.06-2.06.94zm-11 1L8.5 8.5l.94-2.06 2.06-.94-2.06-.94L8.5 2.5l-.94 2.06-2.06.94zm10 10l.94 2.06.94-2.06 2.06-.94-2.06-.94-.94-2.06-.94 2.06-2.06.94z\"/><path d=\"M17.41 7.96l-1.37-1.37c-.4-.4-.92-.59-1.43-.59-.52 0-1.04.2-1.43.59L10.3 9.45l-7.72 7.72c-.78.78-.78 2.05 0 2.83L4 21.41c.39.39.9.59 1.41.59.51 0 1.02-.2 1.41-.59l7.78-7.78 2.81-2.81c.8-.78.8-2.07 0-2.86zM5.41 20L4 18.59l7.72-7.72 1.47 1.35L5.41 20z\"/>\n",
              "  </svg>\n",
              "      </button>\n",
              "      \n",
              "  <style>\n",
              "    .colab-df-container {\n",
              "      display:flex;\n",
              "      flex-wrap:wrap;\n",
              "      gap: 12px;\n",
              "    }\n",
              "\n",
              "    .colab-df-convert {\n",
              "      background-color: #E8F0FE;\n",
              "      border: none;\n",
              "      border-radius: 50%;\n",
              "      cursor: pointer;\n",
              "      display: none;\n",
              "      fill: #1967D2;\n",
              "      height: 32px;\n",
              "      padding: 0 0 0 0;\n",
              "      width: 32px;\n",
              "    }\n",
              "\n",
              "    .colab-df-convert:hover {\n",
              "      background-color: #E2EBFA;\n",
              "      box-shadow: 0px 1px 2px rgba(60, 64, 67, 0.3), 0px 1px 3px 1px rgba(60, 64, 67, 0.15);\n",
              "      fill: #174EA6;\n",
              "    }\n",
              "\n",
              "    [theme=dark] .colab-df-convert {\n",
              "      background-color: #3B4455;\n",
              "      fill: #D2E3FC;\n",
              "    }\n",
              "\n",
              "    [theme=dark] .colab-df-convert:hover {\n",
              "      background-color: #434B5C;\n",
              "      box-shadow: 0px 1px 3px 1px rgba(0, 0, 0, 0.15);\n",
              "      filter: drop-shadow(0px 1px 2px rgba(0, 0, 0, 0.3));\n",
              "      fill: #FFFFFF;\n",
              "    }\n",
              "  </style>\n",
              "\n",
              "      <script>\n",
              "        const buttonEl =\n",
              "          document.querySelector('#df-fbc115d2-09e3-4814-92eb-befb73a5470c button.colab-df-convert');\n",
              "        buttonEl.style.display =\n",
              "          google.colab.kernel.accessAllowed ? 'block' : 'none';\n",
              "\n",
              "        async function convertToInteractive(key) {\n",
              "          const element = document.querySelector('#df-fbc115d2-09e3-4814-92eb-befb73a5470c');\n",
              "          const dataTable =\n",
              "            await google.colab.kernel.invokeFunction('convertToInteractive',\n",
              "                                                     [key], {});\n",
              "          if (!dataTable) return;\n",
              "\n",
              "          const docLinkHtml = 'Like what you see? Visit the ' +\n",
              "            '<a target=\"_blank\" href=https://colab.research.google.com/notebooks/data_table.ipynb>data table notebook</a>'\n",
              "            + ' to learn more about interactive tables.';\n",
              "          element.innerHTML = '';\n",
              "          dataTable['output_type'] = 'display_data';\n",
              "          await google.colab.output.renderOutput(dataTable, element);\n",
              "          const docLink = document.createElement('div');\n",
              "          docLink.innerHTML = docLinkHtml;\n",
              "          element.appendChild(docLink);\n",
              "        }\n",
              "      </script>\n",
              "    </div>\n",
              "  </div>\n",
              "  "
            ]
          },
          "metadata": {},
          "execution_count": 52
        }
      ],
      "source": [
        "# In this case, based on MSE (Mean Squared Error) criterion,\n",
        "# the linear regression model performed better than the regression tree.\n",
        "\n",
        "X = scoring_data[chosen_columns]\n",
        "RF_predict_end=RF_model.predict(X)\n",
        "\n",
        "scoring_data['Prediction'] = RF_predict_end\n",
        "scoring_data.sort_values(by=['Prediction'], inplace=True,ascending=False)\n",
        "scoring_data.head()"
      ]
    },
    {
      "cell_type": "markdown",
      "id": "d86a874a",
      "metadata": {
        "id": "d86a874a"
      },
      "source": [
        "## Exporting Results to a CSV File"
      ]
    },
    {
      "cell_type": "code",
      "execution_count": 53,
      "id": "669e8465",
      "metadata": {
        "id": "669e8465"
      },
      "outputs": [],
      "source": [
        "Result= scoring_data[['ID']]\n",
        "Result.to_csv('Round1_Output9.csv', index=False)"
      ]
    },
    {
      "cell_type": "code",
      "execution_count": 54,
      "id": "21e1beed-b3ee-4c65-af88-fdaa5b5f0ce7",
      "metadata": {
        "id": "21e1beed-b3ee-4c65-af88-fdaa5b5f0ce7"
      },
      "outputs": [],
      "source": [
        "# Define your cutoff and choose a number of rows to submit to the leaderboard\n",
        "NB = 60000\n",
        "submission = Result.head(NB)\n",
        "submission.to_csv('Round1 Output9.csv', index=False)"
      ]
    },
    {
      "cell_type": "code",
      "source": [],
      "metadata": {
        "id": "5OQX00zuMLpc"
      },
      "id": "5OQX00zuMLpc",
      "execution_count": 54,
      "outputs": []
    },
    {
      "cell_type": "code",
      "execution_count": 55,
      "id": "ad8ae500-d118-4ffe-9db4-616bf09b9d85",
      "metadata": {
        "id": "ad8ae500-d118-4ffe-9db4-616bf09b9d85"
      },
      "outputs": [],
      "source": [
        "# Reminder: Please note that you need only one column (the list of donors' IDs) to submit to the leaderboard.\n"
      ]
    },
    {
      "cell_type": "code",
      "execution_count": 56,
      "id": "3105759d",
      "metadata": {
        "id": "3105759d",
        "colab": {
          "base_uri": "https://localhost:8080/"
        },
        "outputId": "784fa0a6-0bf5-4758-c2ed-aa7fa985c93f"
      },
      "outputs": [
        {
          "output_type": "stream",
          "name": "stdout",
          "text": [
            "ID\n",
            "2459486.0\n",
            "2420891.0\n",
            "2404785.0\n",
            "2478471.0\n",
            "2631674.0\n",
            "2804813.0\n",
            "2735060.0\n",
            "2689727.0\n",
            "2766830.0\n"
          ]
        }
      ],
      "source": [
        "!head Round1\\ Output9.csv"
      ]
    }
  ],
  "metadata": {
    "kernelspec": {
      "display_name": "Python 3",
      "language": "python",
      "name": "python3"
    },
    "language_info": {
      "codemirror_mode": {
        "name": "ipython",
        "version": 3
      },
      "file_extension": ".py",
      "mimetype": "text/x-python",
      "name": "python",
      "nbconvert_exporter": "python",
      "pygments_lexer": "ipython3",
      "version": "3.8.8"
    },
    "colab": {
      "provenance": [],
      "collapsed_sections": [
        "b8d6ab43"
      ]
    }
  },
  "nbformat": 4,
  "nbformat_minor": 5
}